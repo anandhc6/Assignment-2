{
  "nbformat": 4,
  "nbformat_minor": 0,
  "metadata": {
    "colab": {
      "name": "PartA_Q4,5.ipynb",
      "provenance": [],
      "collapsed_sections": [],
      "include_colab_link": true
    },
    "kernelspec": {
      "name": "python3",
      "display_name": "Python 3"
    },
    "language_info": {
      "name": "python"
    }
  },
  "cells": [
    {
      "cell_type": "markdown",
      "metadata": {
        "id": "view-in-github",
        "colab_type": "text"
      },
      "source": [
        "<a href=\"https://colab.research.google.com/github/anandhc6/Assignment-2/blob/main/PartA_Q4%2C5.ipynb\" target=\"_parent\"><img src=\"https://colab.research.google.com/assets/colab-badge.svg\" alt=\"Open In Colab\"/></a>"
      ]
    },
    {
      "cell_type": "code",
      "execution_count": null,
      "metadata": {
        "id": "HAFVnuuvQFJJ"
      },
      "outputs": [],
      "source": [
        "# Unzipping the dataset\n",
        "\n",
        "!unzip -q nature_12K.zip"
      ]
    },
    {
      "cell_type": "code",
      "execution_count": null,
      "metadata": {
        "id": "1WaWNMqHdt1w",
        "colab": {
          "base_uri": "https://localhost:8080/"
        },
        "outputId": "7846183a-703c-476c-8898-44f894196dcc"
      },
      "outputs": [
        {
          "output_type": "stream",
          "name": "stdout",
          "text": [
            "Collecting wandb\n",
            "  Downloading wandb-0.12.11-py2.py3-none-any.whl (1.7 MB)\n",
            "\u001b[?25l\r\u001b[K     |▏                               | 10 kB 20.1 MB/s eta 0:00:01\r\u001b[K     |▍                               | 20 kB 10.7 MB/s eta 0:00:01\r\u001b[K     |▋                               | 30 kB 9.3 MB/s eta 0:00:01\r\u001b[K     |▊                               | 40 kB 8.2 MB/s eta 0:00:01\r\u001b[K     |█                               | 51 kB 4.3 MB/s eta 0:00:01\r\u001b[K     |█▏                              | 61 kB 5.0 MB/s eta 0:00:01\r\u001b[K     |█▎                              | 71 kB 5.4 MB/s eta 0:00:01\r\u001b[K     |█▌                              | 81 kB 5.7 MB/s eta 0:00:01\r\u001b[K     |█▊                              | 92 kB 6.3 MB/s eta 0:00:01\r\u001b[K     |█▉                              | 102 kB 4.9 MB/s eta 0:00:01\r\u001b[K     |██                              | 112 kB 4.9 MB/s eta 0:00:01\r\u001b[K     |██▎                             | 122 kB 4.9 MB/s eta 0:00:01\r\u001b[K     |██▍                             | 133 kB 4.9 MB/s eta 0:00:01\r\u001b[K     |██▋                             | 143 kB 4.9 MB/s eta 0:00:01\r\u001b[K     |██▉                             | 153 kB 4.9 MB/s eta 0:00:01\r\u001b[K     |███                             | 163 kB 4.9 MB/s eta 0:00:01\r\u001b[K     |███▏                            | 174 kB 4.9 MB/s eta 0:00:01\r\u001b[K     |███▍                            | 184 kB 4.9 MB/s eta 0:00:01\r\u001b[K     |███▋                            | 194 kB 4.9 MB/s eta 0:00:01\r\u001b[K     |███▊                            | 204 kB 4.9 MB/s eta 0:00:01\r\u001b[K     |████                            | 215 kB 4.9 MB/s eta 0:00:01\r\u001b[K     |████▏                           | 225 kB 4.9 MB/s eta 0:00:01\r\u001b[K     |████▎                           | 235 kB 4.9 MB/s eta 0:00:01\r\u001b[K     |████▌                           | 245 kB 4.9 MB/s eta 0:00:01\r\u001b[K     |████▊                           | 256 kB 4.9 MB/s eta 0:00:01\r\u001b[K     |████▉                           | 266 kB 4.9 MB/s eta 0:00:01\r\u001b[K     |█████                           | 276 kB 4.9 MB/s eta 0:00:01\r\u001b[K     |█████▎                          | 286 kB 4.9 MB/s eta 0:00:01\r\u001b[K     |█████▌                          | 296 kB 4.9 MB/s eta 0:00:01\r\u001b[K     |█████▋                          | 307 kB 4.9 MB/s eta 0:00:01\r\u001b[K     |█████▉                          | 317 kB 4.9 MB/s eta 0:00:01\r\u001b[K     |██████                          | 327 kB 4.9 MB/s eta 0:00:01\r\u001b[K     |██████▏                         | 337 kB 4.9 MB/s eta 0:00:01\r\u001b[K     |██████▍                         | 348 kB 4.9 MB/s eta 0:00:01\r\u001b[K     |██████▋                         | 358 kB 4.9 MB/s eta 0:00:01\r\u001b[K     |██████▊                         | 368 kB 4.9 MB/s eta 0:00:01\r\u001b[K     |███████                         | 378 kB 4.9 MB/s eta 0:00:01\r\u001b[K     |███████▏                        | 389 kB 4.9 MB/s eta 0:00:01\r\u001b[K     |███████▎                        | 399 kB 4.9 MB/s eta 0:00:01\r\u001b[K     |███████▌                        | 409 kB 4.9 MB/s eta 0:00:01\r\u001b[K     |███████▊                        | 419 kB 4.9 MB/s eta 0:00:01\r\u001b[K     |███████▉                        | 430 kB 4.9 MB/s eta 0:00:01\r\u001b[K     |████████                        | 440 kB 4.9 MB/s eta 0:00:01\r\u001b[K     |████████▎                       | 450 kB 4.9 MB/s eta 0:00:01\r\u001b[K     |████████▌                       | 460 kB 4.9 MB/s eta 0:00:01\r\u001b[K     |████████▋                       | 471 kB 4.9 MB/s eta 0:00:01\r\u001b[K     |████████▉                       | 481 kB 4.9 MB/s eta 0:00:01\r\u001b[K     |█████████                       | 491 kB 4.9 MB/s eta 0:00:01\r\u001b[K     |█████████▏                      | 501 kB 4.9 MB/s eta 0:00:01\r\u001b[K     |█████████▍                      | 512 kB 4.9 MB/s eta 0:00:01\r\u001b[K     |█████████▋                      | 522 kB 4.9 MB/s eta 0:00:01\r\u001b[K     |█████████▊                      | 532 kB 4.9 MB/s eta 0:00:01\r\u001b[K     |██████████                      | 542 kB 4.9 MB/s eta 0:00:01\r\u001b[K     |██████████▏                     | 552 kB 4.9 MB/s eta 0:00:01\r\u001b[K     |██████████▎                     | 563 kB 4.9 MB/s eta 0:00:01\r\u001b[K     |██████████▌                     | 573 kB 4.9 MB/s eta 0:00:01\r\u001b[K     |██████████▊                     | 583 kB 4.9 MB/s eta 0:00:01\r\u001b[K     |███████████                     | 593 kB 4.9 MB/s eta 0:00:01\r\u001b[K     |███████████                     | 604 kB 4.9 MB/s eta 0:00:01\r\u001b[K     |███████████▎                    | 614 kB 4.9 MB/s eta 0:00:01\r\u001b[K     |███████████▌                    | 624 kB 4.9 MB/s eta 0:00:01\r\u001b[K     |███████████▋                    | 634 kB 4.9 MB/s eta 0:00:01\r\u001b[K     |███████████▉                    | 645 kB 4.9 MB/s eta 0:00:01\r\u001b[K     |████████████                    | 655 kB 4.9 MB/s eta 0:00:01\r\u001b[K     |████████████▏                   | 665 kB 4.9 MB/s eta 0:00:01\r\u001b[K     |████████████▍                   | 675 kB 4.9 MB/s eta 0:00:01\r\u001b[K     |████████████▋                   | 686 kB 4.9 MB/s eta 0:00:01\r\u001b[K     |████████████▊                   | 696 kB 4.9 MB/s eta 0:00:01\r\u001b[K     |█████████████                   | 706 kB 4.9 MB/s eta 0:00:01\r\u001b[K     |█████████████▏                  | 716 kB 4.9 MB/s eta 0:00:01\r\u001b[K     |█████████████▍                  | 727 kB 4.9 MB/s eta 0:00:01\r\u001b[K     |█████████████▌                  | 737 kB 4.9 MB/s eta 0:00:01\r\u001b[K     |█████████████▊                  | 747 kB 4.9 MB/s eta 0:00:01\r\u001b[K     |██████████████                  | 757 kB 4.9 MB/s eta 0:00:01\r\u001b[K     |██████████████                  | 768 kB 4.9 MB/s eta 0:00:01\r\u001b[K     |██████████████▎                 | 778 kB 4.9 MB/s eta 0:00:01\r\u001b[K     |██████████████▌                 | 788 kB 4.9 MB/s eta 0:00:01\r\u001b[K     |██████████████▋                 | 798 kB 4.9 MB/s eta 0:00:01\r\u001b[K     |██████████████▉                 | 808 kB 4.9 MB/s eta 0:00:01\r\u001b[K     |███████████████                 | 819 kB 4.9 MB/s eta 0:00:01\r\u001b[K     |███████████████▏                | 829 kB 4.9 MB/s eta 0:00:01\r\u001b[K     |███████████████▍                | 839 kB 4.9 MB/s eta 0:00:01\r\u001b[K     |███████████████▋                | 849 kB 4.9 MB/s eta 0:00:01\r\u001b[K     |███████████████▊                | 860 kB 4.9 MB/s eta 0:00:01\r\u001b[K     |████████████████                | 870 kB 4.9 MB/s eta 0:00:01\r\u001b[K     |████████████████▏               | 880 kB 4.9 MB/s eta 0:00:01\r\u001b[K     |████████████████▍               | 890 kB 4.9 MB/s eta 0:00:01\r\u001b[K     |████████████████▌               | 901 kB 4.9 MB/s eta 0:00:01\r\u001b[K     |████████████████▊               | 911 kB 4.9 MB/s eta 0:00:01\r\u001b[K     |█████████████████               | 921 kB 4.9 MB/s eta 0:00:01\r\u001b[K     |█████████████████               | 931 kB 4.9 MB/s eta 0:00:01\r\u001b[K     |█████████████████▎              | 942 kB 4.9 MB/s eta 0:00:01\r\u001b[K     |█████████████████▌              | 952 kB 4.9 MB/s eta 0:00:01\r\u001b[K     |█████████████████▋              | 962 kB 4.9 MB/s eta 0:00:01\r\u001b[K     |█████████████████▉              | 972 kB 4.9 MB/s eta 0:00:01\r\u001b[K     |██████████████████              | 983 kB 4.9 MB/s eta 0:00:01\r\u001b[K     |██████████████████▏             | 993 kB 4.9 MB/s eta 0:00:01\r\u001b[K     |██████████████████▍             | 1.0 MB 4.9 MB/s eta 0:00:01\r\u001b[K     |██████████████████▋             | 1.0 MB 4.9 MB/s eta 0:00:01\r\u001b[K     |██████████████████▉             | 1.0 MB 4.9 MB/s eta 0:00:01\r\u001b[K     |███████████████████             | 1.0 MB 4.9 MB/s eta 0:00:01\r\u001b[K     |███████████████████▏            | 1.0 MB 4.9 MB/s eta 0:00:01\r\u001b[K     |███████████████████▍            | 1.1 MB 4.9 MB/s eta 0:00:01\r\u001b[K     |███████████████████▌            | 1.1 MB 4.9 MB/s eta 0:00:01\r\u001b[K     |███████████████████▊            | 1.1 MB 4.9 MB/s eta 0:00:01\r\u001b[K     |████████████████████            | 1.1 MB 4.9 MB/s eta 0:00:01\r\u001b[K     |████████████████████            | 1.1 MB 4.9 MB/s eta 0:00:01\r\u001b[K     |████████████████████▎           | 1.1 MB 4.9 MB/s eta 0:00:01\r\u001b[K     |████████████████████▌           | 1.1 MB 4.9 MB/s eta 0:00:01\r\u001b[K     |████████████████████▋           | 1.1 MB 4.9 MB/s eta 0:00:01\r\u001b[K     |████████████████████▉           | 1.1 MB 4.9 MB/s eta 0:00:01\r\u001b[K     |█████████████████████           | 1.1 MB 4.9 MB/s eta 0:00:01\r\u001b[K     |█████████████████████▏          | 1.2 MB 4.9 MB/s eta 0:00:01\r\u001b[K     |█████████████████████▍          | 1.2 MB 4.9 MB/s eta 0:00:01\r\u001b[K     |█████████████████████▋          | 1.2 MB 4.9 MB/s eta 0:00:01\r\u001b[K     |█████████████████████▉          | 1.2 MB 4.9 MB/s eta 0:00:01\r\u001b[K     |██████████████████████          | 1.2 MB 4.9 MB/s eta 0:00:01\r\u001b[K     |██████████████████████▏         | 1.2 MB 4.9 MB/s eta 0:00:01\r\u001b[K     |██████████████████████▍         | 1.2 MB 4.9 MB/s eta 0:00:01\r\u001b[K     |██████████████████████▌         | 1.2 MB 4.9 MB/s eta 0:00:01\r\u001b[K     |██████████████████████▊         | 1.2 MB 4.9 MB/s eta 0:00:01\r\u001b[K     |███████████████████████         | 1.2 MB 4.9 MB/s eta 0:00:01\r\u001b[K     |███████████████████████         | 1.3 MB 4.9 MB/s eta 0:00:01\r\u001b[K     |███████████████████████▎        | 1.3 MB 4.9 MB/s eta 0:00:01\r\u001b[K     |███████████████████████▌        | 1.3 MB 4.9 MB/s eta 0:00:01\r\u001b[K     |███████████████████████▋        | 1.3 MB 4.9 MB/s eta 0:00:01\r\u001b[K     |███████████████████████▉        | 1.3 MB 4.9 MB/s eta 0:00:01\r\u001b[K     |████████████████████████        | 1.3 MB 4.9 MB/s eta 0:00:01\r\u001b[K     |████████████████████████▎       | 1.3 MB 4.9 MB/s eta 0:00:01\r\u001b[K     |████████████████████████▍       | 1.3 MB 4.9 MB/s eta 0:00:01\r\u001b[K     |████████████████████████▋       | 1.3 MB 4.9 MB/s eta 0:00:01\r\u001b[K     |████████████████████████▉       | 1.4 MB 4.9 MB/s eta 0:00:01\r\u001b[K     |█████████████████████████       | 1.4 MB 4.9 MB/s eta 0:00:01\r\u001b[K     |█████████████████████████▏      | 1.4 MB 4.9 MB/s eta 0:00:01\r\u001b[K     |█████████████████████████▍      | 1.4 MB 4.9 MB/s eta 0:00:01\r\u001b[K     |█████████████████████████▌      | 1.4 MB 4.9 MB/s eta 0:00:01\r\u001b[K     |█████████████████████████▊      | 1.4 MB 4.9 MB/s eta 0:00:01\r\u001b[K     |██████████████████████████      | 1.4 MB 4.9 MB/s eta 0:00:01\r\u001b[K     |██████████████████████████      | 1.4 MB 4.9 MB/s eta 0:00:01\r\u001b[K     |██████████████████████████▎     | 1.4 MB 4.9 MB/s eta 0:00:01\r\u001b[K     |██████████████████████████▌     | 1.4 MB 4.9 MB/s eta 0:00:01\r\u001b[K     |██████████████████████████▊     | 1.5 MB 4.9 MB/s eta 0:00:01\r\u001b[K     |██████████████████████████▉     | 1.5 MB 4.9 MB/s eta 0:00:01\r\u001b[K     |███████████████████████████     | 1.5 MB 4.9 MB/s eta 0:00:01\r\u001b[K     |███████████████████████████▎    | 1.5 MB 4.9 MB/s eta 0:00:01\r\u001b[K     |███████████████████████████▍    | 1.5 MB 4.9 MB/s eta 0:00:01\r\u001b[K     |███████████████████████████▋    | 1.5 MB 4.9 MB/s eta 0:00:01\r\u001b[K     |███████████████████████████▉    | 1.5 MB 4.9 MB/s eta 0:00:01\r\u001b[K     |████████████████████████████    | 1.5 MB 4.9 MB/s eta 0:00:01\r\u001b[K     |████████████████████████████▏   | 1.5 MB 4.9 MB/s eta 0:00:01\r\u001b[K     |████████████████████████████▍   | 1.5 MB 4.9 MB/s eta 0:00:01\r\u001b[K     |████████████████████████████▌   | 1.6 MB 4.9 MB/s eta 0:00:01\r\u001b[K     |████████████████████████████▊   | 1.6 MB 4.9 MB/s eta 0:00:01\r\u001b[K     |█████████████████████████████   | 1.6 MB 4.9 MB/s eta 0:00:01\r\u001b[K     |█████████████████████████████   | 1.6 MB 4.9 MB/s eta 0:00:01\r\u001b[K     |█████████████████████████████▎  | 1.6 MB 4.9 MB/s eta 0:00:01\r\u001b[K     |█████████████████████████████▌  | 1.6 MB 4.9 MB/s eta 0:00:01\r\u001b[K     |█████████████████████████████▊  | 1.6 MB 4.9 MB/s eta 0:00:01\r\u001b[K     |█████████████████████████████▉  | 1.6 MB 4.9 MB/s eta 0:00:01\r\u001b[K     |██████████████████████████████  | 1.6 MB 4.9 MB/s eta 0:00:01\r\u001b[K     |██████████████████████████████▎ | 1.6 MB 4.9 MB/s eta 0:00:01\r\u001b[K     |██████████████████████████████▍ | 1.7 MB 4.9 MB/s eta 0:00:01\r\u001b[K     |██████████████████████████████▋ | 1.7 MB 4.9 MB/s eta 0:00:01\r\u001b[K     |██████████████████████████████▉ | 1.7 MB 4.9 MB/s eta 0:00:01\r\u001b[K     |███████████████████████████████ | 1.7 MB 4.9 MB/s eta 0:00:01\r\u001b[K     |███████████████████████████████▏| 1.7 MB 4.9 MB/s eta 0:00:01\r\u001b[K     |███████████████████████████████▍| 1.7 MB 4.9 MB/s eta 0:00:01\r\u001b[K     |███████████████████████████████▌| 1.7 MB 4.9 MB/s eta 0:00:01\r\u001b[K     |███████████████████████████████▊| 1.7 MB 4.9 MB/s eta 0:00:01\r\u001b[K     |████████████████████████████████| 1.7 MB 4.9 MB/s eta 0:00:01\r\u001b[K     |████████████████████████████████| 1.7 MB 4.9 MB/s \n",
            "\u001b[?25hCollecting docker-pycreds>=0.4.0\n",
            "  Downloading docker_pycreds-0.4.0-py2.py3-none-any.whl (9.0 kB)\n",
            "Requirement already satisfied: protobuf>=3.12.0 in /usr/local/lib/python3.7/dist-packages (from wandb) (3.17.3)\n",
            "Requirement already satisfied: Click!=8.0.0,>=7.0 in /usr/local/lib/python3.7/dist-packages (from wandb) (7.1.2)\n",
            "Requirement already satisfied: PyYAML in /usr/local/lib/python3.7/dist-packages (from wandb) (3.13)\n",
            "Collecting GitPython>=1.0.0\n",
            "  Downloading GitPython-3.1.27-py3-none-any.whl (181 kB)\n",
            "\u001b[K     |████████████████████████████████| 181 kB 66.3 MB/s \n",
            "\u001b[?25hRequirement already satisfied: requests<3,>=2.0.0 in /usr/local/lib/python3.7/dist-packages (from wandb) (2.23.0)\n",
            "Collecting sentry-sdk>=1.0.0\n",
            "  Downloading sentry_sdk-1.5.8-py2.py3-none-any.whl (144 kB)\n",
            "\u001b[K     |████████████████████████████████| 144 kB 69.7 MB/s \n",
            "\u001b[?25hRequirement already satisfied: python-dateutil>=2.6.1 in /usr/local/lib/python3.7/dist-packages (from wandb) (2.8.2)\n",
            "Requirement already satisfied: six>=1.13.0 in /usr/local/lib/python3.7/dist-packages (from wandb) (1.15.0)\n",
            "Requirement already satisfied: psutil>=5.0.0 in /usr/local/lib/python3.7/dist-packages (from wandb) (5.4.8)\n",
            "Collecting pathtools\n",
            "  Downloading pathtools-0.1.2.tar.gz (11 kB)\n",
            "Collecting yaspin>=1.0.0\n",
            "  Downloading yaspin-2.1.0-py3-none-any.whl (18 kB)\n",
            "Collecting shortuuid>=0.5.0\n",
            "  Downloading shortuuid-1.0.8-py3-none-any.whl (9.5 kB)\n",
            "Requirement already satisfied: promise<3,>=2.0 in /usr/local/lib/python3.7/dist-packages (from wandb) (2.3)\n",
            "Collecting setproctitle\n",
            "  Downloading setproctitle-1.2.2-cp37-cp37m-manylinux1_x86_64.whl (36 kB)\n",
            "Requirement already satisfied: typing-extensions>=3.7.4.3 in /usr/local/lib/python3.7/dist-packages (from GitPython>=1.0.0->wandb) (3.10.0.2)\n",
            "Collecting gitdb<5,>=4.0.1\n",
            "  Downloading gitdb-4.0.9-py3-none-any.whl (63 kB)\n",
            "\u001b[K     |████████████████████████████████| 63 kB 1.9 MB/s \n",
            "\u001b[?25hCollecting smmap<6,>=3.0.1\n",
            "  Downloading smmap-5.0.0-py3-none-any.whl (24 kB)\n",
            "Requirement already satisfied: idna<3,>=2.5 in /usr/local/lib/python3.7/dist-packages (from requests<3,>=2.0.0->wandb) (2.10)\n",
            "Requirement already satisfied: urllib3!=1.25.0,!=1.25.1,<1.26,>=1.21.1 in /usr/local/lib/python3.7/dist-packages (from requests<3,>=2.0.0->wandb) (1.24.3)\n",
            "Requirement already satisfied: certifi>=2017.4.17 in /usr/local/lib/python3.7/dist-packages (from requests<3,>=2.0.0->wandb) (2021.10.8)\n",
            "Requirement already satisfied: chardet<4,>=3.0.2 in /usr/local/lib/python3.7/dist-packages (from requests<3,>=2.0.0->wandb) (3.0.4)\n",
            "Requirement already satisfied: termcolor<2.0.0,>=1.1.0 in /usr/local/lib/python3.7/dist-packages (from yaspin>=1.0.0->wandb) (1.1.0)\n",
            "Building wheels for collected packages: pathtools\n",
            "  Building wheel for pathtools (setup.py) ... \u001b[?25l\u001b[?25hdone\n",
            "  Created wheel for pathtools: filename=pathtools-0.1.2-py3-none-any.whl size=8806 sha256=d92be786ee3d6d0c070d3b32b4c1d7797c492708e60ad714728a3e3a80e8af61\n",
            "  Stored in directory: /root/.cache/pip/wheels/3e/31/09/fa59cef12cdcfecc627b3d24273699f390e71828921b2cbba2\n",
            "Successfully built pathtools\n",
            "Installing collected packages: smmap, gitdb, yaspin, shortuuid, setproctitle, sentry-sdk, pathtools, GitPython, docker-pycreds, wandb\n",
            "Successfully installed GitPython-3.1.27 docker-pycreds-0.4.0 gitdb-4.0.9 pathtools-0.1.2 sentry-sdk-1.5.8 setproctitle-1.2.2 shortuuid-1.0.8 smmap-5.0.0 wandb-0.12.11 yaspin-2.1.0\n"
          ]
        }
      ],
      "source": [
        "#installing wandb\n",
        "\n",
        "!pip install wandb --upgrade"
      ]
    },
    {
      "cell_type": "code",
      "execution_count": null,
      "metadata": {
        "id": "NgN8wASV3FKP"
      },
      "outputs": [],
      "source": [
        "import wandb\n",
        "wandb.login()\n",
        "!wandb login --relogin\n",
        "wandb.init(project='A2_partA_Q5',entity=\"anandh\", name = 'Q5a')"
      ]
    },
    {
      "cell_type": "code",
      "execution_count": null,
      "metadata": {
        "id": "jifqQnaUS5fI"
      },
      "outputs": [],
      "source": [
        "# Importing necessary packages\n",
        "\n",
        "import pathlib\n",
        "import numpy as np\n",
        "from PIL import Image\n",
        "import os\n",
        "import glob\n",
        "import random\n",
        "from keras.models import load_model\n",
        "from tensorflow import keras\n",
        "import tensorflow as tf\n",
        "from tensorflow.keras.preprocessing import image_dataset_from_directory\n",
        "from tensorflow.keras.preprocessing.image import ImageDataGenerator\n",
        "from tensorflow.keras import layers\n",
        "from tensorflow.keras.layers.experimental.preprocessing import Rescaling\n",
        "from tensorflow.keras.models import Sequential, Model\n",
        "from tensorflow.keras.layers import Dense, Flatten, Conv2D, MaxPooling2D, Activation, Dropout, BatchNormalization\n",
        "from tensorflow.keras.optimizers import Adam\n",
        "from tensorflow.keras.callbacks import EarlyStopping, ModelCheckpoint\n",
        "# from wandb.keras import WandbCallback\n",
        "import matplotlib.pyplot as plt\n",
        "from collections import defaultdict\n",
        "\n",
        "\n"
      ]
    },
    {
      "cell_type": "code",
      "execution_count": null,
      "metadata": {
        "id": "RQuOWlMgTARv"
      },
      "outputs": [],
      "source": [
        "# Data preperation\n",
        "\n",
        "def datagen(batch_size, augment_data):\n",
        "\n",
        "  Data_dir=pathlib.Path('inaturalist_12K') \n",
        "  # augment_data=False\n",
        "  train_path = os.path.join(Data_dir, \"train\")\n",
        "  test_path = os.path.join(Data_dir, \"val\")\n",
        "\n",
        "  if augment_data:\n",
        "    train_rawdata = ImageDataGenerator(rescale=1./255,\n",
        "                                      rotation_range=90,\n",
        "                                      zoom_range=0.2,\n",
        "                                      shear_range=0.2,\n",
        "                                      validation_split=0.1,\n",
        "                                      horizontal_flip=True)\n",
        "    test_rawdata = ImageDataGenerator(rescale=1./255)\n",
        "\n",
        "  else:\n",
        "    train_rawdata = ImageDataGenerator(rescale=1./255, validation_split=0.1)\n",
        "    test_rawdata = ImageDataGenerator(rescale=1./255)\n",
        "\n",
        "  train_data = train_rawdata.flow_from_directory(\n",
        "      train_path, \n",
        "      target_size=(256, 256), \n",
        "      batch_size=batch_size, \n",
        "      subset=\"training\",\n",
        "      color_mode=\"rgb\",\n",
        "      class_mode='categorical',\n",
        "      shuffle=True,\n",
        "      seed=42\n",
        "      )\n",
        "  \n",
        "  val_data = train_rawdata.flow_from_directory(\n",
        "      train_path, \n",
        "      target_size=(256, 256), \n",
        "      batch_size=batch_size, \n",
        "      subset=\"validation\",\n",
        "      color_mode=\"rgb\",\n",
        "      class_mode='categorical',\n",
        "      #shuffle=True,\n",
        "      seed=42\n",
        "      )\n",
        "  test_data = test_rawdata.flow_from_directory(\n",
        "      test_path, \n",
        "      target_size=(256, 256), \n",
        "      batch_size=batch_size,\n",
        "      color_mode=\"rgb\",\n",
        "      class_mode='categorical',\n",
        "      # shuffle=True,\n",
        "      seed=42\n",
        "      )\n",
        "  \n",
        "  return  train_data, val_data, test_data"
      ]
    }
  ]
}