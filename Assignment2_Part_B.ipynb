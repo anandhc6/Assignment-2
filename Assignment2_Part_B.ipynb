{
  "nbformat": 4,
  "nbformat_minor": 0,
  "metadata": {
    "colab": {
      "name": "Assignment2_Part_B.ipynb",
      "provenance": [],
      "collapsed_sections": [],
      "include_colab_link": true
    },
    "kernelspec": {
      "name": "python3",
      "display_name": "Python 3"
    },
    "language_info": {
      "name": "python"
    }
  },
  "cells": [
    {
      "cell_type": "markdown",
      "metadata": {
        "id": "view-in-github",
        "colab_type": "text"
      },
      "source": [
        "<a href=\"https://colab.research.google.com/github/anandhc6/Assignment-2/blob/main/Assignment2_Part_B.ipynb\" target=\"_parent\"><img src=\"https://colab.research.google.com/assets/colab-badge.svg\" alt=\"Open In Colab\"/></a>"
      ]
    },
    {
      "cell_type": "code",
      "execution_count": null,
      "metadata": {
        "colab": {
          "base_uri": "https://localhost:8080/"
        },
        "id": "IdrmeO4MRRsh",
        "outputId": "9bb267a3-9954-4ddd-f2c8-0f30163aa294"
      },
      "outputs": [
        {
          "name": "stdout",
          "output_type": "stream",
          "text": [
            "Downloading...\n",
            "From: https://storage.googleapis.com/wandb_datasets/nature_12K.zip\n",
            "To: /content/nature_12K.zip\n",
            "100% 3.82G/3.82G [00:18<00:00, 205MB/s]\n"
          ]
        }
      ],
      "source": [
        "# Downloading the dataset as zip folder\n",
        "\n",
        "!gdown https://storage.googleapis.com/wandb_datasets/nature_12K.zip"
      ]
    },
    {
      "cell_type": "code",
      "execution_count": null,
      "metadata": {
        "id": "HAFVnuuvQFJJ"
      },
      "outputs": [],
      "source": [
        "# unzipping the datset\n",
        "\n",
        "!unzip -q nature_12K.zip"
      ]
    },
    {
      "cell_type": "code",
      "execution_count": null,
      "metadata": {
        "colab": {
          "base_uri": "https://localhost:8080/"
        },
        "id": "1WaWNMqHdt1w",
        "outputId": "6a4deaac-5343-4e8b-c273-efa0b9aaa4f8"
      },
      "outputs": [
        {
          "name": "stdout",
          "output_type": "stream",
          "text": [
            "Collecting wandb\n",
            "  Downloading wandb-0.12.11-py2.py3-none-any.whl (1.7 MB)\n",
            "\u001b[K     |████████████████████████████████| 1.7 MB 5.2 MB/s \n",
            "\u001b[?25hCollecting yaspin>=1.0.0\n",
            "  Downloading yaspin-2.1.0-py3-none-any.whl (18 kB)\n",
            "Collecting shortuuid>=0.5.0\n",
            "  Downloading shortuuid-1.0.8-py3-none-any.whl (9.5 kB)\n",
            "Requirement already satisfied: requests<3,>=2.0.0 in /usr/local/lib/python3.7/dist-packages (from wandb) (2.23.0)\n",
            "Collecting pathtools\n",
            "  Downloading pathtools-0.1.2.tar.gz (11 kB)\n",
            "Requirement already satisfied: Click!=8.0.0,>=7.0 in /usr/local/lib/python3.7/dist-packages (from wandb) (7.1.2)\n",
            "Requirement already satisfied: six>=1.13.0 in /usr/local/lib/python3.7/dist-packages (from wandb) (1.15.0)\n",
            "Collecting GitPython>=1.0.0\n",
            "  Downloading GitPython-3.1.27-py3-none-any.whl (181 kB)\n",
            "\u001b[K     |████████████████████████████████| 181 kB 45.3 MB/s \n",
            "\u001b[?25hCollecting docker-pycreds>=0.4.0\n",
            "  Downloading docker_pycreds-0.4.0-py2.py3-none-any.whl (9.0 kB)\n",
            "Collecting setproctitle\n",
            "  Downloading setproctitle-1.2.2-cp37-cp37m-manylinux1_x86_64.whl (36 kB)\n",
            "Requirement already satisfied: PyYAML in /usr/local/lib/python3.7/dist-packages (from wandb) (3.13)\n",
            "Requirement already satisfied: psutil>=5.0.0 in /usr/local/lib/python3.7/dist-packages (from wandb) (5.4.8)\n",
            "Requirement already satisfied: protobuf>=3.12.0 in /usr/local/lib/python3.7/dist-packages (from wandb) (3.17.3)\n",
            "Requirement already satisfied: promise<3,>=2.0 in /usr/local/lib/python3.7/dist-packages (from wandb) (2.3)\n",
            "Requirement already satisfied: python-dateutil>=2.6.1 in /usr/local/lib/python3.7/dist-packages (from wandb) (2.8.2)\n",
            "Collecting sentry-sdk>=1.0.0\n",
            "  Downloading sentry_sdk-1.5.8-py2.py3-none-any.whl (144 kB)\n",
            "\u001b[K     |████████████████████████████████| 144 kB 51.2 MB/s \n",
            "\u001b[?25hRequirement already satisfied: typing-extensions>=3.7.4.3 in /usr/local/lib/python3.7/dist-packages (from GitPython>=1.0.0->wandb) (3.10.0.2)\n",
            "Collecting gitdb<5,>=4.0.1\n",
            "  Downloading gitdb-4.0.9-py3-none-any.whl (63 kB)\n",
            "\u001b[K     |████████████████████████████████| 63 kB 1.8 MB/s \n",
            "\u001b[?25hCollecting smmap<6,>=3.0.1\n",
            "  Downloading smmap-5.0.0-py3-none-any.whl (24 kB)\n",
            "Requirement already satisfied: urllib3!=1.25.0,!=1.25.1,<1.26,>=1.21.1 in /usr/local/lib/python3.7/dist-packages (from requests<3,>=2.0.0->wandb) (1.24.3)\n",
            "Requirement already satisfied: certifi>=2017.4.17 in /usr/local/lib/python3.7/dist-packages (from requests<3,>=2.0.0->wandb) (2021.10.8)\n",
            "Requirement already satisfied: idna<3,>=2.5 in /usr/local/lib/python3.7/dist-packages (from requests<3,>=2.0.0->wandb) (2.10)\n",
            "Requirement already satisfied: chardet<4,>=3.0.2 in /usr/local/lib/python3.7/dist-packages (from requests<3,>=2.0.0->wandb) (3.0.4)\n",
            "Requirement already satisfied: termcolor<2.0.0,>=1.1.0 in /usr/local/lib/python3.7/dist-packages (from yaspin>=1.0.0->wandb) (1.1.0)\n",
            "Building wheels for collected packages: pathtools\n",
            "  Building wheel for pathtools (setup.py) ... \u001b[?25l\u001b[?25hdone\n",
            "  Created wheel for pathtools: filename=pathtools-0.1.2-py3-none-any.whl size=8806 sha256=da2f19454dbbb93d33bd34ee2de61505f9e65c344f42e0131af26ac64a877ea2\n",
            "  Stored in directory: /root/.cache/pip/wheels/3e/31/09/fa59cef12cdcfecc627b3d24273699f390e71828921b2cbba2\n",
            "Successfully built pathtools\n",
            "Installing collected packages: smmap, gitdb, yaspin, shortuuid, setproctitle, sentry-sdk, pathtools, GitPython, docker-pycreds, wandb\n",
            "Successfully installed GitPython-3.1.27 docker-pycreds-0.4.0 gitdb-4.0.9 pathtools-0.1.2 sentry-sdk-1.5.8 setproctitle-1.2.2 shortuuid-1.0.8 smmap-5.0.0 wandb-0.12.11 yaspin-2.1.0\n"
          ]
        }
      ],
      "source": [
        "#Installing wand\n",
        "\n",
        "!pip install wandb --upgrade"
      ]
    },
    {
      "cell_type": "code",
      "execution_count": null,
      "metadata": {
        "id": "jifqQnaUS5fI"
      },
      "outputs": [],
      "source": [
        "#Importing necessary packages\n",
        "\n",
        "import pathlib\n",
        "import numpy as np\n",
        "from PIL import Image\n",
        "import tensorflow.keras as tfk\n",
        "import os\n",
        "import glob\n",
        "import wandb\n",
        "import tensorflow as tf\n",
        "from tensorflow.keras.preprocessing import image_dataset_from_directory\n",
        "from tensorflow.keras.preprocessing.image import ImageDataGenerator\n",
        "from tensorflow.keras import layers\n",
        "from tensorflow.keras.layers.experimental.preprocessing import Rescaling\n",
        "from tensorflow import keras\n",
        "from tensorflow.keras.models import Sequential, Model\n",
        "from tensorflow.keras.layers import Dense, Flatten, Conv2D, MaxPooling2D, Activation, Dropout, BatchNormalization\n",
        "from tensorflow.keras.optimizers import Adam\n",
        "from tensorflow.keras.callbacks import EarlyStopping, ModelCheckpoint\n",
        "from wandb.keras import WandbCallback\n",
        "import matplotlib.pyplot as plt\n",
        "import math"
      ]
    },
    {
      "cell_type": "code",
      "execution_count": null,
      "metadata": {
        "id": "RQuOWlMgTARv"
      },
      "outputs": [],
      "source": [
        "# Data preperation\n",
        "\n",
        "def datagen(batch_size, augment_data):\n",
        "\n",
        "  Data_dir=pathlib.Path('inaturalist_12K') \n",
        "  # augment_data=False\n",
        "  train_path = os.path.join(Data_dir, \"train\")\n",
        "  test_path = os.path.join(Data_dir, \"val\")\n",
        "\n",
        "  if augment_data:\n",
        "    train_rawdata = ImageDataGenerator(rescale=1./255,\n",
        "                                      rotation_range=90,\n",
        "                                      zoom_range=0.2,\n",
        "                                      shear_range=0.2,\n",
        "                                      validation_split=0.1,\n",
        "                                      horizontal_flip=True)\n",
        "    test_rawdata = ImageDataGenerator(rescale=1./255)\n",
        "\n",
        "  else:\n",
        "    train_rawdata = ImageDataGenerator(rescale=1./255, validation_split=0.1)\n",
        "    test_rawdata = ImageDataGenerator(rescale=1./255)\n",
        "\n",
        "  train_data = train_rawdata.flow_from_directory(\n",
        "      train_path, \n",
        "      target_size=(256, 256), \n",
        "      batch_size=batch_size, \n",
        "      subset=\"training\",\n",
        "      color_mode=\"rgb\",\n",
        "      class_mode='categorical',\n",
        "      shuffle=True,\n",
        "      seed=42\n",
        "      )\n",
        "  val_data = train_rawdata.flow_from_directory(\n",
        "      train_path, \n",
        "      target_size=(256, 256), \n",
        "      batch_size=batch_size, \n",
        "      subset=\"validation\",\n",
        "      color_mode=\"rgb\",\n",
        "      class_mode='categorical',\n",
        "      shuffle=True,\n",
        "      seed=42\n",
        "      )\n",
        "  test_data = test_rawdata.flow_from_directory(\n",
        "      test_path, \n",
        "      target_size=(256, 256), \n",
        "      batch_size=batch_size,\n",
        "      color_mode=\"rgb\",\n",
        "      class_mode='categorical',\n",
        "      shuffle=True,\n",
        "      seed=42\n",
        "      )\n",
        "  return  train_data, val_data, test_data"
      ]
    },
    {
      "cell_type": "code",
      "execution_count": null,
      "metadata": {
        "id": "lJfm98bL-H4S"
      },
      "outputs": [],
      "source": [
        "# predefined models\n",
        "\n",
        "def define_model(model_name, activation_function_dense, dense_layer, dropout,image_size, pre_layer_train=None):\n",
        "  \n",
        "    #input_image_shape=(256,256,3)\n",
        "    ip_shape=(image_size, image_size, 3)\n",
        "    input_tens = tfk.Input(shape = ip_shape)\n",
        "\n",
        "    # adding pretrained model without the top dense layer\n",
        "    if model_name == 'ResNet50':\n",
        "      pretrained_model = tfk.applications.ResNet50(include_top = False, weights='imagenet',input_tensor = input_tens)\n",
        "    elif model_name == 'InceptionV3':\n",
        "      pretrained_model = tfk.applications.InceptionV3(include_top = False, weights='imagenet',input_tensor = input_tens)\n",
        "    elif model_name == 'InceptionResNetV2':\n",
        "      pretrained_model = tfk.applications.InceptionResNetV2(include_top = False, weights='imagenet',input_tensor = input_tens)\n",
        "    else:\n",
        "      pretrained_model = tfk.applications.Xception(include_top = False, weights='imagenet',input_tensor = input_tens)\n",
        "\n",
        "    for layer in pretrained_model.layers:\n",
        "      layer.trainable=False\n",
        "    \n",
        "    model = tfk.models.Sequential()\n",
        "    # pretrained model\n",
        "    model.add(pretrained_model)\n",
        "    # converting the feature map into a column vector\n",
        "    model.add(Flatten()) \n",
        "    # adding a dense layer\n",
        "    model.add(Dense(dense_layer, activation=activation_function_dense))\n",
        "    # dropout\n",
        "    model.add(Dropout(dropout)) \n",
        "    # softmax layer\n",
        "    model.add(Dense(10, activation=\"softmax\"))\n",
        "\n",
        "    return model"
      ]
    },
    {
      "cell_type": "code",
      "execution_count": null,
      "metadata": {
        "id": "p7iXUwpeBHiF"
      },
      "outputs": [],
      "source": [
        "#Function called by sweep\n",
        "\n",
        "def train():\n",
        "    activation_func_dense = \"relu\"\n",
        "    image_size=256\n",
        "    config_defaults = {\n",
        "            \"augment_data\": True,\n",
        "            \"batch_size\": 64,\n",
        "            \"dropout\": 0,\n",
        "            \"dense_layer\": 128,\n",
        "            \"layer_freeze\": 0,\n",
        "            \"pre_model\":\"ResNet50\"\n",
        "        }\n",
        "\n",
        "    # Initializing new wandb run and saving hyperparameters,inputs\n",
        "    wandb.init(config=config_defaults)\n",
        "    config = wandb.config\n",
        "\n",
        "    # Values obtained from wandb config(Sweep)\n",
        "    augment_data = config.augment_data\n",
        "    batch_size = config.batch_size\n",
        "    dropout = config.dropout\n",
        "    dense_layer = config.dense_layer\n",
        "    layer_freeze = config.layer_freeze\n",
        "    pre_model=config.pre_model\n",
        "\n",
        "    # Run name with hyperparameters\n",
        "    run_name = \"model_{}_aug_{}_bs_{}_drop_{}_dense_{}_freeze_{}\".format(pre_model, augment_data, batch_size, dropout, dense_layer, layer_freeze )\n",
        "    print(run_name)\n",
        "\n",
        "    # Data preperation\n",
        "    train_data, val_data, test_data =datagen(batch_size, augment_data)\n",
        "    print(\"Data Recieved\")\n",
        "    model=define_model(pre_model, activation_func_dense, dense_layer, dropout,image_size)\n",
        "    print(model.count_params())\n",
        "    print(\"Model Training done\")\n",
        "\n",
        "    # #Freeze all layers\n",
        "    # for layer in model.pretrained_model.layers:\n",
        "    #     layer.trainable=False\n",
        "    # #model.trainable=False\n",
        "\n",
        "    model.compile(optimizer=Adam(learning_rate=0.0001), loss = 'categorical_crossentropy', metrics = ['accuracy'])\n",
        "\n",
        "    # Early Stopping \n",
        "    earlyStopping = EarlyStopping(monitor='val_loss', patience=5, verbose=0, mode='min')\n",
        "\n",
        "    train_step_size = train_data.n//train_data.batch_size\n",
        "    print(train_step_size)\n",
        "    val_step_size = val_data.n//val_data.batch_size\n",
        "    print(val_step_size)\n",
        "\n",
        "    model_det = model.fit(train_data,\n",
        "          steps_per_epoch = train_step_size,\n",
        "          validation_data = val_data,\n",
        "          validation_steps = val_step_size,\n",
        "          epochs=10, \n",
        "          callbacks=[WandbCallback(data_type=\"image\", generator=val_data), earlyStopping, best_val_check],\n",
        "          verbose=2)\n",
        "    \n",
        "    #For fine tuning, unfreeze certain layers\n",
        "    if layer_freeze:\n",
        "      fine_tune=math.floor((layer_freeze/100.0)*len(model.layers))\n",
        "      for layer in model.layers[-fine_tune:]:\n",
        "        layer.trainable=True\n",
        "\n",
        "    print(\"Fine tuning\")\n",
        "    model.compile(optimizer=Adam(learning_rate=0.0001), loss = 'categorical_crossentropy', metrics = ['accuracy'])\n",
        "\n",
        "    model_det_fine = model.fit(train_data,\n",
        "          steps_per_epoch = train_step_size,\n",
        "          validation_data = val_data,\n",
        "          validation_steps = val_step_size,\n",
        "          epochs=10, \n",
        "          callbacks=[WandbCallback(data_type=\"image\", generator=val_data), earlyStopping, best_val_check],\n",
        "          verbose=2)\n",
        "    \n",
        "    test_loss, test_acc = model.evaluate(test_data)\n",
        "    print('Test accuracy :', test_acc)\n",
        "    wandb.log({'test_accuracy': test_acc, 'test_loss': test_loss})\n",
        "    wandb.run.name = run_name\n",
        "    wandb.run.save()\n",
        "    wandb.run.finish()\n",
        "    return model_det_fine\n"
      ]
    },
    {
      "cell_type": "code",
      "execution_count": null,
      "metadata": {
        "colab": {
          "background_save": true,
          "base_uri": "https://localhost:8080/",
          "height": 1000,
          "referenced_widgets": [
            "3da62591362e483cb145293862c18f7c",
            "d9963024db934a21a25129916e1ebedd",
            "e19b2e263ae44ad6b461997669e4476c",
            "f0988e96dafa49a49e5ede378b735b80",
            "5a4ca43c8c064b5fbee2fbda7bb94498",
            "2cbfa37d497d48768805d5076f6a7728",
            "abe04f4aeeaf423e91ad7b11feeb2f56",
            "78e0dfe9ac3a474da40da827d1a22f47",
            "26dc453b427a405bb64de3becd04f8ba",
            "17a26f212a674c1eb0ba0c95bcc8c5d0",
            "ab49804f4702462986ba33fe8c6b6541",
            "5f95e16c195f4732990e3f90dc29502e",
            "f46bfdd2783c46ed9fda8bf43fe0aec9",
            "60df6f3282a845b49fe05752102b807b",
            "ab544e07b71f408ca366f01dce70c028",
            "c26df0c63ac2428d90da30100e9fc5fa",
            "872d8a2ffca44b139dfae108087c2b3b",
            "ddbc7136a8d440638d51a3d67fd94c05",
            "3ff2bfb1f35146a895deb5affe23fe81",
            "bd4e255f407440498b13ee7952ebe0ae",
            "7c4a0b1e73584c9caa7f3df4b5bd2805",
            "91b55c08404a4570b5614e5ed8741e5d",
            "53f6f8c8d7f342fb845efda06f91e0b0",
            "dc888ca9058b4761af59e1ad8b498726",
            "58be847fd0a44dd8876969d0d2f560cd",
            "24442b7228814aca9b544d86fe24a12d",
            "18ba0c7a4d1446f29b21d30dfa7345ae",
            "06afe3cbe4d44c96b0eeeaa975ac22ac",
            "79fdec724146494b8756d8d62b5e233b",
            "ae10c85f0ed64e5792424e8c10654c4e",
            "6fe8001725b841f4a7a065807c6c25ad",
            "1fd3c98bf2c349b89a8424b5f0945ad0",
            "2c2ba9400e6d4219b30338158fa1fa64",
            "d6c837a5809b417e90a6cedeea0eb0b9",
            "3fb2149b06ed47d9922d3c72b300c004",
            "65a82f71124f481187d22484fea8adfb",
            "a292fa8a98db4557b2d1f65b6281abd6",
            "9157e972861d4e6ebcaf5db5b584a884",
            "377d7e150fd445388515b28a581a4d38",
            "ef4a8ffa474e4065b6e403ad0188f9f1"
          ]
        },
        "id": "q2-Pe3WxKpgs",
        "outputId": "b87bcc89-6c62-47cd-f0a3-a32875320d93"
      },
      "outputs": [
        {
          "name": "stderr",
          "output_type": "stream",
          "text": [
            "\u001b[34m\u001b[1mwandb\u001b[0m: Agent Starting Run: lq757z6v with config:\n",
            "\u001b[34m\u001b[1mwandb\u001b[0m: \taugment_data: False\n",
            "\u001b[34m\u001b[1mwandb\u001b[0m: \tbatch_size: 128\n",
            "\u001b[34m\u001b[1mwandb\u001b[0m: \tdense_layer: 128\n",
            "\u001b[34m\u001b[1mwandb\u001b[0m: \tdropout: 0.15\n",
            "\u001b[34m\u001b[1mwandb\u001b[0m: \tlayer_freeze: 30\n",
            "\u001b[34m\u001b[1mwandb\u001b[0m: \tpre_model: InceptionV3\n"
          ]
        },
        {
          "data": {
            "text/html": [
              "Tracking run with wandb version 0.12.11"
            ],
            "text/plain": [
              "<IPython.core.display.HTML object>"
            ]
          },
          "metadata": {},
          "output_type": "display_data"
        },
        {
          "data": {
            "text/html": [
              "Run data is saved locally in <code>/content/wandb/run-20220401_060541-lq757z6v</code>"
            ],
            "text/plain": [
              "<IPython.core.display.HTML object>"
            ]
          },
          "metadata": {},
          "output_type": "display_data"
        },
        {
          "data": {
            "text/html": [
              "Syncing run <strong><a href=\"https://wandb.ai/anandh/DL_Assignment2_PartB/runs/lq757z6v\" target=\"_blank\">curious-sweep-144</a></strong> to <a href=\"https://wandb.ai/anandh/DL_Assignment2_PartB\" target=\"_blank\">Weights & Biases</a> (<a href=\"https://wandb.me/run\" target=\"_blank\">docs</a>)<br/>Sweep page:  <a href=\"https://wandb.ai/anandh/DL_Assignment2_PartB/sweeps/vmgtaknn\" target=\"_blank\">https://wandb.ai/anandh/DL_Assignment2_PartB/sweeps/vmgtaknn</a>"
            ],
            "text/plain": [
              "<IPython.core.display.HTML object>"
            ]
          },
          "metadata": {},
          "output_type": "display_data"
        },
        {
          "name": "stdout",
          "output_type": "stream",
          "text": [
            "model_Xception_aug_False_bs_128_drop_0.15_dense_128_freeze_30\n",
            "Found 9000 images belonging to 10 classes.\n",
            "Found 999 images belonging to 10 classes.\n",
            "Found 2000 images belonging to 10 classes.\n",
            "Data Vaangiyachi\n",
            "37640114\n",
            "Training done\n",
            "70\n",
            "7\n",
            "Epoch 1/10\n",
            "INFO:tensorflow:Assets written to: best_model/assets\n",
            "70/70 - 206s - loss: 0.9461 - accuracy: 0.7006 - val_loss: 0.7252 - val_accuracy: 0.7645 - _timestamp: 1648793337.0000 - _runtime: 196.0000 - 206s/epoch - 3s/step\n",
            "Epoch 2/10\n",
            "INFO:tensorflow:Assets written to: best_model/assets\n",
            "70/70 - 196s - loss: 0.5385 - accuracy: 0.8237 - val_loss: 0.7175 - val_accuracy: 0.7846 - _timestamp: 1648793534.0000 - _runtime: 393.0000 - 196s/epoch - 3s/step\n",
            "Epoch 3/10\n",
            "INFO:tensorflow:Assets written to: best_model/assets\n",
            "70/70 - 193s - loss: 0.3535 - accuracy: 0.8831 - val_loss: 0.7096 - val_accuracy: 0.7891 - _timestamp: 1648793732.0000 - _runtime: 591.0000 - 193s/epoch - 3s/step\n",
            "Epoch 4/10\n",
            "70/70 - 168s - loss: 0.2301 - accuracy: 0.9265 - val_loss: 0.7652 - val_accuracy: 0.7712 - _timestamp: 1648793931.0000 - _runtime: 790.0000 - 168s/epoch - 2s/step\n",
            "Epoch 5/10\n",
            "INFO:tensorflow:Assets written to: best_model/assets\n",
            "70/70 - 190s - loss: 0.1480 - accuracy: 0.9573 - val_loss: 0.7618 - val_accuracy: 0.7946 - _timestamp: 1648794101.0000 - _runtime: 960.0000 - 190s/epoch - 3s/step\n",
            "Epoch 6/10\n",
            "70/70 - 169s - loss: 0.0978 - accuracy: 0.9766 - val_loss: 0.8237 - val_accuracy: 0.7746 - _timestamp: 1648794302.0000 - _runtime: 1161.0000 - 169s/epoch - 2s/step\n",
            "Epoch 7/10\n",
            "70/70 - 169s - loss: 0.0709 - accuracy: 0.9851 - val_loss: 0.7825 - val_accuracy: 0.7913 - _timestamp: 1648794504.0000 - _runtime: 1363.0000 - 169s/epoch - 2s/step\n",
            "Epoch 8/10\n",
            "70/70 - 168s - loss: 0.0554 - accuracy: 0.9900 - val_loss: 0.8742 - val_accuracy: 0.7868 - _timestamp: 1648794705.0000 - _runtime: 1564.0000 - 168s/epoch - 2s/step\n",
            "Fine tuning\n",
            "Epoch 1/10\n",
            "70/70 - 174s - loss: 0.0909 - accuracy: 0.9725 - val_loss: 0.8845 - val_accuracy: 0.7879 - _timestamp: 1648794883.0000 - _runtime: 1742.0000 - 174s/epoch - 2s/step\n",
            "Epoch 2/10\n",
            "70/70 - 166s - loss: 0.0521 - accuracy: 0.9877 - val_loss: 0.9799 - val_accuracy: 0.7679 - _timestamp: 1648795080.0000 - _runtime: 1939.0000 - 166s/epoch - 2s/step\n",
            "Epoch 3/10\n",
            "70/70 - 166s - loss: 0.0401 - accuracy: 0.9903 - val_loss: 0.9525 - val_accuracy: 0.7935 - _timestamp: 1648795246.0000 - _runtime: 2105.0000 - 166s/epoch - 2s/step\n",
            "Epoch 4/10\n",
            "70/70 - 165s - loss: 0.0476 - accuracy: 0.9885 - val_loss: 1.0195 - val_accuracy: 0.7790 - _timestamp: 1648795447.0000 - _runtime: 2306.0000 - 165s/epoch - 2s/step\n",
            "Epoch 5/10\n",
            "70/70 - 166s - loss: 0.0353 - accuracy: 0.9911 - val_loss: 1.0263 - val_accuracy: 0.7790 - _timestamp: 1648795650.0000 - _runtime: 2509.0000 - 166s/epoch - 2s/step\n",
            "Epoch 6/10\n",
            "70/70 - 170s - loss: 0.0343 - accuracy: 0.9905 - val_loss: 1.0463 - val_accuracy: 0.7746 - _timestamp: 1648795821.0000 - _runtime: 2680.0000 - 170s/epoch - 2s/step\n",
            "16/16 [==============================] - 38s 2s/step - loss: 1.0259 - accuracy: 0.7875\n",
            "Test accuracy : 0.7875000238418579\n",
            "\n"
          ]
        },
        {
          "data": {
            "text/html": [
              "Waiting for W&B process to finish... <strong style=\"color:green\">(success).</strong>"
            ],
            "text/plain": [
              "<IPython.core.display.HTML object>"
            ]
          },
          "metadata": {},
          "output_type": "display_data"
        },
        {
          "data": {
            "application/vnd.jupyter.widget-view+json": {
              "model_id": "3da62591362e483cb145293862c18f7c",
              "version_major": 2,
              "version_minor": 0
            },
            "text/plain": [
              "VBox(children=(Label(value='337.267 MB of 337.267 MB uploaded (0.000 MB deduped)\\r'), FloatProgress(value=1.0,…"
            ]
          },
          "metadata": {},
          "output_type": "display_data"
        },
        {
          "data": {
            "text/html": [
              "<style>\n",
              "    table.wandb td:nth-child(1) { padding: 0 10px; text-align: right }\n",
              "    .wandb-row { display: flex; flex-direction: row; flex-wrap: wrap; width: 100% }\n",
              "    .wandb-col { display: flex; flex-direction: column; flex-basis: 100%; flex: 1; padding: 10px; }\n",
              "    </style>\n",
              "<div class=\"wandb-row\"><div class=\"wandb-col\"><h3>Run history:</h3><br/><table class=\"wandb\"><tr><td>accuracy</td><td>▁▄▅▆▇█████████</td></tr><tr><td>epoch</td><td>▁▂▃▄▅▆▇█▁▂▃▄▅▆</td></tr><tr><td>loss</td><td>█▅▃▃▂▁▁▁▁▁▁▁▁▁</td></tr><tr><td>test_accuracy</td><td>▁</td></tr><tr><td>test_loss</td><td>▁</td></tr><tr><td>val_accuracy</td><td>▁▆▇▃█▃▇▆▆▂█▄▄▃</td></tr><tr><td>val_loss</td><td>▁▁▁▂▂▃▃▄▅▇▆▇██</td></tr></table><br/></div><div class=\"wandb-col\"><h3>Run summary:</h3><br/><table class=\"wandb\"><tr><td>accuracy</td><td>0.99053</td></tr><tr><td>best_epoch</td><td>2</td></tr><tr><td>best_val_loss</td><td>0.70958</td></tr><tr><td>epoch</td><td>5</td></tr><tr><td>loss</td><td>0.03426</td></tr><tr><td>test_accuracy</td><td>0.7875</td></tr><tr><td>test_loss</td><td>1.02594</td></tr><tr><td>val_accuracy</td><td>0.77455</td></tr><tr><td>val_loss</td><td>1.04628</td></tr></table><br/></div></div>"
            ],
            "text/plain": [
              "<IPython.core.display.HTML object>"
            ]
          },
          "metadata": {},
          "output_type": "display_data"
        },
        {
          "data": {
            "text/html": [
              "Synced <strong style=\"color:#cdcd00\">curious-sweep-144</strong>: <a href=\"https://wandb.ai/anandh/DL_Assignment2_PartB/runs/lq757z6v\" target=\"_blank\">https://wandb.ai/anandh/DL_Assignment2_PartB/runs/lq757z6v</a><br/>Synced 5 W&B file(s), 504 media file(s), 0 artifact file(s) and 1 other file(s)"
            ],
            "text/plain": [
              "<IPython.core.display.HTML object>"
            ]
          },
          "metadata": {},
          "output_type": "display_data"
        },
        {
          "data": {
            "text/html": [
              "Find logs at: <code>./wandb/run-20220401_060541-lq757z6v/logs</code>"
            ],
            "text/plain": [
              "<IPython.core.display.HTML object>"
            ]
          },
          "metadata": {},
          "output_type": "display_data"
        },
        {
          "name": "stderr",
          "output_type": "stream",
          "text": [
            "\u001b[34m\u001b[1mwandb\u001b[0m: Agent Starting Run: 964gcej1 with config:\n",
            "\u001b[34m\u001b[1mwandb\u001b[0m: \taugment_data: False\n",
            "\u001b[34m\u001b[1mwandb\u001b[0m: \tbatch_size: 64\n",
            "\u001b[34m\u001b[1mwandb\u001b[0m: \tdense_layer: 64\n",
            "\u001b[34m\u001b[1mwandb\u001b[0m: \tdropout: 0.15\n",
            "\u001b[34m\u001b[1mwandb\u001b[0m: \tlayer_freeze: 30\n",
            "\u001b[34m\u001b[1mwandb\u001b[0m: \tpre_model: InceptionV3\n"
          ]
        },
        {
          "data": {
            "text/html": [
              "Tracking run with wandb version 0.12.11"
            ],
            "text/plain": [
              "<IPython.core.display.HTML object>"
            ]
          },
          "metadata": {},
          "output_type": "display_data"
        },
        {
          "data": {
            "text/html": [
              "Run data is saved locally in <code>/content/wandb/run-20220401_065113-964gcej1</code>"
            ],
            "text/plain": [
              "<IPython.core.display.HTML object>"
            ]
          },
          "metadata": {},
          "output_type": "display_data"
        },
        {
          "data": {
            "text/html": [
              "Syncing run <strong><a href=\"https://wandb.ai/anandh/DL_Assignment2_PartB/runs/964gcej1\" target=\"_blank\">gentle-sweep-145</a></strong> to <a href=\"https://wandb.ai/anandh/DL_Assignment2_PartB\" target=\"_blank\">Weights & Biases</a> (<a href=\"https://wandb.me/run\" target=\"_blank\">docs</a>)<br/>Sweep page:  <a href=\"https://wandb.ai/anandh/DL_Assignment2_PartB/sweeps/vmgtaknn\" target=\"_blank\">https://wandb.ai/anandh/DL_Assignment2_PartB/sweeps/vmgtaknn</a>"
            ],
            "text/plain": [
              "<IPython.core.display.HTML object>"
            ]
          },
          "metadata": {},
          "output_type": "display_data"
        },
        {
          "name": "stdout",
          "output_type": "stream",
          "text": [
            "model_Xception_aug_False_bs_64_drop_0.15_dense_64_freeze_30\n",
            "Found 9000 images belonging to 10 classes.\n",
            "Found 999 images belonging to 10 classes.\n",
            "Found 2000 images belonging to 10 classes.\n",
            "Data Vaangiyachi\n",
            "29250802\n",
            "Training done\n",
            "140\n",
            "15\n",
            "Epoch 1/10\n",
            "INFO:tensorflow:Assets written to: best_model/assets\n",
            "140/140 - 193s - loss: 1.0160 - accuracy: 0.6792 - val_loss: 0.7532 - val_accuracy: 0.7760 - _timestamp: 1648796056.0000 - _runtime: 183.0000 - 193s/epoch - 1s/step\n",
            "Epoch 2/10\n",
            "140/140 - 167s - loss: 0.6234 - accuracy: 0.7988 - val_loss: 0.7434 - val_accuracy: 0.7667 - _timestamp: 1648796257.0000 - _runtime: 384.0000 - 167s/epoch - 1s/step\n",
            "Epoch 3/10\n",
            "140/140 - 166s - loss: 0.4549 - accuracy: 0.8505 - val_loss: 0.7592 - val_accuracy: 0.7625 - _timestamp: 1648796459.0000 - _runtime: 586.0000 - 166s/epoch - 1s/step\n",
            "Epoch 4/10\n",
            "INFO:tensorflow:Assets written to: best_model/assets\n",
            "140/140 - 189s - loss: 0.3237 - accuracy: 0.8948 - val_loss: 0.7353 - val_accuracy: 0.7937 - _timestamp: 1648796661.0000 - _runtime: 788.0000 - 189s/epoch - 1s/step\n",
            "Epoch 5/10\n",
            "140/140 - 167s - loss: 0.2456 - accuracy: 0.9223 - val_loss: 0.7735 - val_accuracy: 0.7906 - _timestamp: 1648796850.0000 - _runtime: 977.0000 - 167s/epoch - 1s/step\n",
            "Epoch 6/10\n",
            "140/140 - 166s - loss: 0.1801 - accuracy: 0.9445 - val_loss: 0.8171 - val_accuracy: 0.7760 - _timestamp: 1648797051.0000 - _runtime: 1178.0000 - 166s/epoch - 1s/step\n",
            "Epoch 7/10\n",
            "140/140 - 167s - loss: 0.1406 - accuracy: 0.9609 - val_loss: 0.7601 - val_accuracy: 0.7854 - _timestamp: 1648797254.0000 - _runtime: 1381.0000 - 167s/epoch - 1s/step\n",
            "Epoch 8/10\n",
            "140/140 - 167s - loss: 0.1271 - accuracy: 0.9649 - val_loss: 0.8352 - val_accuracy: 0.7729 - _timestamp: 1648797456.0000 - _runtime: 1583.0000 - 167s/epoch - 1s/step\n",
            "Epoch 9/10\n",
            "140/140 - 166s - loss: 0.1001 - accuracy: 0.9735 - val_loss: 0.8757 - val_accuracy: 0.7844 - _timestamp: 1648797657.0000 - _runtime: 1784.0000 - 166s/epoch - 1s/step\n",
            "Fine tuning\n",
            "Epoch 1/10\n",
            "140/140 - 171s - loss: 0.1195 - accuracy: 0.9647 - val_loss: 0.9271 - val_accuracy: 0.7937 - _timestamp: 1648797830.0000 - _runtime: 1957.0000 - 171s/epoch - 1s/step\n",
            "Epoch 2/10\n",
            "140/140 - 169s - loss: 0.0942 - accuracy: 0.9716 - val_loss: 0.9576 - val_accuracy: 0.7750 - _timestamp: 1648797998.0000 - _runtime: 2125.0000 - 169s/epoch - 1s/step\n",
            "Epoch 3/10\n",
            "140/140 - 166s - loss: 0.0806 - accuracy: 0.9755 - val_loss: 0.9888 - val_accuracy: 0.7844 - _timestamp: 1648798198.0000 - _runtime: 2325.0000 - 166s/epoch - 1s/step\n",
            "Epoch 4/10\n",
            "140/140 - 167s - loss: 0.0710 - accuracy: 0.9776 - val_loss: 1.0277 - val_accuracy: 0.7760 - _timestamp: 1648798365.0000 - _runtime: 2492.0000 - 167s/epoch - 1s/step\n",
            "Epoch 5/10\n",
            "140/140 - 168s - loss: 0.0588 - accuracy: 0.9832 - val_loss: 1.0968 - val_accuracy: 0.7833 - _timestamp: 1648798533.0000 - _runtime: 2660.0000 - 168s/epoch - 1s/step\n",
            "Epoch 6/10\n",
            "140/140 - 167s - loss: 0.0600 - accuracy: 0.9823 - val_loss: 1.0338 - val_accuracy: 0.7854 - _timestamp: 1648798734.0000 - _runtime: 2861.0000 - 167s/epoch - 1s/step\n",
            "32/32 [==============================] - 34s 1s/step - loss: 1.0069 - accuracy: 0.7810\n",
            "Test accuracy : 0.781000018119812\n",
            "\n"
          ]
        },
        {
          "data": {
            "text/html": [
              "Waiting for W&B process to finish... <strong style=\"color:green\">(success).</strong>"
            ],
            "text/plain": [
              "<IPython.core.display.HTML object>"
            ]
          },
          "metadata": {},
          "output_type": "display_data"
        },
        {
          "data": {
            "application/vnd.jupyter.widget-view+json": {
              "model_id": "26dc453b427a405bb64de3becd04f8ba",
              "version_major": 2,
              "version_minor": 0
            },
            "text/plain": [
              "VBox(children=(Label(value='245.011 MB of 245.011 MB uploaded (0.000 MB deduped)\\r'), FloatProgress(value=1.0,…"
            ]
          },
          "metadata": {},
          "output_type": "display_data"
        },
        {
          "data": {
            "text/html": [
              "<style>\n",
              "    table.wandb td:nth-child(1) { padding: 0 10px; text-align: right }\n",
              "    .wandb-row { display: flex; flex-direction: row; flex-wrap: wrap; width: 100% }\n",
              "    .wandb-col { display: flex; flex-direction: column; flex-basis: 100%; flex: 1; padding: 10px; }\n",
              "    </style>\n",
              "<div class=\"wandb-row\"><div class=\"wandb-col\"><h3>Run history:</h3><br/><table class=\"wandb\"><tr><td>accuracy</td><td>▁▄▅▆▇▇▇████████</td></tr><tr><td>epoch</td><td>▁▂▃▄▅▅▆▇█▁▂▃▄▅▅</td></tr><tr><td>loss</td><td>█▅▄▃▂▂▂▁▁▁▁▁▁▁▁</td></tr><tr><td>test_accuracy</td><td>▁</td></tr><tr><td>test_loss</td><td>▁</td></tr><tr><td>val_accuracy</td><td>▄▂▁█▇▄▆▃▆█▄▆▄▆▆</td></tr><tr><td>val_loss</td><td>▁▁▁▁▂▃▁▃▄▅▅▆▇█▇</td></tr></table><br/></div><div class=\"wandb-col\"><h3>Run summary:</h3><br/><table class=\"wandb\"><tr><td>accuracy</td><td>0.98232</td></tr><tr><td>best_epoch</td><td>3</td></tr><tr><td>best_val_loss</td><td>0.7353</td></tr><tr><td>epoch</td><td>5</td></tr><tr><td>loss</td><td>0.05999</td></tr><tr><td>test_accuracy</td><td>0.781</td></tr><tr><td>test_loss</td><td>1.00691</td></tr><tr><td>val_accuracy</td><td>0.78542</td></tr><tr><td>val_loss</td><td>1.03378</td></tr></table><br/></div></div>"
            ],
            "text/plain": [
              "<IPython.core.display.HTML object>"
            ]
          },
          "metadata": {},
          "output_type": "display_data"
        },
        {
          "data": {
            "text/html": [
              "Synced <strong style=\"color:#cdcd00\">gentle-sweep-145</strong>: <a href=\"https://wandb.ai/anandh/DL_Assignment2_PartB/runs/964gcej1\" target=\"_blank\">https://wandb.ai/anandh/DL_Assignment2_PartB/runs/964gcej1</a><br/>Synced 5 W&B file(s), 540 media file(s), 0 artifact file(s) and 1 other file(s)"
            ],
            "text/plain": [
              "<IPython.core.display.HTML object>"
            ]
          },
          "metadata": {},
          "output_type": "display_data"
        },
        {
          "data": {
            "text/html": [
              "Find logs at: <code>./wandb/run-20220401_065113-964gcej1/logs</code>"
            ],
            "text/plain": [
              "<IPython.core.display.HTML object>"
            ]
          },
          "metadata": {},
          "output_type": "display_data"
        },
        {
          "name": "stderr",
          "output_type": "stream",
          "text": [
            "\u001b[34m\u001b[1mwandb\u001b[0m: Agent Starting Run: gsoyml0j with config:\n",
            "\u001b[34m\u001b[1mwandb\u001b[0m: \taugment_data: False\n",
            "\u001b[34m\u001b[1mwandb\u001b[0m: \tbatch_size: 128\n",
            "\u001b[34m\u001b[1mwandb\u001b[0m: \tdense_layer: 64\n",
            "\u001b[34m\u001b[1mwandb\u001b[0m: \tdropout: 0.15\n",
            "\u001b[34m\u001b[1mwandb\u001b[0m: \tlayer_freeze: 20\n",
            "\u001b[34m\u001b[1mwandb\u001b[0m: \tpre_model: InceptionV3\n"
          ]
        },
        {
          "data": {
            "text/html": [
              "Tracking run with wandb version 0.12.11"
            ],
            "text/plain": [
              "<IPython.core.display.HTML object>"
            ]
          },
          "metadata": {},
          "output_type": "display_data"
        },
        {
          "data": {
            "text/html": [
              "Run data is saved locally in <code>/content/wandb/run-20220401_073950-gsoyml0j</code>"
            ],
            "text/plain": [
              "<IPython.core.display.HTML object>"
            ]
          },
          "metadata": {},
          "output_type": "display_data"
        },
        {
          "data": {
            "text/html": [
              "Syncing run <strong><a href=\"https://wandb.ai/anandh/DL_Assignment2_PartB/runs/gsoyml0j\" target=\"_blank\">generous-sweep-146</a></strong> to <a href=\"https://wandb.ai/anandh/DL_Assignment2_PartB\" target=\"_blank\">Weights & Biases</a> (<a href=\"https://wandb.me/run\" target=\"_blank\">docs</a>)<br/>Sweep page:  <a href=\"https://wandb.ai/anandh/DL_Assignment2_PartB/sweeps/vmgtaknn\" target=\"_blank\">https://wandb.ai/anandh/DL_Assignment2_PartB/sweeps/vmgtaknn</a>"
            ],
            "text/plain": [
              "<IPython.core.display.HTML object>"
            ]
          },
          "metadata": {},
          "output_type": "display_data"
        },
        {
          "name": "stdout",
          "output_type": "stream",
          "text": [
            "model_Xception_aug_False_bs_128_drop_0.15_dense_64_freeze_20\n",
            "Found 9000 images belonging to 10 classes.\n",
            "Found 999 images belonging to 10 classes.\n",
            "Found 2000 images belonging to 10 classes.\n",
            "Data Vaangiyachi\n",
            "29250802\n",
            "Training done\n",
            "70\n",
            "7\n",
            "Epoch 1/10\n",
            "INFO:tensorflow:Assets written to: best_model/assets\n",
            "70/70 - 195s - loss: 0.9895 - accuracy: 0.6823 - val_loss: 0.7441 - val_accuracy: 0.7768 - _timestamp: 1648798974.0000 - _runtime: 184.0000 - 195s/epoch - 3s/step\n",
            "Epoch 2/10\n",
            "70/70 - 168s - loss: 0.5782 - accuracy: 0.8118 - val_loss: 0.7354 - val_accuracy: 0.7701 - _timestamp: 1648799164.0000 - _runtime: 374.0000 - 168s/epoch - 2s/step\n",
            "Epoch 3/10\n",
            "INFO:tensorflow:Assets written to: best_model/assets\n",
            "70/70 - 190s - loss: 0.4273 - accuracy: 0.8602 - val_loss: 0.7187 - val_accuracy: 0.7891 - _timestamp: 1648799366.0000 - _runtime: 576.0000 - 190s/epoch - 3s/step\n",
            "Epoch 4/10\n",
            "70/70 - 168s - loss: 0.2959 - accuracy: 0.9043 - val_loss: 0.7166 - val_accuracy: 0.7846 - _timestamp: 1648799568.0000 - _runtime: 778.0000 - 168s/epoch - 2s/step\n",
            "Epoch 5/10\n",
            "70/70 - 166s - loss: 0.2171 - accuracy: 0.9324 - val_loss: 0.7547 - val_accuracy: 0.7868 - _timestamp: 1648799735.0000 - _runtime: 945.0000 - 166s/epoch - 2s/step\n",
            "Epoch 6/10\n",
            "INFO:tensorflow:Assets written to: best_model/assets\n",
            "70/70 - 188s - loss: 0.1565 - accuracy: 0.9548 - val_loss: 0.7602 - val_accuracy: 0.7935 - _timestamp: 1648799939.0000 - _runtime: 1149.0000 - 188s/epoch - 3s/step\n",
            "Epoch 7/10\n",
            "INFO:tensorflow:Assets written to: best_model/assets\n",
            "70/70 - 188s - loss: 0.1186 - accuracy: 0.9683 - val_loss: 0.7364 - val_accuracy: 0.8036 - _timestamp: 1648800126.0000 - _runtime: 1336.0000 - 188s/epoch - 3s/step\n",
            "Epoch 8/10\n",
            "70/70 - 166s - loss: 0.0918 - accuracy: 0.9776 - val_loss: 0.7744 - val_accuracy: 0.7946 - _timestamp: 1648800327.0000 - _runtime: 1537.0000 - 166s/epoch - 2s/step\n",
            "Epoch 9/10\n",
            "70/70 - 166s - loss: 0.0744 - accuracy: 0.9826 - val_loss: 0.8166 - val_accuracy: 0.7969 - _timestamp: 1648800529.0000 - _runtime: 1739.0000 - 166s/epoch - 2s/step\n",
            "Fine tuning\n",
            "Epoch 1/10\n",
            "70/70 - 173s - loss: 0.1052 - accuracy: 0.9691 - val_loss: 0.8912 - val_accuracy: 0.7723 - _timestamp: 1648800737.0000 - _runtime: 1947.0000 - 173s/epoch - 2s/step\n",
            "Epoch 2/10\n",
            "70/70 - 168s - loss: 0.0767 - accuracy: 0.9788 - val_loss: 0.8162 - val_accuracy: 0.7879 - _timestamp: 1648800938.0000 - _runtime: 2148.0000 - 168s/epoch - 2s/step\n",
            "Epoch 3/10\n",
            "70/70 - 166s - loss: 0.0536 - accuracy: 0.9881 - val_loss: 0.9537 - val_accuracy: 0.7857 - _timestamp: 1648801138.0000 - _runtime: 2348.0000 - 166s/epoch - 2s/step\n",
            "Epoch 4/10\n",
            "70/70 - 166s - loss: 0.0509 - accuracy: 0.9874 - val_loss: 0.8775 - val_accuracy: 0.7879 - _timestamp: 1648801339.0000 - _runtime: 2549.0000 - 166s/epoch - 2s/step\n",
            "Epoch 5/10\n",
            "70/70 - 166s - loss: 0.0449 - accuracy: 0.9901 - val_loss: 0.9450 - val_accuracy: 0.7913 - _timestamp: 1648801542.0000 - _runtime: 2752.0000 - 166s/epoch - 2s/step\n",
            "Epoch 6/10\n",
            "70/70 - 167s - loss: 0.0462 - accuracy: 0.9876 - val_loss: 0.9886 - val_accuracy: 0.7812 - _timestamp: 1648801745.0000 - _runtime: 2955.0000 - 167s/epoch - 2s/step\n",
            "Epoch 7/10\n",
            "70/70 - 166s - loss: 0.0388 - accuracy: 0.9897 - val_loss: 0.9434 - val_accuracy: 0.7891 - _timestamp: 1648801945.0000 - _runtime: 3155.0000 - 166s/epoch - 2s/step\n",
            "16/16 [==============================] - 33s 2s/step - loss: 0.9843 - accuracy: 0.7800\n",
            "Test accuracy : 0.7799999713897705\n",
            "\n"
          ]
        },
        {
          "data": {
            "text/html": [
              "Waiting for W&B process to finish... <strong style=\"color:green\">(success).</strong>"
            ],
            "text/plain": [
              "<IPython.core.display.HTML object>"
            ]
          },
          "metadata": {},
          "output_type": "display_data"
        },
        {
          "data": {
            "application/vnd.jupyter.widget-view+json": {
              "model_id": "872d8a2ffca44b139dfae108087c2b3b",
              "version_major": 2,
              "version_minor": 0
            },
            "text/plain": [
              "VBox(children=(Label(value='249.984 MB of 249.984 MB uploaded (0.000 MB deduped)\\r'), FloatProgress(value=1.0,…"
            ]
          },
          "metadata": {},
          "output_type": "display_data"
        },
        {
          "data": {
            "text/html": [
              "<style>\n",
              "    table.wandb td:nth-child(1) { padding: 0 10px; text-align: right }\n",
              "    .wandb-row { display: flex; flex-direction: row; flex-wrap: wrap; width: 100% }\n",
              "    .wandb-col { display: flex; flex-direction: column; flex-basis: 100%; flex: 1; padding: 10px; }\n",
              "    </style>\n",
              "<div class=\"wandb-row\"><div class=\"wandb-col\"><h3>Run history:</h3><br/><table class=\"wandb\"><tr><td>accuracy</td><td>▁▄▅▆▇▇██████████</td></tr><tr><td>epoch</td><td>▁▂▃▄▅▅▆▇█▁▂▃▄▅▅▆</td></tr><tr><td>loss</td><td>█▅▄▃▂▂▂▁▁▁▁▁▁▁▁▁</td></tr><tr><td>test_accuracy</td><td>▁</td></tr><tr><td>test_loss</td><td>▁</td></tr><tr><td>val_accuracy</td><td>▂▁▅▄▅▆█▆▇▁▅▄▅▅▃▅</td></tr><tr><td>val_loss</td><td>▂▁▁▁▂▂▂▂▄▅▄▇▅▇█▇</td></tr></table><br/></div><div class=\"wandb-col\"><h3>Run summary:</h3><br/><table class=\"wandb\"><tr><td>accuracy</td><td>0.98974</td></tr><tr><td>best_epoch</td><td>3</td></tr><tr><td>best_val_loss</td><td>0.71657</td></tr><tr><td>epoch</td><td>6</td></tr><tr><td>loss</td><td>0.03878</td></tr><tr><td>test_accuracy</td><td>0.78</td></tr><tr><td>test_loss</td><td>0.98429</td></tr><tr><td>val_accuracy</td><td>0.78906</td></tr><tr><td>val_loss</td><td>0.94341</td></tr></table><br/></div></div>"
            ],
            "text/plain": [
              "<IPython.core.display.HTML object>"
            ]
          },
          "metadata": {},
          "output_type": "display_data"
        },
        {
          "data": {
            "text/html": [
              "Synced <strong style=\"color:#cdcd00\">generous-sweep-146</strong>: <a href=\"https://wandb.ai/anandh/DL_Assignment2_PartB/runs/gsoyml0j\" target=\"_blank\">https://wandb.ai/anandh/DL_Assignment2_PartB/runs/gsoyml0j</a><br/>Synced 5 W&B file(s), 576 media file(s), 0 artifact file(s) and 1 other file(s)"
            ],
            "text/plain": [
              "<IPython.core.display.HTML object>"
            ]
          },
          "metadata": {},
          "output_type": "display_data"
        },
        {
          "data": {
            "text/html": [
              "Find logs at: <code>./wandb/run-20220401_073950-gsoyml0j/logs</code>"
            ],
            "text/plain": [
              "<IPython.core.display.HTML object>"
            ]
          },
          "metadata": {},
          "output_type": "display_data"
        },
        {
          "name": "stderr",
          "output_type": "stream",
          "text": [
            "\u001b[34m\u001b[1mwandb\u001b[0m: Agent Starting Run: p4r6ln4u with config:\n",
            "\u001b[34m\u001b[1mwandb\u001b[0m: \taugment_data: False\n",
            "\u001b[34m\u001b[1mwandb\u001b[0m: \tbatch_size: 64\n",
            "\u001b[34m\u001b[1mwandb\u001b[0m: \tdense_layer: 128\n",
            "\u001b[34m\u001b[1mwandb\u001b[0m: \tdropout: 0.2\n",
            "\u001b[34m\u001b[1mwandb\u001b[0m: \tlayer_freeze: 30\n",
            "\u001b[34m\u001b[1mwandb\u001b[0m: \tpre_model: InceptionV3\n"
          ]
        },
        {
          "data": {
            "text/html": [
              "Tracking run with wandb version 0.12.11"
            ],
            "text/plain": [
              "<IPython.core.display.HTML object>"
            ]
          },
          "metadata": {},
          "output_type": "display_data"
        },
        {
          "data": {
            "text/html": [
              "Run data is saved locally in <code>/content/wandb/run-20220401_083356-p4r6ln4u</code>"
            ],
            "text/plain": [
              "<IPython.core.display.HTML object>"
            ]
          },
          "metadata": {},
          "output_type": "display_data"
        },
        {
          "data": {
            "text/html": [
              "Syncing run <strong><a href=\"https://wandb.ai/anandh/DL_Assignment2_PartB/runs/p4r6ln4u\" target=\"_blank\">astral-sweep-147</a></strong> to <a href=\"https://wandb.ai/anandh/DL_Assignment2_PartB\" target=\"_blank\">Weights & Biases</a> (<a href=\"https://wandb.me/run\" target=\"_blank\">docs</a>)<br/>Sweep page:  <a href=\"https://wandb.ai/anandh/DL_Assignment2_PartB/sweeps/vmgtaknn\" target=\"_blank\">https://wandb.ai/anandh/DL_Assignment2_PartB/sweeps/vmgtaknn</a>"
            ],
            "text/plain": [
              "<IPython.core.display.HTML object>"
            ]
          },
          "metadata": {},
          "output_type": "display_data"
        },
        {
          "name": "stdout",
          "output_type": "stream",
          "text": [
            "model_Xception_aug_False_bs_64_drop_0.2_dense_128_freeze_30\n",
            "Found 9000 images belonging to 10 classes.\n",
            "Found 999 images belonging to 10 classes.\n",
            "Found 2000 images belonging to 10 classes.\n",
            "Data Vaangiyachi\n",
            "37640114\n",
            "Training done\n",
            "140\n",
            "15\n",
            "Epoch 1/10\n",
            "INFO:tensorflow:Assets written to: best_model/assets\n",
            "140/140 - 195s - loss: 0.9534 - accuracy: 0.7009 - val_loss: 0.7934 - val_accuracy: 0.7354 - _timestamp: 1648802221.0000 - _runtime: 185.0000 - 195s/epoch - 1s/step\n",
            "Epoch 2/10\n",
            "INFO:tensorflow:Assets written to: best_model/assets\n",
            "140/140 - 187s - loss: 0.5643 - accuracy: 0.8156 - val_loss: 0.7065 - val_accuracy: 0.7719 - _timestamp: 1648802408.0000 - _runtime: 372.0000 - 187s/epoch - 1s/step\n",
            "Epoch 3/10\n",
            "INFO:tensorflow:Assets written to: best_model/assets\n",
            "140/140 - 190s - loss: 0.3937 - accuracy: 0.8673 - val_loss: 0.7252 - val_accuracy: 0.7823 - _timestamp: 1648802598.0000 - _runtime: 562.0000 - 190s/epoch - 1s/step\n",
            "Epoch 4/10\n",
            "140/140 - 167s - loss: 0.2620 - accuracy: 0.9130 - val_loss: 0.8331 - val_accuracy: 0.7740 - _timestamp: 1648802787.0000 - _runtime: 751.0000 - 167s/epoch - 1s/step\n",
            "Epoch 5/10\n",
            "INFO:tensorflow:Assets written to: best_model/assets\n",
            "140/140 - 189s - loss: 0.1798 - accuracy: 0.9435 - val_loss: 0.7778 - val_accuracy: 0.7854 - _timestamp: 1648802954.0000 - _runtime: 918.0000 - 189s/epoch - 1s/step\n",
            "Epoch 6/10\n",
            "140/140 - 169s - loss: 0.1245 - accuracy: 0.9631 - val_loss: 0.8851 - val_accuracy: 0.7719 - _timestamp: 1648803157.0000 - _runtime: 1121.0000 - 169s/epoch - 1s/step\n",
            "Epoch 7/10\n",
            "INFO:tensorflow:Assets written to: best_model/assets\n",
            "140/140 - 188s - loss: 0.0895 - accuracy: 0.9757 - val_loss: 0.8397 - val_accuracy: 0.7896 - _timestamp: 1648803357.0000 - _runtime: 1321.0000 - 188s/epoch - 1s/step\n",
            "Fine tuning\n",
            "Epoch 1/10\n",
            "140/140 - 174s - loss: 0.1299 - accuracy: 0.9534 - val_loss: 0.8981 - val_accuracy: 0.7573 - _timestamp: 1648803566.0000 - _runtime: 1530.0000 - 174s/epoch - 1s/step\n",
            "Epoch 2/10\n",
            "140/140 - 168s - loss: 0.0960 - accuracy: 0.9683 - val_loss: 0.9785 - val_accuracy: 0.7833 - _timestamp: 1648803734.0000 - _runtime: 1698.0000 - 168s/epoch - 1s/step\n",
            "Epoch 3/10\n",
            "140/140 - 167s - loss: 0.0745 - accuracy: 0.9754 - val_loss: 1.0011 - val_accuracy: 0.7781 - _timestamp: 1648803901.0000 - _runtime: 1865.0000 - 167s/epoch - 1s/step\n",
            "Epoch 4/10\n",
            "140/140 - 168s - loss: 0.0617 - accuracy: 0.9810 - val_loss: 0.9727 - val_accuracy: 0.7865 - _timestamp: 1648804069.0000 - _runtime: 2033.0000 - 168s/epoch - 1s/step\n",
            "Epoch 5/10\n",
            "140/140 - 166s - loss: 0.0596 - accuracy: 0.9804 - val_loss: 1.0471 - val_accuracy: 0.7781 - _timestamp: 1648804236.0000 - _runtime: 2200.0000 - 166s/epoch - 1s/step\n",
            "Epoch 6/10\n",
            "140/140 - 167s - loss: 0.0635 - accuracy: 0.9786 - val_loss: 1.0717 - val_accuracy: 0.7792 - _timestamp: 1648804438.0000 - _runtime: 2402.0000 - 167s/epoch - 1s/step\n",
            "32/32 [==============================] - 34s 1s/step - loss: 1.0873 - accuracy: 0.7780\n",
            "Test accuracy : 0.777999997138977\n",
            "\n"
          ]
        },
        {
          "data": {
            "text/html": [
              "Waiting for W&B process to finish... <strong style=\"color:green\">(success).</strong>"
            ],
            "text/plain": [
              "<IPython.core.display.HTML object>"
            ]
          },
          "metadata": {},
          "output_type": "display_data"
        },
        {
          "data": {
            "application/vnd.jupyter.widget-view+json": {
              "model_id": "58be847fd0a44dd8876969d0d2f560cd",
              "version_major": 2,
              "version_minor": 0
            },
            "text/plain": [
              "VBox(children=(Label(value='332.339 MB of 332.339 MB uploaded (0.000 MB deduped)\\r'), FloatProgress(value=1.0,…"
            ]
          },
          "metadata": {},
          "output_type": "display_data"
        },
        {
          "data": {
            "text/html": [
              "<style>\n",
              "    table.wandb td:nth-child(1) { padding: 0 10px; text-align: right }\n",
              "    .wandb-row { display: flex; flex-direction: row; flex-wrap: wrap; width: 100% }\n",
              "    .wandb-col { display: flex; flex-direction: column; flex-basis: 100%; flex: 1; padding: 10px; }\n",
              "    </style>\n",
              "<div class=\"wandb-row\"><div class=\"wandb-col\"><h3>Run history:</h3><br/><table class=\"wandb\"><tr><td>accuracy</td><td>▁▄▅▆▇██▇█████</td></tr><tr><td>epoch</td><td>▁▂▃▅▆▇█▁▂▃▅▆▇</td></tr><tr><td>loss</td><td>█▅▄▃▂▂▁▂▁▁▁▁▁</td></tr><tr><td>test_accuracy</td><td>▁</td></tr><tr><td>test_loss</td><td>▁</td></tr><tr><td>val_accuracy</td><td>▁▆▇▆▇▆█▄▇▇█▇▇</td></tr><tr><td>val_loss</td><td>▃▁▁▃▂▄▄▅▆▇▆██</td></tr></table><br/></div><div class=\"wandb-col\"><h3>Run summary:</h3><br/><table class=\"wandb\"><tr><td>accuracy</td><td>0.97863</td></tr><tr><td>best_epoch</td><td>1</td></tr><tr><td>best_val_loss</td><td>0.70646</td></tr><tr><td>epoch</td><td>5</td></tr><tr><td>loss</td><td>0.0635</td></tr><tr><td>test_accuracy</td><td>0.778</td></tr><tr><td>test_loss</td><td>1.08732</td></tr><tr><td>val_accuracy</td><td>0.77917</td></tr><tr><td>val_loss</td><td>1.07167</td></tr></table><br/></div></div>"
            ],
            "text/plain": [
              "<IPython.core.display.HTML object>"
            ]
          },
          "metadata": {},
          "output_type": "display_data"
        },
        {
          "data": {
            "text/html": [
              "Synced <strong style=\"color:#cdcd00\">astral-sweep-147</strong>: <a href=\"https://wandb.ai/anandh/DL_Assignment2_PartB/runs/p4r6ln4u\" target=\"_blank\">https://wandb.ai/anandh/DL_Assignment2_PartB/runs/p4r6ln4u</a><br/>Synced 5 W&B file(s), 468 media file(s), 0 artifact file(s) and 1 other file(s)"
            ],
            "text/plain": [
              "<IPython.core.display.HTML object>"
            ]
          },
          "metadata": {},
          "output_type": "display_data"
        },
        {
          "data": {
            "text/html": [
              "Find logs at: <code>./wandb/run-20220401_083356-p4r6ln4u/logs</code>"
            ],
            "text/plain": [
              "<IPython.core.display.HTML object>"
            ]
          },
          "metadata": {},
          "output_type": "display_data"
        },
        {
          "name": "stderr",
          "output_type": "stream",
          "text": [
            "\u001b[34m\u001b[1mwandb\u001b[0m: Agent Starting Run: vgmydtnt with config:\n",
            "\u001b[34m\u001b[1mwandb\u001b[0m: \taugment_data: False\n",
            "\u001b[34m\u001b[1mwandb\u001b[0m: \tbatch_size: 64\n",
            "\u001b[34m\u001b[1mwandb\u001b[0m: \tdense_layer: 64\n",
            "\u001b[34m\u001b[1mwandb\u001b[0m: \tdropout: 0.15\n",
            "\u001b[34m\u001b[1mwandb\u001b[0m: \tlayer_freeze: 30\n",
            "\u001b[34m\u001b[1mwandb\u001b[0m: \tpre_model: InceptionV3\n"
          ]
        },
        {
          "data": {
            "text/html": [
              "Tracking run with wandb version 0.12.11"
            ],
            "text/plain": [
              "<IPython.core.display.HTML object>"
            ]
          },
          "metadata": {},
          "output_type": "display_data"
        },
        {
          "data": {
            "text/html": [
              "Run data is saved locally in <code>/content/wandb/run-20220401_091454-vgmydtnt</code>"
            ],
            "text/plain": [
              "<IPython.core.display.HTML object>"
            ]
          },
          "metadata": {},
          "output_type": "display_data"
        },
        {
          "data": {
            "text/html": [
              "Syncing run <strong><a href=\"https://wandb.ai/anandh/DL_Assignment2_PartB/runs/vgmydtnt\" target=\"_blank\">swept-sweep-148</a></strong> to <a href=\"https://wandb.ai/anandh/DL_Assignment2_PartB\" target=\"_blank\">Weights & Biases</a> (<a href=\"https://wandb.me/run\" target=\"_blank\">docs</a>)<br/>Sweep page:  <a href=\"https://wandb.ai/anandh/DL_Assignment2_PartB/sweeps/vmgtaknn\" target=\"_blank\">https://wandb.ai/anandh/DL_Assignment2_PartB/sweeps/vmgtaknn</a>"
            ],
            "text/plain": [
              "<IPython.core.display.HTML object>"
            ]
          },
          "metadata": {},
          "output_type": "display_data"
        },
        {
          "name": "stdout",
          "output_type": "stream",
          "text": [
            "model_Xception_aug_False_bs_64_drop_0.15_dense_64_freeze_30\n",
            "Found 9000 images belonging to 10 classes.\n",
            "Found 999 images belonging to 10 classes.\n",
            "Found 2000 images belonging to 10 classes.\n",
            "Data Vaangiyachi\n",
            "29250802\n",
            "Training done\n",
            "140\n",
            "15\n",
            "Epoch 1/10\n",
            "INFO:tensorflow:Assets written to: best_model/assets\n",
            "140/140 - 194s - loss: 0.9734 - accuracy: 0.6940 - val_loss: 0.7474 - val_accuracy: 0.7698 - _timestamp: 1648804678.0000 - _runtime: 184.0000 - 194s/epoch - 1s/step\n",
            "Epoch 2/10\n",
            "INFO:tensorflow:Assets written to: best_model/assets\n",
            "140/140 - 188s - loss: 0.5831 - accuracy: 0.8062 - val_loss: 0.7369 - val_accuracy: 0.7760 - _timestamp: 1648804878.0000 - _runtime: 384.0000 - 188s/epoch - 1s/step\n",
            "Epoch 3/10\n",
            "140/140 - 166s - loss: 0.4011 - accuracy: 0.8682 - val_loss: 0.7959 - val_accuracy: 0.7698 - _timestamp: 1648805065.0000 - _runtime: 571.0000 - 166s/epoch - 1s/step\n",
            "Epoch 4/10\n",
            "INFO:tensorflow:Assets written to: best_model/assets\n",
            "140/140 - 189s - loss: 0.2765 - accuracy: 0.9062 - val_loss: 0.8200 - val_accuracy: 0.7781 - _timestamp: 1648805233.0000 - _runtime: 739.0000 - 189s/epoch - 1s/step\n",
            "Epoch 5/10\n",
            "140/140 - 169s - loss: 0.2002 - accuracy: 0.9364 - val_loss: 0.8348 - val_accuracy: 0.7729 - _timestamp: 1648805435.0000 - _runtime: 941.0000 - 169s/epoch - 1s/step\n",
            "Epoch 6/10\n",
            "INFO:tensorflow:Assets written to: best_model/assets\n",
            "140/140 - 190s - loss: 0.1448 - accuracy: 0.9550 - val_loss: 0.8351 - val_accuracy: 0.7833 - _timestamp: 1648805638.0000 - _runtime: 1144.0000 - 190s/epoch - 1s/step\n",
            "Epoch 7/10\n",
            "140/140 - 168s - loss: 0.1094 - accuracy: 0.9698 - val_loss: 0.8587 - val_accuracy: 0.7823 - _timestamp: 1648805839.0000 - _runtime: 1345.0000 - 168s/epoch - 1s/step\n",
            "Fine tuning\n",
            "Epoch 1/10\n",
            "140/140 - 173s - loss: 0.1359 - accuracy: 0.9579 - val_loss: 0.9187 - val_accuracy: 0.7667 - _timestamp: 1648806045.0000 - _runtime: 1551.0000 - 173s/epoch - 1s/step\n",
            "Epoch 2/10\n",
            "140/140 - 168s - loss: 0.1006 - accuracy: 0.9678 - val_loss: 0.9873 - val_accuracy: 0.7708 - _timestamp: 1648806245.0000 - _runtime: 1751.0000 - 168s/epoch - 1s/step\n",
            "Epoch 3/10\n",
            "140/140 - 167s - loss: 0.0873 - accuracy: 0.9728 - val_loss: 1.0319 - val_accuracy: 0.7792 - _timestamp: 1648806446.0000 - _runtime: 1952.0000 - 167s/epoch - 1s/step\n",
            "Epoch 4/10\n",
            "140/140 - 167s - loss: 0.0788 - accuracy: 0.9745 - val_loss: 1.0372 - val_accuracy: 0.7771 - _timestamp: 1648806648.0000 - _runtime: 2154.0000 - 167s/epoch - 1s/step\n",
            "Epoch 5/10\n",
            "INFO:tensorflow:Assets written to: best_model/assets\n",
            "140/140 - 187s - loss: 0.0593 - accuracy: 0.9821 - val_loss: 1.0780 - val_accuracy: 0.7865 - _timestamp: 1648806849.0000 - _runtime: 2355.0000 - 187s/epoch - 1s/step\n",
            "Epoch 6/10\n",
            "140/140 - 167s - loss: 0.0538 - accuracy: 0.9840 - val_loss: 0.9819 - val_accuracy: 0.7833 - _timestamp: 1648807052.0000 - _runtime: 2558.0000 - 167s/epoch - 1s/step\n",
            "32/32 [==============================] - 34s 1s/step - loss: 1.0339 - accuracy: 0.7795\n",
            "Test accuracy : 0.7795000076293945\n",
            "\n"
          ]
        },
        {
          "data": {
            "text/html": [
              "Waiting for W&B process to finish... <strong style=\"color:green\">(success).</strong>"
            ],
            "text/plain": [
              "<IPython.core.display.HTML object>"
            ]
          },
          "metadata": {},
          "output_type": "display_data"
        },
        {
          "data": {
            "application/vnd.jupyter.widget-view+json": {
              "model_id": "2c2ba9400e6d4219b30338158fa1fa64",
              "version_major": 2,
              "version_minor": 0
            },
            "text/plain": [
              "VBox(children=(Label(value='236.329 MB of 236.329 MB uploaded (0.000 MB deduped)\\r'), FloatProgress(value=1.0,…"
            ]
          },
          "metadata": {},
          "output_type": "display_data"
        },
        {
          "data": {
            "text/html": [
              "<style>\n",
              "    table.wandb td:nth-child(1) { padding: 0 10px; text-align: right }\n",
              "    .wandb-row { display: flex; flex-direction: row; flex-wrap: wrap; width: 100% }\n",
              "    .wandb-col { display: flex; flex-direction: column; flex-basis: 100%; flex: 1; padding: 10px; }\n",
              "    </style>\n",
              "<div class=\"wandb-row\"><div class=\"wandb-col\"><h3>Run history:</h3><br/><table class=\"wandb\"><tr><td>accuracy</td><td>▁▄▅▆▇▇█▇█████</td></tr><tr><td>epoch</td><td>▁▂▃▅▆▇█▁▂▃▅▆▇</td></tr><tr><td>loss</td><td>█▅▄▃▂▂▁▂▁▁▁▁▁</td></tr><tr><td>test_accuracy</td><td>▁</td></tr><tr><td>test_loss</td><td>▁</td></tr><tr><td>val_accuracy</td><td>▂▄▂▅▃▇▇▁▂▅▅█▇</td></tr><tr><td>val_loss</td><td>▁▁▂▃▃▃▃▅▆▇▇█▆</td></tr></table><br/></div><div class=\"wandb-col\"><h3>Run summary:</h3><br/><table class=\"wandb\"><tr><td>accuracy</td><td>0.984</td></tr><tr><td>best_epoch</td><td>1</td></tr><tr><td>best_val_loss</td><td>0.73687</td></tr><tr><td>epoch</td><td>5</td></tr><tr><td>loss</td><td>0.05381</td></tr><tr><td>test_accuracy</td><td>0.7795</td></tr><tr><td>test_loss</td><td>1.03391</td></tr><tr><td>val_accuracy</td><td>0.78333</td></tr><tr><td>val_loss</td><td>0.98195</td></tr></table><br/></div></div>"
            ],
            "text/plain": [
              "<IPython.core.display.HTML object>"
            ]
          },
          "metadata": {},
          "output_type": "display_data"
        },
        {
          "data": {
            "text/html": [
              "Synced <strong style=\"color:#cdcd00\">swept-sweep-148</strong>: <a href=\"https://wandb.ai/anandh/DL_Assignment2_PartB/runs/vgmydtnt\" target=\"_blank\">https://wandb.ai/anandh/DL_Assignment2_PartB/runs/vgmydtnt</a><br/>Synced 5 W&B file(s), 468 media file(s), 0 artifact file(s) and 1 other file(s)"
            ],
            "text/plain": [
              "<IPython.core.display.HTML object>"
            ]
          },
          "metadata": {},
          "output_type": "display_data"
        },
        {
          "data": {
            "text/html": [
              "Find logs at: <code>./wandb/run-20220401_091454-vgmydtnt/logs</code>"
            ],
            "text/plain": [
              "<IPython.core.display.HTML object>"
            ]
          },
          "metadata": {},
          "output_type": "display_data"
        },
        {
          "name": "stderr",
          "output_type": "stream",
          "text": [
            "\u001b[34m\u001b[1mwandb\u001b[0m: Agent Starting Run: 4ylhdo48 with config:\n",
            "\u001b[34m\u001b[1mwandb\u001b[0m: \taugment_data: True\n",
            "\u001b[34m\u001b[1mwandb\u001b[0m: \tbatch_size: 64\n",
            "\u001b[34m\u001b[1mwandb\u001b[0m: \tdense_layer: 64\n",
            "\u001b[34m\u001b[1mwandb\u001b[0m: \tdropout: 0\n",
            "\u001b[34m\u001b[1mwandb\u001b[0m: \tlayer_freeze: 30\n",
            "\u001b[34m\u001b[1mwandb\u001b[0m: \tpre_model: InceptionV3\n"
          ]
        },
        {
          "data": {
            "text/html": [
              "Tracking run with wandb version 0.12.11"
            ],
            "text/plain": [
              "<IPython.core.display.HTML object>"
            ]
          },
          "metadata": {},
          "output_type": "display_data"
        },
        {
          "data": {
            "text/html": [
              "Run data is saved locally in <code>/content/wandb/run-20220401_095826-4ylhdo48</code>"
            ],
            "text/plain": [
              "<IPython.core.display.HTML object>"
            ]
          },
          "metadata": {},
          "output_type": "display_data"
        },
        {
          "data": {
            "text/html": [
              "Syncing run <strong><a href=\"https://wandb.ai/anandh/DL_Assignment2_PartB/runs/4ylhdo48\" target=\"_blank\">desert-sweep-149</a></strong> to <a href=\"https://wandb.ai/anandh/DL_Assignment2_PartB\" target=\"_blank\">Weights & Biases</a> (<a href=\"https://wandb.me/run\" target=\"_blank\">docs</a>)<br/>Sweep page:  <a href=\"https://wandb.ai/anandh/DL_Assignment2_PartB/sweeps/vmgtaknn\" target=\"_blank\">https://wandb.ai/anandh/DL_Assignment2_PartB/sweeps/vmgtaknn</a>"
            ],
            "text/plain": [
              "<IPython.core.display.HTML object>"
            ]
          },
          "metadata": {},
          "output_type": "display_data"
        },
        {
          "name": "stdout",
          "output_type": "stream",
          "text": [
            "model_Xception_aug_True_bs_64_drop_0_dense_64_freeze_30\n",
            "Found 9000 images belonging to 10 classes.\n",
            "Found 999 images belonging to 10 classes.\n",
            "Found 2000 images belonging to 10 classes.\n",
            "Data Vaangiyachi\n",
            "29250802\n",
            "Training done\n",
            "140\n",
            "15\n",
            "Epoch 1/10\n",
            "INFO:tensorflow:Assets written to: best_model/assets\n",
            "140/140 - 329s - loss: 1.1436 - accuracy: 0.6341 - val_loss: 0.9310 - val_accuracy: 0.6938 - _timestamp: 1648807424.0000 - _runtime: 318.0000 - 329s/epoch - 2s/step\n",
            "Epoch 2/10\n",
            "140/140 - 305s - loss: 0.9090 - accuracy: 0.7030 - val_loss: 0.9710 - val_accuracy: 0.6687 - _timestamp: 1648807753.0000 - _runtime: 647.0000 - 305s/epoch - 2s/step\n",
            "Epoch 3/10\n",
            "140/140 - 305s - loss: 0.8581 - accuracy: 0.7205 - val_loss: 0.9280 - val_accuracy: 0.6906 - _timestamp: 1648808073.0000 - _runtime: 967.0000 - 305s/epoch - 2s/step\n",
            "Epoch 4/10\n",
            "INFO:tensorflow:Assets written to: best_model/assets\n",
            "140/140 - 324s - loss: 0.7979 - accuracy: 0.7319 - val_loss: 0.8856 - val_accuracy: 0.7156 - _timestamp: 1648808394.0000 - _runtime: 1288.0000 - 324s/epoch - 2s/step\n",
            "Epoch 5/10\n",
            "140/140 - 300s - loss: 0.7569 - accuracy: 0.7484 - val_loss: 0.8961 - val_accuracy: 0.7156 - _timestamp: 1648808773.0000 - _runtime: 1667.0000 - 300s/epoch - 2s/step\n",
            "Epoch 6/10\n",
            "INFO:tensorflow:Assets written to: best_model/assets\n",
            "140/140 - 319s - loss: 0.7407 - accuracy: 0.7545 - val_loss: 0.9244 - val_accuracy: 0.7177 - _timestamp: 1648809093.0000 - _runtime: 1987.0000 - 319s/epoch - 2s/step\n",
            "Epoch 7/10\n",
            "140/140 - 298s - loss: 0.7126 - accuracy: 0.7624 - val_loss: 0.9262 - val_accuracy: 0.7021 - _timestamp: 1648809412.0000 - _runtime: 2306.0000 - 298s/epoch - 2s/step\n",
            "Epoch 8/10\n",
            "140/140 - 296s - loss: 0.6995 - accuracy: 0.7660 - val_loss: 0.9883 - val_accuracy: 0.6865 - _timestamp: 1648809732.0000 - _runtime: 2626.0000 - 296s/epoch - 2s/step\n",
            "Epoch 9/10\n",
            "140/140 - 300s - loss: 0.6642 - accuracy: 0.7698 - val_loss: 0.9543 - val_accuracy: 0.7000 - _timestamp: 1648810032.0000 - _runtime: 2926.0000 - 300s/epoch - 2s/step\n",
            "Fine tuning\n",
            "Epoch 1/10\n",
            "140/140 - 306s - loss: 0.6890 - accuracy: 0.7703 - val_loss: 0.8960 - val_accuracy: 0.7052 - _timestamp: 1648810341.0000 - _runtime: 3235.0000 - 306s/epoch - 2s/step\n",
            "Epoch 2/10\n",
            "INFO:tensorflow:Assets written to: best_model/assets\n",
            "140/140 - 322s - loss: 0.6553 - accuracy: 0.7779 - val_loss: 0.8664 - val_accuracy: 0.7260 - _timestamp: 1648810644.0000 - _runtime: 3538.0000 - 322s/epoch - 2s/step\n",
            "Epoch 3/10\n",
            "140/140 - 300s - loss: 0.6381 - accuracy: 0.7863 - val_loss: 0.8894 - val_accuracy: 0.7083 - _timestamp: 1648810963.0000 - _runtime: 3857.0000 - 300s/epoch - 2s/step\n",
            "Epoch 4/10\n"
          ]
        }
      ],
      "source": [
        "sweep_config = {\n",
        "  \"name\": \"CS6910 Assignment 2 - Part B\",\n",
        "  \"metric\": {\n",
        "      \"name\":\"val_accuracy\",\n",
        "      \"goal\": \"maximize\"\n",
        "  },\n",
        "  \"method\": \"bayes\",\n",
        "  \"parameters\": {\n",
        "        \"augment_data\": {\n",
        "            \"values\": [True, False]\n",
        "        },\n",
        "        \"batch_size\": {\n",
        "            \"values\": [64, 128]\n",
        "        },\n",
        "        \"dropout\": {\n",
        "            \"values\": [0, 0.2, 0.15]\n",
        "        },\n",
        "        \"dense_layer\": {\n",
        "            \"values\": [128,64]\n",
        "        },\n",
        "        \"layer_freeze\": {\n",
        "            \"values\": [30, 20]\n",
        "        },\n",
        "        \"pre_model\":{\n",
        "            \"values\":[\"ResNet50\",\"InceptionResNetV2\",\"InceptionV3\"]\n",
        "        }\n",
        "\n",
        "    }\n",
        "}\n",
        "\n",
        "sweep_id =\"vmgtaknn\"\n",
        "wandb.agent(sweep_id,train, entity=\"anandh\", project=\"DL_Assignment2_PartB\", count=10)\n"
      ]
    }
  ]
}