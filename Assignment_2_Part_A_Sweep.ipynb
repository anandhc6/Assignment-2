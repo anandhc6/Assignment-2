{
  "cells": [
    {
      "cell_type": "markdown",
      "metadata": {
        "id": "view-in-github",
        "colab_type": "text"
      },
      "source": [
        "<a href=\"https://colab.research.google.com/github/anandhc6/Assignment-2/blob/main/Assignment_2_Part_A_Sweep.ipynb\" target=\"_parent\"><img src=\"https://colab.research.google.com/assets/colab-badge.svg\" alt=\"Open In Colab\"/></a>"
      ]
    },
    {
      "cell_type": "code",
      "execution_count": null,
      "metadata": {
        "id": "IdrmeO4MRRsh"
      },
      "outputs": [],
      "source": [
        "#Downloading the dataset as zip folder\n",
        "\n",
        "!gdown https://storage.googleapis.com/wandb_datasets/nature_12K.zip"
      ]
    },
    {
      "cell_type": "code",
      "execution_count": null,
      "metadata": {
        "id": "HAFVnuuvQFJJ"
      },
      "outputs": [],
      "source": [
        "# Unzipping the dataset\n",
        "\n",
        "!unzip -q nature_12K.zip"
      ]
    },
    {
      "cell_type": "code",
      "execution_count": null,
      "metadata": {
        "colab": {
          "base_uri": "https://localhost:8080/"
        },
        "id": "1WaWNMqHdt1w",
        "outputId": "cb2623c3-90c9-49c4-98ef-490e36c8ba12"
      },
      "outputs": [
        {
          "output_type": "stream",
          "name": "stdout",
          "text": [
            "Collecting wandb\n",
            "  Downloading wandb-0.12.11-py2.py3-none-any.whl (1.7 MB)\n",
            "\u001b[K     |████████████████████████████████| 1.7 MB 8.4 MB/s \n",
            "\u001b[?25hCollecting sentry-sdk>=1.0.0\n",
            "  Downloading sentry_sdk-1.5.8-py2.py3-none-any.whl (144 kB)\n",
            "\u001b[K     |████████████████████████████████| 144 kB 62.3 MB/s \n",
            "\u001b[?25hCollecting pathtools\n",
            "  Downloading pathtools-0.1.2.tar.gz (11 kB)\n",
            "Collecting yaspin>=1.0.0\n",
            "  Downloading yaspin-2.1.0-py3-none-any.whl (18 kB)\n",
            "Collecting shortuuid>=0.5.0\n",
            "  Downloading shortuuid-1.0.8-py3-none-any.whl (9.5 kB)\n",
            "Requirement already satisfied: protobuf>=3.12.0 in /usr/local/lib/python3.7/dist-packages (from wandb) (3.17.3)\n",
            "Requirement already satisfied: python-dateutil>=2.6.1 in /usr/local/lib/python3.7/dist-packages (from wandb) (2.8.2)\n",
            "Requirement already satisfied: PyYAML in /usr/local/lib/python3.7/dist-packages (from wandb) (3.13)\n",
            "Collecting setproctitle\n",
            "  Downloading setproctitle-1.2.2-cp37-cp37m-manylinux1_x86_64.whl (36 kB)\n",
            "Requirement already satisfied: promise<3,>=2.0 in /usr/local/lib/python3.7/dist-packages (from wandb) (2.3)\n",
            "Requirement already satisfied: Click!=8.0.0,>=7.0 in /usr/local/lib/python3.7/dist-packages (from wandb) (7.1.2)\n",
            "Requirement already satisfied: psutil>=5.0.0 in /usr/local/lib/python3.7/dist-packages (from wandb) (5.4.8)\n",
            "Requirement already satisfied: six>=1.13.0 in /usr/local/lib/python3.7/dist-packages (from wandb) (1.15.0)\n",
            "Requirement already satisfied: requests<3,>=2.0.0 in /usr/local/lib/python3.7/dist-packages (from wandb) (2.23.0)\n",
            "Collecting GitPython>=1.0.0\n",
            "  Downloading GitPython-3.1.27-py3-none-any.whl (181 kB)\n",
            "\u001b[K     |████████████████████████████████| 181 kB 77.9 MB/s \n",
            "\u001b[?25hCollecting docker-pycreds>=0.4.0\n",
            "  Downloading docker_pycreds-0.4.0-py2.py3-none-any.whl (9.0 kB)\n",
            "Requirement already satisfied: typing-extensions>=3.7.4.3 in /usr/local/lib/python3.7/dist-packages (from GitPython>=1.0.0->wandb) (3.10.0.2)\n",
            "Collecting gitdb<5,>=4.0.1\n",
            "  Downloading gitdb-4.0.9-py3-none-any.whl (63 kB)\n",
            "\u001b[K     |████████████████████████████████| 63 kB 2.1 MB/s \n",
            "\u001b[?25hCollecting smmap<6,>=3.0.1\n",
            "  Downloading smmap-5.0.0-py3-none-any.whl (24 kB)\n",
            "Requirement already satisfied: idna<3,>=2.5 in /usr/local/lib/python3.7/dist-packages (from requests<3,>=2.0.0->wandb) (2.10)\n",
            "Requirement already satisfied: urllib3!=1.25.0,!=1.25.1,<1.26,>=1.21.1 in /usr/local/lib/python3.7/dist-packages (from requests<3,>=2.0.0->wandb) (1.24.3)\n",
            "Requirement already satisfied: certifi>=2017.4.17 in /usr/local/lib/python3.7/dist-packages (from requests<3,>=2.0.0->wandb) (2021.10.8)\n",
            "Requirement already satisfied: chardet<4,>=3.0.2 in /usr/local/lib/python3.7/dist-packages (from requests<3,>=2.0.0->wandb) (3.0.4)\n",
            "Requirement already satisfied: termcolor<2.0.0,>=1.1.0 in /usr/local/lib/python3.7/dist-packages (from yaspin>=1.0.0->wandb) (1.1.0)\n",
            "Building wheels for collected packages: pathtools\n",
            "  Building wheel for pathtools (setup.py) ... \u001b[?25l\u001b[?25hdone\n",
            "  Created wheel for pathtools: filename=pathtools-0.1.2-py3-none-any.whl size=8806 sha256=77f8916371e0f1d3fed3187e03be13a0e22b79a57c3cf67ad966b1954feeb9ef\n",
            "  Stored in directory: /root/.cache/pip/wheels/3e/31/09/fa59cef12cdcfecc627b3d24273699f390e71828921b2cbba2\n",
            "Successfully built pathtools\n",
            "Installing collected packages: smmap, gitdb, yaspin, shortuuid, setproctitle, sentry-sdk, pathtools, GitPython, docker-pycreds, wandb\n",
            "Successfully installed GitPython-3.1.27 docker-pycreds-0.4.0 gitdb-4.0.9 pathtools-0.1.2 sentry-sdk-1.5.8 setproctitle-1.2.2 shortuuid-1.0.8 smmap-5.0.0 wandb-0.12.11 yaspin-2.1.0\n"
          ]
        }
      ],
      "source": [
        "#installing wandb\n",
        "\n",
        "!pip install wandb --upgrade"
      ]
    },
    {
      "cell_type": "code",
      "execution_count": null,
      "metadata": {
        "id": "jifqQnaUS5fI"
      },
      "outputs": [],
      "source": [
        "# Importing necessary packages\n",
        "\n",
        "import os\n",
        "import glob\n",
        "import wandb\n",
        "import pathlib\n",
        "import numpy as np\n",
        "from PIL import Image\n",
        "import tensorflow as tf\n",
        "from tensorflow import keras\n",
        "import matplotlib.pyplot as plt\n",
        "from tensorflow.keras import layers\n",
        "from wandb.keras import WandbCallback\n",
        "from tensorflow.keras.optimizers import Adam\n",
        "from tensorflow.keras.models import Sequential, Model\n",
        "from tensorflow.keras.preprocessing.image import ImageDataGenerator\n",
        "from tensorflow.keras.callbacks import EarlyStopping, ModelCheckpoint\n",
        "from tensorflow.keras.preprocessing import image_dataset_from_directory\n",
        "from tensorflow.keras.layers.experimental.preprocessing import Rescaling\n",
        "from tensorflow.keras.layers import Dense, Flatten, Conv2D, MaxPooling2D, Activation, Dropout, BatchNormalization\n"
      ]
    },
    {
      "cell_type": "code",
      "execution_count": null,
      "metadata": {
        "id": "RQuOWlMgTARv"
      },
      "outputs": [],
      "source": [
        "#Data preperation\n",
        "\n",
        "def datagen(batch_size, augment_data):\n",
        "\n",
        "  Data_dir=pathlib.Path('inaturalist_12K')\n",
        "  # augment_data=False\n",
        "  train_path = os.path.join(Data_dir, \"train\")\n",
        "  test_path = os.path.join(Data_dir, \"val\")\n",
        "\n",
        "  if augment_data:\n",
        "    train_rawdata = ImageDataGenerator(rescale=1./255,\n",
        "                                      rotation_range=90,\n",
        "                                      zoom_range=0.2,\n",
        "                                      shear_range=0.2,\n",
        "                                      validation_split=0.1,\n",
        "                                      horizontal_flip=True)\n",
        "    test_rawdata = ImageDataGenerator(rescale=1./255)\n",
        "\n",
        "  else:\n",
        "    train_rawdata = ImageDataGenerator(rescale=1./255, validation_split=0.1)\n",
        "    test_rawdata = ImageDataGenerator(rescale=1./255)\n",
        "\n",
        "  train_data = train_rawdata.flow_from_directory(\n",
        "      train_path, \n",
        "      target_size=(256, 256), \n",
        "      batch_size=batch_size, \n",
        "      subset=\"training\",\n",
        "      color_mode=\"rgb\",\n",
        "      class_mode='categorical',\n",
        "      shuffle=True,\n",
        "      seed=42\n",
        "      )\n",
        "  val_data = train_rawdata.flow_from_directory(\n",
        "      train_path, \n",
        "      target_size=(256, 256), \n",
        "      batch_size=batch_size, \n",
        "      subset=\"validation\",\n",
        "      color_mode=\"rgb\",\n",
        "      class_mode='categorical',\n",
        "      shuffle=True,\n",
        "      seed=42\n",
        "      )\n",
        "  test_data = test_rawdata.flow_from_directory(\n",
        "      test_path, \n",
        "      target_size=(256, 256), \n",
        "      batch_size=batch_size,\n",
        "      color_mode=\"rgb\",\n",
        "      class_mode='categorical',\n",
        "      shuffle=True,\n",
        "      seed=42\n",
        "      )\n",
        "  return  train_data, val_data, test_data"
      ]
    },
    {
      "cell_type": "code",
      "source": [
        "def CNN_model(activation_func_convolution, activation_func_dense, no_of_filters, filter_convol_size, filter_pool_size, batch_normalisation, dense_layer, dropout,image_size):\n",
        "\n",
        "  no_of_classes =10\n",
        "  filter_sizes =[]\n",
        "  filter_sizes.append(no_of_filters)\n",
        "  for layer_num in range(1,3):\n",
        "      filter_sizes.append(no_of_filters*(2**layer_num))\n",
        "      filter_sizes.append(no_of_filters*(2**layer_num))\n",
        "  #no_of_fil=no_of_filters/4\n",
        "  # for layer_num in range(0,5):\n",
        "  #     #filter_sizes.append(no_of_fil*)\n",
        "  #     filter_sizes.append(no_of_fil*(2**layer_num))\n",
        "\n",
        "  # convolution layers\n",
        "  model = Sequential()\n",
        "  #print(\"Check 1\")\n",
        "  model.add(Conv2D(filter_sizes[0], kernel_size=(filter_convol_size,filter_convol_size), input_shape=(image_size, image_size, 3), data_format=\"channels_last\"))\n",
        "  if batch_normalisation:\n",
        "      model.add(BatchNormalization())\n",
        "  model.add(Activation(activation_func_convolution[0]))\n",
        "  model.add(MaxPooling2D(pool_size=filter_pool_size[0] ))\n",
        "  #print(\"Check 2\")\n",
        "\n",
        "  for i in range(1, 5):\n",
        "      model.add(Conv2D(filter_sizes[i], kernel_size=(filter_convol_size,filter_convol_size)))\n",
        "      if batch_normalisation:\n",
        "          model.add(BatchNormalization())\n",
        "      model.add(Activation(activation_func_convolution[i]))\n",
        "      model.add(MaxPooling2D(pool_size=filter_pool_size[i]))\n",
        "  \n",
        "  # Converting the feature map into a column vector and regularisation\n",
        "  model.add(Flatten()) \n",
        "  model.add(Dense(dense_layer, activation=activation_func_dense))\n",
        "  model.add(Dropout(dropout)) \n",
        "  model.add(Dense(no_of_classes, activation=\"softmax\")) \n",
        "\n",
        "  return model"
      ],
      "metadata": {
        "id": "C_HqcCaJAXQP"
      },
      "execution_count": null,
      "outputs": []
    },
    {
      "cell_type": "code",
      "source": [
        "#Function called by sweep\n",
        "\n",
        "def model_train():\n",
        "    \n",
        "    config_defaults = {\n",
        "        \"augment_data\": True,\n",
        "        \"batch_size\": 64, \n",
        "        \"batch_normalisation\": True,\n",
        "        \"dropout\": 0,\n",
        "        \"no_of_filters\": [64],\n",
        "        \"dense_layer\": 128,\n",
        "        \"filter_convol_size\": [3]\n",
        "    }\n",
        "\n",
        "    # Constant hyperparameters\n",
        "    filter_pool_size = [(2, 2), (2, 2), (2, 2), (2, 2), (2, 2)]\n",
        "    image_size = 256\n",
        "    activation_func_convolution = [\"relu\", \"relu\", \"relu\", \"relu\", \"relu\"]\n",
        "    activation_func_dense = \"relu\"\n",
        "    \n",
        "    \n",
        "    # Initializing new wandb run and saving hyperparameters,inputs\n",
        "    wandb.init(config=config_defaults)\n",
        "    config = wandb.config\n",
        "\n",
        "    # Values obtained from wandb config(Sweep)\n",
        "    no_of_filters = config.no_of_filters\n",
        "    augment_data = config.augment_data\n",
        "    batch_size = config.batch_size\n",
        "    dense_layer = config.dense_layer\n",
        "    filter_convol_size = config.filter_convol_size\n",
        "    batch_normalisation = config.batch_normalisation\n",
        "    dropout = config.dropout\n",
        "    \n",
        "\n",
        "    # Filters calculation for 5 layers\n",
        "    filter_name=[]\n",
        "    #num_fil=no_of_filters/4\n",
        "    filter_name.append(no_of_filters)\n",
        "    for layer_num in range(1,3):\n",
        "      # filter_sizes.append(no_of_filters*(2**layer_num))\n",
        "      # filter_sizes.append(no_of_filters*(2**layer_num))\n",
        "        filter_name.append(no_of_filters*(2**layer_num))\n",
        "        filter_name.append(no_of_filters*(2**layer_num))\n",
        "    \n",
        "    # Run name with hyperparameters\n",
        "    run_name = \"fil_{}_aug_{}_bs_{}_bn_{}_drop_{}_fc_{}_fil_{}_shape_{}\".format(filter_name,augment_data, batch_size, batch_normalisation, dropout, dense_layer, no_of_filters, filter_convol_size)\n",
        "    print(run_name)\n",
        "\n",
        "    # Data preperation\n",
        "    train_data, val_data, test_data =datagen(batch_size, augment_data)\n",
        "    print(\"Data recieved\")\n",
        "\n",
        "    # Model creation\n",
        "    model = CNN_model(activation_func_convolution,activation_func_dense , no_of_filters, filter_convol_size, filter_pool_size, batch_normalisation, dense_layer, dropout ,image_size)\n",
        "    print(model.count_params())\n",
        "    print(\"Model Training done\")\n",
        "\n",
        "    model.compile(optimizer=Adam(learning_rate=0.0001), loss = 'categorical_crossentropy', metrics = ['accuracy'])\n",
        "\n",
        "    # Early Stopping \n",
        "    earlyStopping = EarlyStopping(monitor='val_loss', patience=5, verbose=0, mode='min')\n",
        "    \n",
        "    train_step_size = train_data.n//train_data.batch_size\n",
        "    print(train_step_size)\n",
        "    val_step_size = val_data.n//val_data.batch_size\n",
        "    print(val_step_size)\n",
        "\n",
        "    model_det = model.fit(train_data,\n",
        "          steps_per_epoch = train_step_size,\n",
        "          validation_data = val_data,\n",
        "          validation_steps = val_step_size,\n",
        "          epochs=20, \n",
        "          callbacks=[WandbCallback(data_type=\"image\", generator=val_data), earlyStopping, mc],\n",
        "          verbose=2)\n",
        "\n",
        "    \n",
        "    wandb.run.name = run_name\n",
        "    wandb.run.save()\n",
        "    wandb.run.finish()\n",
        "    return model_det"
      ],
      "metadata": {
        "id": "bNYcACeCAe3l"
      },
      "execution_count": null,
      "outputs": []
    },
    {
      "cell_type": "code",
      "source": [
        ""
      ],
      "metadata": {
        "id": "7UK0KOO6Aw7W"
      },
      "execution_count": null,
      "outputs": []
    },
    {
      "cell_type": "code",
      "execution_count": null,
      "metadata": {
        "colab": {
          "base_uri": "https://localhost:8080/",
          "height": 1000,
          "referenced_widgets": [
            "4e6767dbf2234433abf9cb7acb72c371",
            "909e24138c404407ae8a130003b0b811",
            "c5254b7e49df42d3a0cfc2225f35d8be",
            "13d2ad12a1cb453e86051a3b014ba282",
            "bdb8c35edefe4d57b06ba89ed4843c6a",
            "a34076d3340e466c8ba81039d89afbe8",
            "e9b15dce86414c868c70ea3e12a198a3",
            "26fd961bd8dc433cb183317919cb76f1",
            "a38b90dd305b4802b9b9e0a577fc1b0c",
            "d857ab4458244653a611c8ee80db854d",
            "e69aff64a98945e095d8acdeb3549315",
            "c37e0f578f2d431587fdf787af47c9f9",
            "38c71d8a7a8744fbbc9ea7df2d10777b",
            "a46f5ae755124c0e9241cfd557f801c8",
            "eea1af0f39c74d36bcb244a005349038",
            "77f8fbaff6c74a6d94d84dc825a68acc",
            "1e92efe7dc0b424cb9492b330490766e",
            "a195d9e4b8cb487fa80ac7e07c652ac3",
            "9d904002830d4f2aa93f84ea8c6315ac",
            "733e98e57a4943dc99c0901378a9d4cf",
            "68c64954062d4c5791b88838d462c2eb",
            "a5b2cb8584f24d3e8ef2cbdb9c707941",
            "b0b95455e46d4f64bfec9fc49b47cf1b",
            "1f2dc3cf46694067b05c44a106d39e84",
            "f17e8f64a6ca4c828b588da7c58491a4",
            "fe541ee3a56d4b0f9cd7f31001333e6a",
            "83c79b7c307146db8460df137f9beb01",
            "f90283090fae4e89886bd70093433724",
            "a89ac3e6bac249debf09ec35264bc0c3",
            "ed2661b271dc48998776243c0e1489cf",
            "495324b5cf974c12992e09caaa79187b",
            "4ef4066297a243fc82834571ca01aaac",
            "964c66d16fa54220b22397c7ef18167b",
            "26803fa640df42dfa4b9d7cb0ff505b2",
            "6507365f01c14fa89f72b54471786ea3",
            "77f4b2635b38495e96d2d854046dc94c",
            "db00ce21aa274a659cef3feb0a3a1f67",
            "e3239fd193e84552a656e6a37dd55f13",
            "3e28a797321b4ef5ac7f8ef8b5d81a29",
            "7d88240e039443c7a219e45737bdd3c0",
            "90501739012846269ce8c2b21f0e728b",
            "c6415cee14ae408d8c1bebaac81c8df1",
            "517fdff25beb44f2a3940c5f4bddbeb3",
            "5678ec2f543a442b9a7ce63bbce57900",
            "144d2b6e712e465b89973aef8551fb64",
            "15af94d99e724b3b94b4ea5fee1a9ab2",
            "d290344ec06a4ce0879135e7a6c5c3bd",
            "34b7ee21580f4a5a8c114c86012b18cc",
            "b611e4bc6129451998ba0d069d98c73f",
            "cc4cc878d7fd4f01a46d867e557cceeb",
            "c103d2e07ead45b4be470674210a552a",
            "15979d09a43a40e383fb975f21b8d3e3",
            "118bd81ddddf4fa39be1c0207cf279c7",
            "ba24e2b5bca14155844cf16d09074384",
            "1d91e6a565274c8b8d7fd83f202e36b9",
            "b1040de4700649058ca9f03ab9906400",
            "06db42a6dc4d4a7a976738fd028d0b99",
            "33b4c26b608b48dd93ee336d7f20f4ec",
            "3be808ec18e949608af9548209384e1d",
            "88778954f7304477b5bee8b1411baf88",
            "c26915e6dd1346cca700610e32ff3b5f",
            "ebc3f1a99b3d479bbff3393e9e96331a",
            "ecb72d48d3084b6ca8ea28ce123be69b",
            "e7e3da83b1f24b599ea190e81bff2d3b",
            "e5fb58e4a4a648b0bad8016346799ff9",
            "036b12db2f6344bb9aa0c19635576ae0",
            "7ccc9ea62d16414c942fe3ddbdb8e784",
            "29e1598d30784f53a33750c138222b45",
            "fba4ff2c5f1f490f9b9a64a8d8623d40",
            "4e37cd84b8ed4fee9232cdb39bedcf9f",
            "6b3b8a205e69499fa05ac696c0d4a36c",
            "232bdeb4afb24008aca627a7d946efc2",
            "9093317c8b734dbbb5aaa6ac8ba9d8c9",
            "4a6ed87131234e129a7ce5d371783266",
            "ad6a6363e90f4fed8bb3cb3b1b71ae63",
            "87620b4ba144487d86e92c5a9459d06b",
            "feb8f40af6b547f4acee61126a46bc27",
            "974d9c406bc94edfb764cc3e2f6564d7",
            "dda6ee7e7743492293a4efd335411a67",
            "31d64c74770845a695bff036b72fc095"
          ]
        },
        "id": "fBWWQXWbOYpa",
        "outputId": "7393c3dc-c2d2-45ec-fd47-5208e1732219"
      },
      "outputs": [
        {
          "output_type": "display_data",
          "data": {
            "text/plain": [
              "<IPython.core.display.Javascript object>"
            ],
            "application/javascript": [
              "\n",
              "        window._wandbApiKey = new Promise((resolve, reject) => {\n",
              "            function loadScript(url) {\n",
              "            return new Promise(function(resolve, reject) {\n",
              "                let newScript = document.createElement(\"script\");\n",
              "                newScript.onerror = reject;\n",
              "                newScript.onload = resolve;\n",
              "                document.body.appendChild(newScript);\n",
              "                newScript.src = url;\n",
              "            });\n",
              "            }\n",
              "            loadScript(\"https://cdn.jsdelivr.net/npm/postmate/build/postmate.min.js\").then(() => {\n",
              "            const iframe = document.createElement('iframe')\n",
              "            iframe.style.cssText = \"width:0;height:0;border:none\"\n",
              "            document.body.appendChild(iframe)\n",
              "            const handshake = new Postmate({\n",
              "                container: iframe,\n",
              "                url: 'https://wandb.ai/authorize'\n",
              "            });\n",
              "            const timeout = setTimeout(() => reject(\"Couldn't auto authenticate\"), 5000)\n",
              "            handshake.then(function(child) {\n",
              "                child.on('authorize', data => {\n",
              "                    clearTimeout(timeout)\n",
              "                    resolve(data)\n",
              "                });\n",
              "            });\n",
              "            })\n",
              "        });\n",
              "    "
            ]
          },
          "metadata": {}
        },
        {
          "output_type": "stream",
          "name": "stderr",
          "text": [
            "\u001b[34m\u001b[1mwandb\u001b[0m: You can find your API key in your browser here: https://wandb.ai/authorize\n"
          ]
        },
        {
          "name": "stdout",
          "output_type": "stream",
          "text": [
            "wandb: Paste an API key from your profile and hit enter, or press ctrl+c to quit: ··········\n"
          ]
        },
        {
          "output_type": "stream",
          "name": "stderr",
          "text": [
            "\u001b[34m\u001b[1mwandb\u001b[0m: Appending key for api.wandb.ai to your netrc file: /root/.netrc\n",
            "\u001b[34m\u001b[1mwandb\u001b[0m: Agent Starting Run: lmzyrn4v with config:\n",
            "\u001b[34m\u001b[1mwandb\u001b[0m: \taugment_data: True\n",
            "\u001b[34m\u001b[1mwandb\u001b[0m: \tbatch_normalisation: False\n",
            "\u001b[34m\u001b[1mwandb\u001b[0m: \tbatch_size: 128\n",
            "\u001b[34m\u001b[1mwandb\u001b[0m: \tdense_layer: 128\n",
            "\u001b[34m\u001b[1mwandb\u001b[0m: \tdropout: 0.15\n",
            "\u001b[34m\u001b[1mwandb\u001b[0m: \tfilter_convol_size: 5\n",
            "\u001b[34m\u001b[1mwandb\u001b[0m: \tno_of_filters: 64\n",
            "\u001b[34m\u001b[1mwandb\u001b[0m: Currently logged in as: \u001b[33manandh\u001b[0m (use `wandb login --relogin` to force relogin)\n"
          ]
        },
        {
          "output_type": "display_data",
          "data": {
            "text/plain": [
              "<IPython.core.display.HTML object>"
            ],
            "text/html": [
              "Tracking run with wandb version 0.12.11"
            ]
          },
          "metadata": {}
        },
        {
          "output_type": "display_data",
          "data": {
            "text/plain": [
              "<IPython.core.display.HTML object>"
            ],
            "text/html": [
              "Run data is saved locally in <code>/content/wandb/run-20220327_142819-lmzyrn4v</code>"
            ]
          },
          "metadata": {}
        },
        {
          "output_type": "display_data",
          "data": {
            "text/plain": [
              "<IPython.core.display.HTML object>"
            ],
            "text/html": [
              "Syncing run <strong><a href=\"https://wandb.ai/anandh/DL_assignment_2/runs/lmzyrn4v\" target=\"_blank\">expert-sweep-116</a></strong> to <a href=\"https://wandb.ai/anandh/DL_assignment_2\" target=\"_blank\">Weights & Biases</a> (<a href=\"https://wandb.me/run\" target=\"_blank\">docs</a>)<br/>Sweep page:  <a href=\"https://wandb.ai/anandh/DL_assignment_2/sweeps/dhvdsf58\" target=\"_blank\">https://wandb.ai/anandh/DL_assignment_2/sweeps/dhvdsf58</a>"
            ]
          },
          "metadata": {}
        },
        {
          "output_type": "stream",
          "name": "stdout",
          "text": [
            "fil_[64, 128, 128, 256, 256]_aug_True_bs_128_bn_False_drop_0.15_fc_128_fil_64_shape_5\n",
            "Found 9000 images belonging to 10 classes.\n",
            "Found 999 images belonging to 10 classes.\n",
            "Found 2000 images belonging to 10 classes.\n",
            "Data Vaangiyachi\n",
            "Check 1\n"
          ]
        },
        {
          "output_type": "stream",
          "name": "stderr",
          "text": [
            "\u001b[34m\u001b[1mwandb\u001b[0m: \u001b[33mWARNING\u001b[0m The data_type argument of wandb.keras.WandbCallback is deprecated and will be removed in a future release. Please use input_type instead.\n",
            "\u001b[34m\u001b[1mwandb\u001b[0m: \u001b[33mWARNING\u001b[0m Setting input_type = data_type.\n"
          ]
        },
        {
          "output_type": "stream",
          "name": "stdout",
          "text": [
            "Check 2\n",
            "3603338\n",
            "Training done\n",
            "70\n",
            "7\n",
            "Epoch 1/20\n",
            "70/70 - 226s - loss: 2.2754 - accuracy: 0.1394 - val_loss: 2.1917 - val_accuracy: 0.1797 - _timestamp: 1648391535.0000 - _runtime: 236.0000 - 226s/epoch - 3s/step\n",
            "Epoch 2/20\n",
            "70/70 - 211s - loss: 2.1768 - accuracy: 0.1950 - val_loss: 2.1399 - val_accuracy: 0.2109 - _timestamp: 1648391782.0000 - _runtime: 483.0000 - 211s/epoch - 3s/step\n",
            "Epoch 3/20\n",
            "70/70 - 211s - loss: 2.1386 - accuracy: 0.2145 - val_loss: 2.1115 - val_accuracy: 0.2288 - _timestamp: 1648392044.0000 - _runtime: 745.0000 - 211s/epoch - 3s/step\n",
            "Epoch 4/20\n",
            "70/70 - 211s - loss: 2.1079 - accuracy: 0.2333 - val_loss: 2.0993 - val_accuracy: 0.2478 - _timestamp: 1648392255.0000 - _runtime: 956.0000 - 211s/epoch - 3s/step\n",
            "Epoch 5/20\n",
            "70/70 - 211s - loss: 2.0628 - accuracy: 0.2579 - val_loss: 2.0594 - val_accuracy: 0.2712 - _timestamp: 1648392466.0000 - _runtime: 1167.0000 - 211s/epoch - 3s/step\n",
            "Epoch 6/20\n",
            "70/70 - 211s - loss: 2.0292 - accuracy: 0.2757 - val_loss: 2.0177 - val_accuracy: 0.2924 - _timestamp: 1648392676.0000 - _runtime: 1377.0000 - 211s/epoch - 3s/step\n",
            "Epoch 7/20\n",
            "70/70 - 211s - loss: 1.9877 - accuracy: 0.2932 - val_loss: 2.0194 - val_accuracy: 0.2857 - _timestamp: 1648392938.0000 - _runtime: 1639.0000 - 211s/epoch - 3s/step\n",
            "Epoch 8/20\n",
            "70/70 - 210s - loss: 1.9753 - accuracy: 0.2985 - val_loss: 1.9608 - val_accuracy: 0.3248 - _timestamp: 1648393148.0000 - _runtime: 1849.0000 - 210s/epoch - 3s/step\n",
            "Epoch 9/20\n",
            "70/70 - 211s - loss: 1.9374 - accuracy: 0.3200 - val_loss: 1.9235 - val_accuracy: 0.3326 - _timestamp: 1648393358.0000 - _runtime: 2059.0000 - 211s/epoch - 3s/step\n",
            "Epoch 10/20\n",
            "70/70 - 210s - loss: 1.9215 - accuracy: 0.3135 - val_loss: 1.9667 - val_accuracy: 0.3136 - _timestamp: 1648393620.0000 - _runtime: 2321.0000 - 210s/epoch - 3s/step\n",
            "Epoch 11/20\n",
            "70/70 - 211s - loss: 1.9039 - accuracy: 0.3369 - val_loss: 1.9058 - val_accuracy: 0.3415 - _timestamp: 1648393831.0000 - _runtime: 2532.0000 - 211s/epoch - 3s/step\n",
            "Epoch 12/20\n",
            "70/70 - 211s - loss: 1.8813 - accuracy: 0.3406 - val_loss: 1.9099 - val_accuracy: 0.3270 - _timestamp: 1648394043.0000 - _runtime: 2744.0000 - 211s/epoch - 3s/step\n",
            "Epoch 13/20\n",
            "70/70 - 213s - loss: 1.8715 - accuracy: 0.3422 - val_loss: 1.9261 - val_accuracy: 0.3248 - _timestamp: 1648394255.0000 - _runtime: 2956.0000 - 213s/epoch - 3s/step\n",
            "Epoch 14/20\n",
            "70/70 - 212s - loss: 1.8529 - accuracy: 0.3450 - val_loss: 1.9162 - val_accuracy: 0.3292 - _timestamp: 1648394517.0000 - _runtime: 3218.0000 - 212s/epoch - 3s/step\n",
            "Epoch 15/20\n",
            "70/70 - 212s - loss: 1.8492 - accuracy: 0.3496 - val_loss: 1.8971 - val_accuracy: 0.3292 - _timestamp: 1648394729.0000 - _runtime: 3430.0000 - 212s/epoch - 3s/step\n",
            "Epoch 16/20\n",
            "70/70 - 211s - loss: 1.8335 - accuracy: 0.3575 - val_loss: 1.9131 - val_accuracy: 0.3192 - _timestamp: 1648394990.0000 - _runtime: 3691.0000 - 211s/epoch - 3s/step\n",
            "Epoch 17/20\n",
            "70/70 - 213s - loss: 1.8158 - accuracy: 0.3631 - val_loss: 1.8722 - val_accuracy: 0.3438 - _timestamp: 1648395203.0000 - _runtime: 3904.0000 - 213s/epoch - 3s/step\n",
            "Epoch 18/20\n",
            "70/70 - 213s - loss: 1.7885 - accuracy: 0.3826 - val_loss: 1.8342 - val_accuracy: 0.3538 - _timestamp: 1648395416.0000 - _runtime: 4117.0000 - 213s/epoch - 3s/step\n",
            "Epoch 19/20\n",
            "70/70 - 212s - loss: 1.7910 - accuracy: 0.3677 - val_loss: 1.8959 - val_accuracy: 0.3304 - _timestamp: 1648395678.0000 - _runtime: 4379.0000 - 212s/epoch - 3s/step\n",
            "Epoch 20/20\n",
            "70/70 - 213s - loss: 1.7764 - accuracy: 0.3809 - val_loss: 1.8386 - val_accuracy: 0.3583 - _timestamp: 1648395890.0000 - _runtime: 4591.0000 - 213s/epoch - 3s/step\n"
          ]
        },
        {
          "output_type": "stream",
          "name": "stderr",
          "text": [
            "\u001b[34m\u001b[1mwandb\u001b[0m: \u001b[33mWARNING\u001b[0m Calling wandb.run.save without any arguments is deprecated.Changes to attributes are automatically persisted.\n"
          ]
        },
        {
          "output_type": "stream",
          "name": "stdout",
          "text": [
            "\n"
          ]
        },
        {
          "output_type": "display_data",
          "data": {
            "text/plain": [
              "<IPython.core.display.HTML object>"
            ],
            "text/html": [
              "Waiting for W&B process to finish... <strong style=\"color:green\">(success).</strong>"
            ]
          },
          "metadata": {}
        },
        {
          "output_type": "display_data",
          "data": {
            "text/plain": [
              "VBox(children=(Label(value='125.042 MB of 125.042 MB uploaded (0.000 MB deduped)\\r'), FloatProgress(value=1.0,…"
            ],
            "application/vnd.jupyter.widget-view+json": {
              "version_major": 2,
              "version_minor": 0,
              "model_id": "4e6767dbf2234433abf9cb7acb72c371"
            }
          },
          "metadata": {}
        },
        {
          "output_type": "display_data",
          "data": {
            "text/plain": [
              "<IPython.core.display.HTML object>"
            ],
            "text/html": [
              "<style>\n",
              "    table.wandb td:nth-child(1) { padding: 0 10px; text-align: right }\n",
              "    .wandb-row { display: flex; flex-direction: row; flex-wrap: wrap; width: 100% }\n",
              "    .wandb-col { display: flex; flex-direction: column; flex-basis: 100%; flex: 1; padding: 10px; }\n",
              "    </style>\n",
              "<div class=\"wandb-row\"><div class=\"wandb-col\"><h3>Run history:</h3><br/><table class=\"wandb\"><tr><td>accuracy</td><td>▁▃▃▄▄▅▅▆▆▆▇▇▇▇▇▇▇███</td></tr><tr><td>epoch</td><td>▁▁▂▂▂▃▃▄▄▄▅▅▅▆▆▇▇▇██</td></tr><tr><td>loss</td><td>█▇▆▆▅▅▄▄▃▃▃▂▂▂▂▂▂▁▁▁</td></tr><tr><td>val_accuracy</td><td>▁▂▃▄▅▅▅▇▇▆▇▇▇▇▇▆▇█▇█</td></tr><tr><td>val_loss</td><td>█▇▆▆▅▅▅▃▃▄▂▂▃▃▂▃▂▁▂▁</td></tr></table><br/></div><div class=\"wandb-col\"><h3>Run summary:</h3><br/><table class=\"wandb\"><tr><td>accuracy</td><td>0.38086</td></tr><tr><td>best_epoch</td><td>17</td></tr><tr><td>best_val_loss</td><td>1.83418</td></tr><tr><td>epoch</td><td>19</td></tr><tr><td>loss</td><td>1.77644</td></tr><tr><td>val_accuracy</td><td>0.35826</td></tr><tr><td>val_loss</td><td>1.83858</td></tr></table><br/></div></div>"
            ]
          },
          "metadata": {}
        },
        {
          "output_type": "display_data",
          "data": {
            "text/plain": [
              "<IPython.core.display.HTML object>"
            ],
            "text/html": [
              "Synced <strong style=\"color:#cdcd00\">expert-sweep-116</strong>: <a href=\"https://wandb.ai/anandh/DL_assignment_2/runs/lmzyrn4v\" target=\"_blank\">https://wandb.ai/anandh/DL_assignment_2/runs/lmzyrn4v</a><br/>Synced 5 W&B file(s), 720 media file(s), 0 artifact file(s) and 1 other file(s)"
            ]
          },
          "metadata": {}
        },
        {
          "output_type": "display_data",
          "data": {
            "text/plain": [
              "<IPython.core.display.HTML object>"
            ],
            "text/html": [
              "Find logs at: <code>./wandb/run-20220327_142819-lmzyrn4v/logs</code>"
            ]
          },
          "metadata": {}
        },
        {
          "output_type": "stream",
          "name": "stderr",
          "text": [
            "\u001b[34m\u001b[1mwandb\u001b[0m: Sweep Agent: Waiting for job.\n",
            "\u001b[34m\u001b[1mwandb\u001b[0m: Job received.\n",
            "\u001b[34m\u001b[1mwandb\u001b[0m: Agent Starting Run: c7br2dnm with config:\n",
            "\u001b[34m\u001b[1mwandb\u001b[0m: \taugment_data: False\n",
            "\u001b[34m\u001b[1mwandb\u001b[0m: \tbatch_normalisation: True\n",
            "\u001b[34m\u001b[1mwandb\u001b[0m: \tbatch_size: 32\n",
            "\u001b[34m\u001b[1mwandb\u001b[0m: \tdense_layer: 64\n",
            "\u001b[34m\u001b[1mwandb\u001b[0m: \tdropout: 0.15\n",
            "\u001b[34m\u001b[1mwandb\u001b[0m: \tfilter_convol_size: 5\n",
            "\u001b[34m\u001b[1mwandb\u001b[0m: \tno_of_filters: 64\n"
          ]
        },
        {
          "output_type": "display_data",
          "data": {
            "text/plain": [
              "<IPython.core.display.HTML object>"
            ],
            "text/html": [
              "Tracking run with wandb version 0.12.11"
            ]
          },
          "metadata": {}
        },
        {
          "output_type": "display_data",
          "data": {
            "text/plain": [
              "<IPython.core.display.HTML object>"
            ],
            "text/html": [
              "Run data is saved locally in <code>/content/wandb/run-20220327_154506-c7br2dnm</code>"
            ]
          },
          "metadata": {}
        },
        {
          "output_type": "display_data",
          "data": {
            "text/plain": [
              "<IPython.core.display.HTML object>"
            ],
            "text/html": [
              "Syncing run <strong><a href=\"https://wandb.ai/anandh/DL_assignment_2/runs/c7br2dnm\" target=\"_blank\">wild-sweep-119</a></strong> to <a href=\"https://wandb.ai/anandh/DL_assignment_2\" target=\"_blank\">Weights & Biases</a> (<a href=\"https://wandb.me/run\" target=\"_blank\">docs</a>)<br/>Sweep page:  <a href=\"https://wandb.ai/anandh/DL_assignment_2/sweeps/dhvdsf58\" target=\"_blank\">https://wandb.ai/anandh/DL_assignment_2/sweeps/dhvdsf58</a>"
            ]
          },
          "metadata": {}
        },
        {
          "output_type": "stream",
          "name": "stdout",
          "text": [
            "fil_[64, 128, 128, 256, 256]_aug_False_bs_32_bn_True_drop_0.15_fc_64_fil_64_shape_5\n",
            "Found 9000 images belonging to 10 classes.\n",
            "Found 999 images belonging to 10 classes.\n",
            "Found 2000 images belonging to 10 classes.\n",
            "Data Vaangiyachi\n",
            "Check 1\n",
            "Check 2\n",
            "3343818\n",
            "Training done\n",
            "281\n",
            "31\n",
            "Epoch 1/20\n",
            "281/281 - 107s - loss: 2.1361 - accuracy: 0.2383 - val_loss: 2.3399 - val_accuracy: 0.1210 - _timestamp: 1648396019.0000 - _runtime: 113.0000 - 107s/epoch - 382ms/step\n",
            "Epoch 2/20\n",
            "281/281 - 105s - loss: 1.9881 - accuracy: 0.2966 - val_loss: 2.0397 - val_accuracy: 0.2621 - _timestamp: 1648396124.0000 - _runtime: 218.0000 - 105s/epoch - 375ms/step\n",
            "Epoch 3/20\n",
            "281/281 - 105s - loss: 1.8937 - accuracy: 0.3229 - val_loss: 2.2229 - val_accuracy: 0.2560 - _timestamp: 1648396229.0000 - _runtime: 323.0000 - 105s/epoch - 374ms/step\n",
            "Epoch 4/20\n",
            "281/281 - 105s - loss: 1.7852 - accuracy: 0.3710 - val_loss: 2.0299 - val_accuracy: 0.3024 - _timestamp: 1648396371.0000 - _runtime: 465.0000 - 105s/epoch - 372ms/step\n",
            "Epoch 5/20\n",
            "281/281 - 105s - loss: 1.6714 - accuracy: 0.4128 - val_loss: 2.0215 - val_accuracy: 0.3065 - _timestamp: 1648396476.0000 - _runtime: 570.0000 - 105s/epoch - 373ms/step\n",
            "Epoch 6/20\n",
            "281/281 - 104s - loss: 1.5350 - accuracy: 0.4638 - val_loss: 2.4111 - val_accuracy: 0.2601 - _timestamp: 1648396580.0000 - _runtime: 674.0000 - 104s/epoch - 371ms/step\n",
            "Epoch 7/20\n",
            "281/281 - 105s - loss: 1.3702 - accuracy: 0.5265 - val_loss: 2.1188 - val_accuracy: 0.2722 - _timestamp: 1648396685.0000 - _runtime: 779.0000 - 105s/epoch - 372ms/step\n",
            "Epoch 8/20\n",
            "281/281 - 104s - loss: 1.1726 - accuracy: 0.6011 - val_loss: 2.0256 - val_accuracy: 0.2954 - _timestamp: 1648396789.0000 - _runtime: 883.0000 - 104s/epoch - 369ms/step\n",
            "Epoch 9/20\n",
            "281/281 - 106s - loss: 0.9422 - accuracy: 0.6964 - val_loss: 2.0220 - val_accuracy: 0.3498 - _timestamp: 1648396932.0000 - _runtime: 1026.0000 - 106s/epoch - 376ms/step\n",
            "Epoch 10/20\n",
            "281/281 - 106s - loss: 0.7184 - accuracy: 0.7779 - val_loss: 2.1108 - val_accuracy: 0.3276 - _timestamp: 1648397038.0000 - _runtime: 1132.0000 - 106s/epoch - 376ms/step\n",
            "\n"
          ]
        },
        {
          "output_type": "display_data",
          "data": {
            "text/plain": [
              "<IPython.core.display.HTML object>"
            ],
            "text/html": [
              "Waiting for W&B process to finish... <strong style=\"color:green\">(success).</strong>"
            ]
          },
          "metadata": {}
        },
        {
          "output_type": "display_data",
          "data": {
            "text/plain": [
              "VBox(children=(Label(value='79.598 MB of 79.598 MB uploaded (0.000 MB deduped)\\r'), FloatProgress(value=1.0, m…"
            ],
            "application/vnd.jupyter.widget-view+json": {
              "version_major": 2,
              "version_minor": 0,
              "model_id": "a38b90dd305b4802b9b9e0a577fc1b0c"
            }
          },
          "metadata": {}
        },
        {
          "output_type": "display_data",
          "data": {
            "text/plain": [
              "<IPython.core.display.HTML object>"
            ],
            "text/html": [
              "<style>\n",
              "    table.wandb td:nth-child(1) { padding: 0 10px; text-align: right }\n",
              "    .wandb-row { display: flex; flex-direction: row; flex-wrap: wrap; width: 100% }\n",
              "    .wandb-col { display: flex; flex-direction: column; flex-basis: 100%; flex: 1; padding: 10px; }\n",
              "    </style>\n",
              "<div class=\"wandb-row\"><div class=\"wandb-col\"><h3>Run history:</h3><br/><table class=\"wandb\"><tr><td>accuracy</td><td>▁▂▂▃▃▄▅▆▇█</td></tr><tr><td>epoch</td><td>▁▂▃▃▄▅▆▆▇█</td></tr><tr><td>loss</td><td>█▇▇▆▆▅▄▃▂▁</td></tr><tr><td>val_accuracy</td><td>▁▅▅▇▇▅▆▆█▇</td></tr><tr><td>val_loss</td><td>▇▁▅▁▁█▃▁▁▃</td></tr></table><br/></div><div class=\"wandb-col\"><h3>Run summary:</h3><br/><table class=\"wandb\"><tr><td>accuracy</td><td>0.77788</td></tr><tr><td>best_epoch</td><td>4</td></tr><tr><td>best_val_loss</td><td>2.02152</td></tr><tr><td>epoch</td><td>9</td></tr><tr><td>loss</td><td>0.71841</td></tr><tr><td>val_accuracy</td><td>0.32762</td></tr><tr><td>val_loss</td><td>2.11081</td></tr></table><br/></div></div>"
            ]
          },
          "metadata": {}
        },
        {
          "output_type": "display_data",
          "data": {
            "text/plain": [
              "<IPython.core.display.HTML object>"
            ],
            "text/html": [
              "Synced <strong style=\"color:#cdcd00\">wild-sweep-119</strong>: <a href=\"https://wandb.ai/anandh/DL_assignment_2/runs/c7br2dnm\" target=\"_blank\">https://wandb.ai/anandh/DL_assignment_2/runs/c7br2dnm</a><br/>Synced 5 W&B file(s), 320 media file(s), 0 artifact file(s) and 1 other file(s)"
            ]
          },
          "metadata": {}
        },
        {
          "output_type": "display_data",
          "data": {
            "text/plain": [
              "<IPython.core.display.HTML object>"
            ],
            "text/html": [
              "Find logs at: <code>./wandb/run-20220327_154506-c7br2dnm/logs</code>"
            ]
          },
          "metadata": {}
        },
        {
          "output_type": "stream",
          "name": "stderr",
          "text": [
            "\u001b[34m\u001b[1mwandb\u001b[0m: Agent Starting Run: i2u6f7g2 with config:\n",
            "\u001b[34m\u001b[1mwandb\u001b[0m: \taugment_data: False\n",
            "\u001b[34m\u001b[1mwandb\u001b[0m: \tbatch_normalisation: False\n",
            "\u001b[34m\u001b[1mwandb\u001b[0m: \tbatch_size: 64\n",
            "\u001b[34m\u001b[1mwandb\u001b[0m: \tdense_layer: 128\n",
            "\u001b[34m\u001b[1mwandb\u001b[0m: \tdropout: 0.15\n",
            "\u001b[34m\u001b[1mwandb\u001b[0m: \tfilter_convol_size: 3\n",
            "\u001b[34m\u001b[1mwandb\u001b[0m: \tno_of_filters: 64\n"
          ]
        },
        {
          "output_type": "display_data",
          "data": {
            "text/plain": [
              "<IPython.core.display.HTML object>"
            ],
            "text/html": [
              "Tracking run with wandb version 0.12.11"
            ]
          },
          "metadata": {}
        },
        {
          "output_type": "display_data",
          "data": {
            "text/plain": [
              "<IPython.core.display.HTML object>"
            ],
            "text/html": [
              "Run data is saved locally in <code>/content/wandb/run-20220327_160406-i2u6f7g2</code>"
            ]
          },
          "metadata": {}
        },
        {
          "output_type": "display_data",
          "data": {
            "text/plain": [
              "<IPython.core.display.HTML object>"
            ],
            "text/html": [
              "Syncing run <strong><a href=\"https://wandb.ai/anandh/DL_assignment_2/runs/i2u6f7g2\" target=\"_blank\">wobbly-sweep-120</a></strong> to <a href=\"https://wandb.ai/anandh/DL_assignment_2\" target=\"_blank\">Weights & Biases</a> (<a href=\"https://wandb.me/run\" target=\"_blank\">docs</a>)<br/>Sweep page:  <a href=\"https://wandb.ai/anandh/DL_assignment_2/sweeps/dhvdsf58\" target=\"_blank\">https://wandb.ai/anandh/DL_assignment_2/sweeps/dhvdsf58</a>"
            ]
          },
          "metadata": {}
        },
        {
          "output_type": "stream",
          "name": "stdout",
          "text": [
            "fil_[64, 128, 128, 256, 256]_aug_False_bs_64_bn_False_drop_0.15_fc_128_fil_64_shape_3\n",
            "Found 9000 images belonging to 10 classes.\n",
            "Found 999 images belonging to 10 classes.\n",
            "Found 2000 images belonging to 10 classes.\n",
            "Data Vaangiyachi\n",
            "Check 1\n",
            "Check 2\n",
            "2289546\n",
            "Training done\n",
            "140\n",
            "15\n",
            "Epoch 1/20\n",
            "140/140 - 106s - loss: 2.2472 - accuracy: 0.1572 - val_loss: 2.1363 - val_accuracy: 0.2208 - _timestamp: 1648397157.0000 - _runtime: 111.0000 - 106s/epoch - 759ms/step\n",
            "Epoch 2/20\n",
            "140/140 - 105s - loss: 2.0843 - accuracy: 0.2510 - val_loss: 2.0914 - val_accuracy: 0.2573 - _timestamp: 1648397262.0000 - _runtime: 216.0000 - 105s/epoch - 751ms/step\n",
            "Epoch 3/20\n",
            "140/140 - 105s - loss: 2.0043 - accuracy: 0.2882 - val_loss: 1.9922 - val_accuracy: 0.3135 - _timestamp: 1648397404.0000 - _runtime: 358.0000 - 105s/epoch - 750ms/step\n",
            "Epoch 4/20\n",
            "140/140 - 105s - loss: 1.9509 - accuracy: 0.3085 - val_loss: 1.9642 - val_accuracy: 0.3125 - _timestamp: 1648397509.0000 - _runtime: 463.0000 - 105s/epoch - 750ms/step\n",
            "Epoch 5/20\n",
            "140/140 - 105s - loss: 1.8984 - accuracy: 0.3346 - val_loss: 1.9560 - val_accuracy: 0.3187 - _timestamp: 1648397614.0000 - _runtime: 568.0000 - 105s/epoch - 751ms/step\n",
            "Epoch 6/20\n",
            "140/140 - 105s - loss: 1.8490 - accuracy: 0.3511 - val_loss: 1.9180 - val_accuracy: 0.3219 - _timestamp: 1648397719.0000 - _runtime: 673.0000 - 105s/epoch - 750ms/step\n",
            "Epoch 7/20\n",
            "140/140 - 105s - loss: 1.8012 - accuracy: 0.3669 - val_loss: 1.8794 - val_accuracy: 0.3458 - _timestamp: 1648397824.0000 - _runtime: 778.0000 - 105s/epoch - 749ms/step\n",
            "Epoch 8/20\n",
            "140/140 - 104s - loss: 1.7628 - accuracy: 0.3818 - val_loss: 1.9190 - val_accuracy: 0.3229 - _timestamp: 1648397966.0000 - _runtime: 920.0000 - 104s/epoch - 746ms/step\n",
            "Epoch 9/20\n",
            "140/140 - 105s - loss: 1.7251 - accuracy: 0.3948 - val_loss: 1.8955 - val_accuracy: 0.3292 - _timestamp: 1648398071.0000 - _runtime: 1025.0000 - 105s/epoch - 749ms/step\n",
            "Epoch 10/20\n",
            "140/140 - 105s - loss: 1.6828 - accuracy: 0.4117 - val_loss: 1.8405 - val_accuracy: 0.3479 - _timestamp: 1648398176.0000 - _runtime: 1130.0000 - 105s/epoch - 752ms/step\n",
            "Epoch 11/20\n",
            "140/140 - 105s - loss: 1.6196 - accuracy: 0.4326 - val_loss: 1.8127 - val_accuracy: 0.3781 - _timestamp: 1648398281.0000 - _runtime: 1235.0000 - 105s/epoch - 752ms/step\n",
            "Epoch 12/20\n",
            "140/140 - 105s - loss: 1.5642 - accuracy: 0.4578 - val_loss: 1.8284 - val_accuracy: 0.3656 - _timestamp: 1648398386.0000 - _runtime: 1340.0000 - 105s/epoch - 750ms/step\n",
            "Epoch 13/20\n",
            "140/140 - 105s - loss: 1.5170 - accuracy: 0.4715 - val_loss: 1.8749 - val_accuracy: 0.3635 - _timestamp: 1648398491.0000 - _runtime: 1445.0000 - 105s/epoch - 747ms/step\n",
            "Epoch 14/20\n",
            "140/140 - 104s - loss: 1.4326 - accuracy: 0.5025 - val_loss: 1.8654 - val_accuracy: 0.3635 - _timestamp: 1648398596.0000 - _runtime: 1550.0000 - 104s/epoch - 746ms/step\n",
            "Epoch 15/20\n",
            "140/140 - 105s - loss: 1.3646 - accuracy: 0.5251 - val_loss: 1.9359 - val_accuracy: 0.3656 - _timestamp: 1648398738.0000 - _runtime: 1692.0000 - 105s/epoch - 749ms/step\n",
            "Epoch 16/20\n",
            "140/140 - 105s - loss: 1.2801 - accuracy: 0.5580 - val_loss: 1.9206 - val_accuracy: 0.3698 - _timestamp: 1648398842.0000 - _runtime: 1796.0000 - 105s/epoch - 747ms/step\n",
            "\n"
          ]
        },
        {
          "output_type": "display_data",
          "data": {
            "text/plain": [
              "<IPython.core.display.HTML object>"
            ],
            "text/html": [
              "Waiting for W&B process to finish... <strong style=\"color:green\">(success).</strong>"
            ]
          },
          "metadata": {}
        },
        {
          "output_type": "display_data",
          "data": {
            "text/plain": [
              "VBox(children=(Label(value='100.980 MB of 101.252 MB uploaded (0.000 MB deduped)\\r'), FloatProgress(value=0.99…"
            ],
            "application/vnd.jupyter.widget-view+json": {
              "version_major": 2,
              "version_minor": 0,
              "model_id": "1e92efe7dc0b424cb9492b330490766e"
            }
          },
          "metadata": {}
        },
        {
          "output_type": "display_data",
          "data": {
            "text/plain": [
              "<IPython.core.display.HTML object>"
            ],
            "text/html": [
              "<style>\n",
              "    table.wandb td:nth-child(1) { padding: 0 10px; text-align: right }\n",
              "    .wandb-row { display: flex; flex-direction: row; flex-wrap: wrap; width: 100% }\n",
              "    .wandb-col { display: flex; flex-direction: column; flex-basis: 100%; flex: 1; padding: 10px; }\n",
              "    </style>\n",
              "<div class=\"wandb-row\"><div class=\"wandb-col\"><h3>Run history:</h3><br/><table class=\"wandb\"><tr><td>accuracy</td><td>▁▃▃▄▄▄▅▅▅▅▆▆▆▇▇█</td></tr><tr><td>epoch</td><td>▁▁▂▂▃▃▄▄▅▅▆▆▇▇██</td></tr><tr><td>loss</td><td>█▇▆▆▅▅▅▄▄▄▃▃▃▂▂▁</td></tr><tr><td>val_accuracy</td><td>▁▃▅▅▅▅▇▆▆▇█▇▇▇▇█</td></tr><tr><td>val_loss</td><td>█▇▅▄▄▃▂▃▃▂▁▁▂▂▄▃</td></tr></table><br/></div><div class=\"wandb-col\"><h3>Run summary:</h3><br/><table class=\"wandb\"><tr><td>accuracy</td><td>0.55797</td></tr><tr><td>best_epoch</td><td>10</td></tr><tr><td>best_val_loss</td><td>1.81273</td></tr><tr><td>epoch</td><td>15</td></tr><tr><td>loss</td><td>1.28006</td></tr><tr><td>val_accuracy</td><td>0.36979</td></tr><tr><td>val_loss</td><td>1.92057</td></tr></table><br/></div></div>"
            ]
          },
          "metadata": {}
        },
        {
          "output_type": "display_data",
          "data": {
            "text/plain": [
              "<IPython.core.display.HTML object>"
            ],
            "text/html": [
              "Synced <strong style=\"color:#cdcd00\">wobbly-sweep-120</strong>: <a href=\"https://wandb.ai/anandh/DL_assignment_2/runs/i2u6f7g2\" target=\"_blank\">https://wandb.ai/anandh/DL_assignment_2/runs/i2u6f7g2</a><br/>Synced 5 W&B file(s), 576 media file(s), 0 artifact file(s) and 1 other file(s)"
            ]
          },
          "metadata": {}
        },
        {
          "output_type": "display_data",
          "data": {
            "text/plain": [
              "<IPython.core.display.HTML object>"
            ],
            "text/html": [
              "Find logs at: <code>./wandb/run-20220327_160406-i2u6f7g2/logs</code>"
            ]
          },
          "metadata": {}
        },
        {
          "output_type": "stream",
          "name": "stderr",
          "text": [
            "\u001b[34m\u001b[1mwandb\u001b[0m: Agent Starting Run: 9ilsjd3r with config:\n",
            "\u001b[34m\u001b[1mwandb\u001b[0m: \taugment_data: False\n",
            "\u001b[34m\u001b[1mwandb\u001b[0m: \tbatch_normalisation: False\n",
            "\u001b[34m\u001b[1mwandb\u001b[0m: \tbatch_size: 128\n",
            "\u001b[34m\u001b[1mwandb\u001b[0m: \tdense_layer: 128\n",
            "\u001b[34m\u001b[1mwandb\u001b[0m: \tdropout: 0.15\n",
            "\u001b[34m\u001b[1mwandb\u001b[0m: \tfilter_convol_size: 5\n",
            "\u001b[34m\u001b[1mwandb\u001b[0m: \tno_of_filters: 64\n"
          ]
        },
        {
          "output_type": "display_data",
          "data": {
            "text/plain": [
              "<IPython.core.display.HTML object>"
            ],
            "text/html": [
              "Tracking run with wandb version 0.12.11"
            ]
          },
          "metadata": {}
        },
        {
          "output_type": "display_data",
          "data": {
            "text/plain": [
              "<IPython.core.display.HTML object>"
            ],
            "text/html": [
              "Run data is saved locally in <code>/content/wandb/run-20220327_163412-9ilsjd3r</code>"
            ]
          },
          "metadata": {}
        },
        {
          "output_type": "display_data",
          "data": {
            "text/plain": [
              "<IPython.core.display.HTML object>"
            ],
            "text/html": [
              "Syncing run <strong><a href=\"https://wandb.ai/anandh/DL_assignment_2/runs/9ilsjd3r\" target=\"_blank\">classic-sweep-121</a></strong> to <a href=\"https://wandb.ai/anandh/DL_assignment_2\" target=\"_blank\">Weights & Biases</a> (<a href=\"https://wandb.me/run\" target=\"_blank\">docs</a>)<br/>Sweep page:  <a href=\"https://wandb.ai/anandh/DL_assignment_2/sweeps/dhvdsf58\" target=\"_blank\">https://wandb.ai/anandh/DL_assignment_2/sweeps/dhvdsf58</a>"
            ]
          },
          "metadata": {}
        },
        {
          "output_type": "stream",
          "name": "stdout",
          "text": [
            "fil_[64, 128, 128, 256, 256]_aug_False_bs_128_bn_False_drop_0.15_fc_128_fil_64_shape_5\n",
            "Found 9000 images belonging to 10 classes.\n",
            "Found 999 images belonging to 10 classes.\n",
            "Found 2000 images belonging to 10 classes.\n",
            "Data Vaangiyachi\n",
            "Check 1\n",
            "Check 2\n",
            "3603338\n",
            "Training done\n",
            "70\n",
            "7\n",
            "Epoch 1/20\n",
            "70/70 - 107s - loss: 2.2527 - accuracy: 0.1551 - val_loss: 2.1540 - val_accuracy: 0.2277 - _timestamp: 1648398965.0000 - _runtime: 113.0000 - 107s/epoch - 2s/step\n",
            "Epoch 2/20\n",
            "70/70 - 106s - loss: 2.1075 - accuracy: 0.2405 - val_loss: 2.0690 - val_accuracy: 0.2634 - _timestamp: 1648399071.0000 - _runtime: 219.0000 - 106s/epoch - 2s/step\n",
            "Epoch 3/20\n",
            "70/70 - 105s - loss: 2.0422 - accuracy: 0.2711 - val_loss: 2.0175 - val_accuracy: 0.2835 - _timestamp: 1648399176.0000 - _runtime: 324.0000 - 105s/epoch - 2s/step\n",
            "Epoch 4/20\n",
            "70/70 - 105s - loss: 1.9990 - accuracy: 0.2907 - val_loss: 2.0007 - val_accuracy: 0.2913 - _timestamp: 1648399281.0000 - _runtime: 429.0000 - 105s/epoch - 2s/step\n",
            "Epoch 5/20\n",
            "70/70 - 105s - loss: 1.9736 - accuracy: 0.3009 - val_loss: 1.9747 - val_accuracy: 0.3103 - _timestamp: 1648399424.0000 - _runtime: 572.0000 - 105s/epoch - 2s/step\n",
            "Epoch 6/20\n",
            "70/70 - 105s - loss: 1.9319 - accuracy: 0.3127 - val_loss: 1.9597 - val_accuracy: 0.3147 - _timestamp: 1648399529.0000 - _runtime: 677.0000 - 105s/epoch - 2s/step\n",
            "Epoch 7/20\n",
            "70/70 - 106s - loss: 1.8902 - accuracy: 0.3367 - val_loss: 1.9452 - val_accuracy: 0.3315 - _timestamp: 1648399635.0000 - _runtime: 783.0000 - 106s/epoch - 2s/step\n",
            "Epoch 8/20\n",
            "70/70 - 105s - loss: 1.8550 - accuracy: 0.3544 - val_loss: 1.9402 - val_accuracy: 0.3181 - _timestamp: 1648399740.0000 - _runtime: 888.0000 - 105s/epoch - 2s/step\n",
            "Epoch 9/20\n",
            "70/70 - 105s - loss: 1.8182 - accuracy: 0.3624 - val_loss: 1.9413 - val_accuracy: 0.3248 - _timestamp: 1648399845.0000 - _runtime: 993.0000 - 105s/epoch - 1s/step\n",
            "Epoch 10/20\n",
            "70/70 - 105s - loss: 1.7837 - accuracy: 0.3752 - val_loss: 1.9318 - val_accuracy: 0.3315 - _timestamp: 1648399987.0000 - _runtime: 1135.0000 - 105s/epoch - 1s/step\n",
            "Epoch 11/20\n",
            "70/70 - 105s - loss: 1.7398 - accuracy: 0.3957 - val_loss: 1.9146 - val_accuracy: 0.3426 - _timestamp: 1648400092.0000 - _runtime: 1240.0000 - 105s/epoch - 2s/step\n",
            "Epoch 12/20\n",
            "70/70 - 105s - loss: 1.7029 - accuracy: 0.4069 - val_loss: 1.9094 - val_accuracy: 0.3359 - _timestamp: 1648400197.0000 - _runtime: 1345.0000 - 105s/epoch - 2s/step\n",
            "Epoch 13/20\n",
            "70/70 - 105s - loss: 1.6366 - accuracy: 0.4333 - val_loss: 1.9573 - val_accuracy: 0.3449 - _timestamp: 1648400339.0000 - _runtime: 1487.0000 - 105s/epoch - 2s/step\n",
            "Epoch 14/20\n",
            "70/70 - 105s - loss: 1.5835 - accuracy: 0.4492 - val_loss: 1.9359 - val_accuracy: 0.3371 - _timestamp: 1648400445.0000 - _runtime: 1593.0000 - 105s/epoch - 2s/step\n",
            "Epoch 15/20\n",
            "70/70 - 106s - loss: 1.5199 - accuracy: 0.4767 - val_loss: 1.9100 - val_accuracy: 0.3549 - _timestamp: 1648400550.0000 - _runtime: 1698.0000 - 106s/epoch - 2s/step\n",
            "Epoch 16/20\n",
            "70/70 - 105s - loss: 1.4440 - accuracy: 0.4981 - val_loss: 1.9527 - val_accuracy: 0.3560 - _timestamp: 1648400691.0000 - _runtime: 1839.0000 - 105s/epoch - 1s/step\n",
            "Epoch 17/20\n",
            "70/70 - 104s - loss: 1.3374 - accuracy: 0.5337 - val_loss: 2.0849 - val_accuracy: 0.3214 - _timestamp: 1648400833.0000 - _runtime: 1981.0000 - 104s/epoch - 1s/step\n",
            "\n"
          ]
        },
        {
          "output_type": "display_data",
          "data": {
            "text/plain": [
              "<IPython.core.display.HTML object>"
            ],
            "text/html": [
              "Waiting for W&B process to finish... <strong style=\"color:green\">(success).</strong>"
            ]
          },
          "metadata": {}
        },
        {
          "output_type": "display_data",
          "data": {
            "text/plain": [
              "VBox(children=(Label(value='120.171 MB of 120.171 MB uploaded (0.000 MB deduped)\\r'), FloatProgress(value=1.0,…"
            ],
            "application/vnd.jupyter.widget-view+json": {
              "version_major": 2,
              "version_minor": 0,
              "model_id": "f17e8f64a6ca4c828b588da7c58491a4"
            }
          },
          "metadata": {}
        },
        {
          "output_type": "display_data",
          "data": {
            "text/plain": [
              "<IPython.core.display.HTML object>"
            ],
            "text/html": [
              "<style>\n",
              "    table.wandb td:nth-child(1) { padding: 0 10px; text-align: right }\n",
              "    .wandb-row { display: flex; flex-direction: row; flex-wrap: wrap; width: 100% }\n",
              "    .wandb-col { display: flex; flex-direction: column; flex-basis: 100%; flex: 1; padding: 10px; }\n",
              "    </style>\n",
              "<div class=\"wandb-row\"><div class=\"wandb-col\"><h3>Run history:</h3><br/><table class=\"wandb\"><tr><td>accuracy</td><td>▁▃▃▄▄▄▄▅▅▅▅▆▆▆▇▇█</td></tr><tr><td>epoch</td><td>▁▁▂▂▃▃▄▄▅▅▅▆▆▇▇██</td></tr><tr><td>loss</td><td>█▇▆▆▆▆▅▅▅▄▄▄▃▃▂▂▁</td></tr><tr><td>val_accuracy</td><td>▁▃▄▄▆▆▇▆▆▇▇▇▇▇██▆</td></tr><tr><td>val_loss</td><td>█▆▄▄▃▂▂▂▂▂▁▁▂▂▁▂▆</td></tr></table><br/></div><div class=\"wandb-col\"><h3>Run summary:</h3><br/><table class=\"wandb\"><tr><td>accuracy</td><td>0.5337</td></tr><tr><td>best_epoch</td><td>11</td></tr><tr><td>best_val_loss</td><td>1.90944</td></tr><tr><td>epoch</td><td>16</td></tr><tr><td>loss</td><td>1.33745</td></tr><tr><td>val_accuracy</td><td>0.32143</td></tr><tr><td>val_loss</td><td>2.08489</td></tr></table><br/></div></div>"
            ]
          },
          "metadata": {}
        },
        {
          "output_type": "display_data",
          "data": {
            "text/plain": [
              "<IPython.core.display.HTML object>"
            ],
            "text/html": [
              "Synced <strong style=\"color:#cdcd00\">classic-sweep-121</strong>: <a href=\"https://wandb.ai/anandh/DL_assignment_2/runs/9ilsjd3r\" target=\"_blank\">https://wandb.ai/anandh/DL_assignment_2/runs/9ilsjd3r</a><br/>Synced 5 W&B file(s), 612 media file(s), 0 artifact file(s) and 1 other file(s)"
            ]
          },
          "metadata": {}
        },
        {
          "output_type": "display_data",
          "data": {
            "text/plain": [
              "<IPython.core.display.HTML object>"
            ],
            "text/html": [
              "Find logs at: <code>./wandb/run-20220327_163412-9ilsjd3r/logs</code>"
            ]
          },
          "metadata": {}
        },
        {
          "output_type": "stream",
          "name": "stderr",
          "text": [
            "\u001b[34m\u001b[1mwandb\u001b[0m: Agent Starting Run: myb36z9w with config:\n",
            "\u001b[34m\u001b[1mwandb\u001b[0m: \taugment_data: True\n",
            "\u001b[34m\u001b[1mwandb\u001b[0m: \tbatch_normalisation: True\n",
            "\u001b[34m\u001b[1mwandb\u001b[0m: \tbatch_size: 64\n",
            "\u001b[34m\u001b[1mwandb\u001b[0m: \tdense_layer: 64\n",
            "\u001b[34m\u001b[1mwandb\u001b[0m: \tdropout: 0.15\n",
            "\u001b[34m\u001b[1mwandb\u001b[0m: \tfilter_convol_size: 3\n",
            "\u001b[34m\u001b[1mwandb\u001b[0m: \tno_of_filters: 64\n"
          ]
        },
        {
          "output_type": "display_data",
          "data": {
            "text/plain": [
              "<IPython.core.display.HTML object>"
            ],
            "text/html": [
              "Tracking run with wandb version 0.12.11"
            ]
          },
          "metadata": {}
        },
        {
          "output_type": "display_data",
          "data": {
            "text/plain": [
              "<IPython.core.display.HTML object>"
            ],
            "text/html": [
              "Run data is saved locally in <code>/content/wandb/run-20220327_170721-myb36z9w</code>"
            ]
          },
          "metadata": {}
        },
        {
          "output_type": "display_data",
          "data": {
            "text/plain": [
              "<IPython.core.display.HTML object>"
            ],
            "text/html": [
              "Syncing run <strong><a href=\"https://wandb.ai/anandh/DL_assignment_2/runs/myb36z9w\" target=\"_blank\">swift-sweep-122</a></strong> to <a href=\"https://wandb.ai/anandh/DL_assignment_2\" target=\"_blank\">Weights & Biases</a> (<a href=\"https://wandb.me/run\" target=\"_blank\">docs</a>)<br/>Sweep page:  <a href=\"https://wandb.ai/anandh/DL_assignment_2/sweeps/dhvdsf58\" target=\"_blank\">https://wandb.ai/anandh/DL_assignment_2/sweeps/dhvdsf58</a>"
            ]
          },
          "metadata": {}
        },
        {
          "output_type": "stream",
          "name": "stdout",
          "text": [
            "fil_[64, 128, 128, 256, 256]_aug_True_bs_64_bn_True_drop_0.15_fc_64_fil_64_shape_3\n",
            "Found 9000 images belonging to 10 classes.\n",
            "Found 999 images belonging to 10 classes.\n",
            "Found 2000 images belonging to 10 classes.\n",
            "Data Vaangiyachi\n",
            "Check 1\n",
            "Check 2\n",
            "1702346\n",
            "Training done\n",
            "140\n",
            "15\n",
            "Epoch 1/20\n",
            "140/140 - 217s - loss: 2.1886 - accuracy: 0.2163 - val_loss: 2.5238 - val_accuracy: 0.0979 - _timestamp: 1648401063.0000 - _runtime: 222.0000 - 217s/epoch - 2s/step\n",
            "Epoch 2/20\n",
            "140/140 - 214s - loss: 2.0725 - accuracy: 0.2679 - val_loss: 2.5334 - val_accuracy: 0.1156 - _timestamp: 1648401278.0000 - _runtime: 437.0000 - 214s/epoch - 2s/step\n",
            "Epoch 3/20\n",
            "140/140 - 214s - loss: 2.0134 - accuracy: 0.2849 - val_loss: 2.3747 - val_accuracy: 0.1677 - _timestamp: 1648401539.0000 - _runtime: 698.0000 - 214s/epoch - 2s/step\n",
            "Epoch 4/20\n",
            "140/140 - 215s - loss: 1.9735 - accuracy: 0.2987 - val_loss: 2.0137 - val_accuracy: 0.2969 - _timestamp: 1648401754.0000 - _runtime: 913.0000 - 215s/epoch - 2s/step\n",
            "Epoch 5/20\n",
            "140/140 - 217s - loss: 1.9506 - accuracy: 0.3093 - val_loss: 1.9407 - val_accuracy: 0.3250 - _timestamp: 1648402018.0000 - _runtime: 1177.0000 - 217s/epoch - 2s/step\n",
            "Epoch 6/20\n",
            "140/140 - 216s - loss: 1.9293 - accuracy: 0.3151 - val_loss: 1.9041 - val_accuracy: 0.3354 - _timestamp: 1648402279.0000 - _runtime: 1438.0000 - 216s/epoch - 2s/step\n",
            "Epoch 7/20\n",
            "140/140 - 214s - loss: 1.8889 - accuracy: 0.3264 - val_loss: 1.9515 - val_accuracy: 0.3125 - _timestamp: 1648402494.0000 - _runtime: 1653.0000 - 214s/epoch - 2s/step\n",
            "Epoch 8/20\n",
            "140/140 - 215s - loss: 1.8702 - accuracy: 0.3298 - val_loss: 1.9464 - val_accuracy: 0.3229 - _timestamp: 1648402708.0000 - _runtime: 1867.0000 - 215s/epoch - 2s/step\n",
            "Epoch 9/20\n",
            "140/140 - 216s - loss: 1.8607 - accuracy: 0.3397 - val_loss: 1.8507 - val_accuracy: 0.3458 - _timestamp: 1648402924.0000 - _runtime: 2083.0000 - 216s/epoch - 2s/step\n",
            "Epoch 10/20\n",
            "140/140 - 215s - loss: 1.8323 - accuracy: 0.3502 - val_loss: 1.8846 - val_accuracy: 0.3490 - _timestamp: 1648403140.0000 - _runtime: 2299.0000 - 215s/epoch - 2s/step\n",
            "Epoch 11/20\n",
            "140/140 - 215s - loss: 1.8244 - accuracy: 0.3575 - val_loss: 1.9161 - val_accuracy: 0.3313 - _timestamp: 1648403355.0000 - _runtime: 2514.0000 - 215s/epoch - 2s/step\n",
            "Epoch 12/20\n",
            "140/140 - 218s - loss: 1.7987 - accuracy: 0.3605 - val_loss: 1.8406 - val_accuracy: 0.3948 - _timestamp: 1648403572.0000 - _runtime: 2731.0000 - 218s/epoch - 2s/step\n",
            "Epoch 13/20\n",
            "140/140 - 215s - loss: 1.7896 - accuracy: 0.3693 - val_loss: 1.8627 - val_accuracy: 0.3552 - _timestamp: 1648403788.0000 - _runtime: 2947.0000 - 215s/epoch - 2s/step\n",
            "Epoch 14/20\n",
            "140/140 - 216s - loss: 1.7735 - accuracy: 0.3724 - val_loss: 1.8338 - val_accuracy: 0.3646 - _timestamp: 1648404003.0000 - _runtime: 3162.0000 - 216s/epoch - 2s/step\n",
            "Epoch 15/20\n",
            "140/140 - 216s - loss: 1.7547 - accuracy: 0.3804 - val_loss: 1.8132 - val_accuracy: 0.3719 - _timestamp: 1648404220.0000 - _runtime: 3379.0000 - 216s/epoch - 2s/step\n",
            "Epoch 16/20\n",
            "140/140 - 217s - loss: 1.7493 - accuracy: 0.3878 - val_loss: 1.8313 - val_accuracy: 0.3771 - _timestamp: 1648404437.0000 - _runtime: 3596.0000 - 217s/epoch - 2s/step\n",
            "Epoch 17/20\n",
            "140/140 - 218s - loss: 1.7208 - accuracy: 0.3910 - val_loss: 1.7836 - val_accuracy: 0.3917 - _timestamp: 1648404655.0000 - _runtime: 3814.0000 - 218s/epoch - 2s/step\n",
            "Epoch 18/20\n",
            "140/140 - 218s - loss: 1.7015 - accuracy: 0.3966 - val_loss: 1.8364 - val_accuracy: 0.3802 - _timestamp: 1648404873.0000 - _runtime: 4032.0000 - 218s/epoch - 2s/step\n",
            "Epoch 19/20\n",
            "140/140 - 218s - loss: 1.6887 - accuracy: 0.3996 - val_loss: 1.8100 - val_accuracy: 0.3927 - _timestamp: 1648405091.0000 - _runtime: 4250.0000 - 218s/epoch - 2s/step\n",
            "Epoch 20/20\n",
            "140/140 - 217s - loss: 1.6653 - accuracy: 0.4147 - val_loss: 2.0360 - val_accuracy: 0.3427 - _timestamp: 1648405308.0000 - _runtime: 4467.0000 - 217s/epoch - 2s/step\n",
            "\n"
          ]
        },
        {
          "output_type": "display_data",
          "data": {
            "text/plain": [
              "<IPython.core.display.HTML object>"
            ],
            "text/html": [
              "Waiting for W&B process to finish... <strong style=\"color:green\">(success).</strong>"
            ]
          },
          "metadata": {}
        },
        {
          "output_type": "display_data",
          "data": {
            "text/plain": [
              "VBox(children=(Label(value='101.877 MB of 101.877 MB uploaded (0.000 MB deduped)\\r'), FloatProgress(value=1.0,…"
            ],
            "application/vnd.jupyter.widget-view+json": {
              "version_major": 2,
              "version_minor": 0,
              "model_id": "964c66d16fa54220b22397c7ef18167b"
            }
          },
          "metadata": {}
        },
        {
          "output_type": "display_data",
          "data": {
            "text/plain": [
              "<IPython.core.display.HTML object>"
            ],
            "text/html": [
              "<style>\n",
              "    table.wandb td:nth-child(1) { padding: 0 10px; text-align: right }\n",
              "    .wandb-row { display: flex; flex-direction: row; flex-wrap: wrap; width: 100% }\n",
              "    .wandb-col { display: flex; flex-direction: column; flex-basis: 100%; flex: 1; padding: 10px; }\n",
              "    </style>\n",
              "<div class=\"wandb-row\"><div class=\"wandb-col\"><h3>Run history:</h3><br/><table class=\"wandb\"><tr><td>accuracy</td><td>▁▃▃▄▄▄▅▅▅▆▆▆▆▇▇▇▇▇▇█</td></tr><tr><td>epoch</td><td>▁▁▂▂▂▃▃▄▄▄▅▅▅▆▆▇▇▇██</td></tr><tr><td>loss</td><td>█▆▆▅▅▅▄▄▄▃▃▃▃▂▂▂▂▁▁▁</td></tr><tr><td>val_accuracy</td><td>▁▁▃▆▆▇▆▆▇▇▇█▇▇▇████▇</td></tr><tr><td>val_loss</td><td>██▇▃▂▂▃▃▂▂▂▂▂▁▁▁▁▁▁▃</td></tr></table><br/></div><div class=\"wandb-col\"><h3>Run summary:</h3><br/><table class=\"wandb\"><tr><td>accuracy</td><td>0.41473</td></tr><tr><td>best_epoch</td><td>16</td></tr><tr><td>best_val_loss</td><td>1.78361</td></tr><tr><td>epoch</td><td>19</td></tr><tr><td>loss</td><td>1.66533</td></tr><tr><td>val_accuracy</td><td>0.34271</td></tr><tr><td>val_loss</td><td>2.03603</td></tr></table><br/></div></div>"
            ]
          },
          "metadata": {}
        },
        {
          "output_type": "display_data",
          "data": {
            "text/plain": [
              "<IPython.core.display.HTML object>"
            ],
            "text/html": [
              "Synced <strong style=\"color:#cdcd00\">swift-sweep-122</strong>: <a href=\"https://wandb.ai/anandh/DL_assignment_2/runs/myb36z9w\" target=\"_blank\">https://wandb.ai/anandh/DL_assignment_2/runs/myb36z9w</a><br/>Synced 5 W&B file(s), 720 media file(s), 0 artifact file(s) and 1 other file(s)"
            ]
          },
          "metadata": {}
        },
        {
          "output_type": "display_data",
          "data": {
            "text/plain": [
              "<IPython.core.display.HTML object>"
            ],
            "text/html": [
              "Find logs at: <code>./wandb/run-20220327_170721-myb36z9w/logs</code>"
            ]
          },
          "metadata": {}
        },
        {
          "output_type": "stream",
          "name": "stderr",
          "text": [
            "\u001b[34m\u001b[1mwandb\u001b[0m: Sweep Agent: Waiting for job.\n",
            "\u001b[34m\u001b[1mwandb\u001b[0m: Job received.\n",
            "\u001b[34m\u001b[1mwandb\u001b[0m: Agent Starting Run: 72z4epu2 with config:\n",
            "\u001b[34m\u001b[1mwandb\u001b[0m: \taugment_data: True\n",
            "\u001b[34m\u001b[1mwandb\u001b[0m: \tbatch_normalisation: False\n",
            "\u001b[34m\u001b[1mwandb\u001b[0m: \tbatch_size: 64\n",
            "\u001b[34m\u001b[1mwandb\u001b[0m: \tdense_layer: 128\n",
            "\u001b[34m\u001b[1mwandb\u001b[0m: \tdropout: 0.15\n",
            "\u001b[34m\u001b[1mwandb\u001b[0m: \tfilter_convol_size: 5\n",
            "\u001b[34m\u001b[1mwandb\u001b[0m: \tno_of_filters: 64\n"
          ]
        },
        {
          "output_type": "display_data",
          "data": {
            "text/plain": [
              "<IPython.core.display.HTML object>"
            ],
            "text/html": [
              "Tracking run with wandb version 0.12.11"
            ]
          },
          "metadata": {}
        },
        {
          "output_type": "display_data",
          "data": {
            "text/plain": [
              "<IPython.core.display.HTML object>"
            ],
            "text/html": [
              "Run data is saved locally in <code>/content/wandb/run-20220327_182250-72z4epu2</code>"
            ]
          },
          "metadata": {}
        },
        {
          "output_type": "display_data",
          "data": {
            "text/plain": [
              "<IPython.core.display.HTML object>"
            ],
            "text/html": [
              "Syncing run <strong><a href=\"https://wandb.ai/anandh/DL_assignment_2/runs/72z4epu2\" target=\"_blank\">driven-sweep-123</a></strong> to <a href=\"https://wandb.ai/anandh/DL_assignment_2\" target=\"_blank\">Weights & Biases</a> (<a href=\"https://wandb.me/run\" target=\"_blank\">docs</a>)<br/>Sweep page:  <a href=\"https://wandb.ai/anandh/DL_assignment_2/sweeps/dhvdsf58\" target=\"_blank\">https://wandb.ai/anandh/DL_assignment_2/sweeps/dhvdsf58</a>"
            ]
          },
          "metadata": {}
        },
        {
          "output_type": "stream",
          "name": "stdout",
          "text": [
            "fil_[64, 128, 128, 256, 256]_aug_True_bs_64_bn_False_drop_0.15_fc_128_fil_64_shape_5\n",
            "Found 9000 images belonging to 10 classes.\n",
            "Found 999 images belonging to 10 classes.\n",
            "Found 2000 images belonging to 10 classes.\n",
            "Data Vaangiyachi\n",
            "Check 1\n",
            "Check 2\n",
            "3603338\n",
            "Training done\n",
            "140\n",
            "15\n",
            "Epoch 1/20\n",
            "140/140 - 219s - loss: 2.2438 - accuracy: 0.1529 - val_loss: 2.1645 - val_accuracy: 0.2042 - _timestamp: 1648405596.0000 - _runtime: 226.0000 - 219s/epoch - 2s/step\n",
            "Epoch 2/20\n",
            "140/140 - 217s - loss: 2.1429 - accuracy: 0.2150 - val_loss: 2.0995 - val_accuracy: 0.2354 - _timestamp: 1648405814.0000 - _runtime: 444.0000 - 217s/epoch - 2s/step\n",
            "Epoch 3/20\n",
            "140/140 - 217s - loss: 2.0816 - accuracy: 0.2476 - val_loss: 2.0817 - val_accuracy: 0.2271 - _timestamp: 1648406031.0000 - _runtime: 661.0000 - 217s/epoch - 2s/step\n",
            "Epoch 4/20\n",
            "140/140 - 217s - loss: 2.0356 - accuracy: 0.2638 - val_loss: 1.9900 - val_accuracy: 0.2958 - _timestamp: 1648406292.0000 - _runtime: 922.0000 - 217s/epoch - 2s/step\n",
            "Epoch 5/20\n",
            "140/140 - 218s - loss: 1.9890 - accuracy: 0.2900 - val_loss: 2.0333 - val_accuracy: 0.2792 - _timestamp: 1648406511.0000 - _runtime: 1141.0000 - 218s/epoch - 2s/step\n",
            "Epoch 6/20\n",
            "140/140 - 217s - loss: 1.9729 - accuracy: 0.2941 - val_loss: 1.9871 - val_accuracy: 0.2958 - _timestamp: 1648406728.0000 - _runtime: 1358.0000 - 217s/epoch - 2s/step\n",
            "Epoch 7/20\n",
            "140/140 - 217s - loss: 1.9394 - accuracy: 0.3075 - val_loss: 1.9704 - val_accuracy: 0.2875 - _timestamp: 1648406946.0000 - _runtime: 1576.0000 - 217s/epoch - 2s/step\n",
            "Epoch 8/20\n",
            "140/140 - 218s - loss: 1.9157 - accuracy: 0.3227 - val_loss: 1.9424 - val_accuracy: 0.3219 - _timestamp: 1648407164.0000 - _runtime: 1794.0000 - 218s/epoch - 2s/step\n",
            "Epoch 9/20\n",
            "140/140 - 216s - loss: 1.8997 - accuracy: 0.3278 - val_loss: 1.9343 - val_accuracy: 0.3000 - _timestamp: 1648407423.0000 - _runtime: 2053.0000 - 216s/epoch - 2s/step\n",
            "Epoch 10/20\n",
            "140/140 - 216s - loss: 1.8685 - accuracy: 0.3480 - val_loss: 1.9047 - val_accuracy: 0.3292 - _timestamp: 1648407639.0000 - _runtime: 2269.0000 - 216s/epoch - 2s/step\n",
            "Epoch 11/20\n",
            "140/140 - 216s - loss: 1.8452 - accuracy: 0.3527 - val_loss: 1.8777 - val_accuracy: 0.3542 - _timestamp: 1648407902.0000 - _runtime: 2532.0000 - 216s/epoch - 2s/step\n",
            "Epoch 12/20\n",
            "140/140 - 216s - loss: 1.8139 - accuracy: 0.3663 - val_loss: 1.8578 - val_accuracy: 0.3510 - _timestamp: 1648408164.0000 - _runtime: 2794.0000 - 216s/epoch - 2s/step\n",
            "Epoch 13/20\n",
            "140/140 - 216s - loss: 1.7912 - accuracy: 0.3682 - val_loss: 1.8495 - val_accuracy: 0.3427 - _timestamp: 1648408379.0000 - _runtime: 3009.0000 - 216s/epoch - 2s/step\n",
            "Epoch 14/20\n",
            "140/140 - 216s - loss: 1.7772 - accuracy: 0.3724 - val_loss: 1.8364 - val_accuracy: 0.3615 - _timestamp: 1648408595.0000 - _runtime: 3225.0000 - 216s/epoch - 2s/step\n",
            "Epoch 15/20\n",
            "140/140 - 216s - loss: 1.7434 - accuracy: 0.3900 - val_loss: 1.8246 - val_accuracy: 0.3552 - _timestamp: 1648408857.0000 - _runtime: 3487.0000 - 216s/epoch - 2s/step\n",
            "Epoch 16/20\n",
            "140/140 - 216s - loss: 1.7384 - accuracy: 0.3920 - val_loss: 1.8030 - val_accuracy: 0.3823 - _timestamp: 1648409072.0000 - _runtime: 3702.0000 - 216s/epoch - 2s/step\n",
            "Epoch 17/20\n",
            "140/140 - 215s - loss: 1.7161 - accuracy: 0.4034 - val_loss: 1.7868 - val_accuracy: 0.3802 - _timestamp: 1648409288.0000 - _runtime: 3918.0000 - 215s/epoch - 2s/step\n",
            "Epoch 18/20\n",
            "140/140 - 216s - loss: 1.6943 - accuracy: 0.4058 - val_loss: 1.8030 - val_accuracy: 0.3792 - _timestamp: 1648409504.0000 - _runtime: 4134.0000 - 216s/epoch - 2s/step\n",
            "Epoch 19/20\n",
            "140/140 - 216s - loss: 1.6795 - accuracy: 0.4124 - val_loss: 1.7799 - val_accuracy: 0.3875 - _timestamp: 1648409719.0000 - _runtime: 4349.0000 - 216s/epoch - 2s/step\n",
            "Epoch 20/20\n",
            "140/140 - 215s - loss: 1.6536 - accuracy: 0.4237 - val_loss: 1.8047 - val_accuracy: 0.3792 - _timestamp: 1648409980.0000 - _runtime: 4610.0000 - 215s/epoch - 2s/step\n",
            "\n"
          ]
        },
        {
          "output_type": "display_data",
          "data": {
            "text/plain": [
              "<IPython.core.display.HTML object>"
            ],
            "text/html": [
              "Waiting for W&B process to finish... <strong style=\"color:green\">(success).</strong>"
            ]
          },
          "metadata": {}
        },
        {
          "output_type": "display_data",
          "data": {
            "text/plain": [
              "VBox(children=(Label(value='124.574 MB of 124.574 MB uploaded (0.000 MB deduped)\\r'), FloatProgress(value=1.0,…"
            ],
            "application/vnd.jupyter.widget-view+json": {
              "version_major": 2,
              "version_minor": 0,
              "model_id": "90501739012846269ce8c2b21f0e728b"
            }
          },
          "metadata": {}
        },
        {
          "output_type": "display_data",
          "data": {
            "text/plain": [
              "<IPython.core.display.HTML object>"
            ],
            "text/html": [
              "<style>\n",
              "    table.wandb td:nth-child(1) { padding: 0 10px; text-align: right }\n",
              "    .wandb-row { display: flex; flex-direction: row; flex-wrap: wrap; width: 100% }\n",
              "    .wandb-col { display: flex; flex-direction: column; flex-basis: 100%; flex: 1; padding: 10px; }\n",
              "    </style>\n",
              "<div class=\"wandb-row\"><div class=\"wandb-col\"><h3>Run history:</h3><br/><table class=\"wandb\"><tr><td>accuracy</td><td>▁▃▃▄▅▅▅▅▆▆▆▇▇▇▇▇▇███</td></tr><tr><td>epoch</td><td>▁▁▂▂▂▃▃▄▄▄▅▅▅▆▆▇▇▇██</td></tr><tr><td>loss</td><td>█▇▆▆▅▅▄▄▄▄▃▃▃▂▂▂▂▁▁▁</td></tr><tr><td>val_accuracy</td><td>▁▂▂▄▄▄▄▅▅▆▇▇▆▇▇█████</td></tr><tr><td>val_loss</td><td>█▇▆▅▆▅▄▄▄▃▃▂▂▂▂▁▁▁▁▁</td></tr></table><br/></div><div class=\"wandb-col\"><h3>Run summary:</h3><br/><table class=\"wandb\"><tr><td>accuracy</td><td>0.42368</td></tr><tr><td>best_epoch</td><td>18</td></tr><tr><td>best_val_loss</td><td>1.77989</td></tr><tr><td>epoch</td><td>19</td></tr><tr><td>loss</td><td>1.65355</td></tr><tr><td>val_accuracy</td><td>0.37917</td></tr><tr><td>val_loss</td><td>1.8047</td></tr></table><br/></div></div>"
            ]
          },
          "metadata": {}
        },
        {
          "output_type": "display_data",
          "data": {
            "text/plain": [
              "<IPython.core.display.HTML object>"
            ],
            "text/html": [
              "Synced <strong style=\"color:#cdcd00\">driven-sweep-123</strong>: <a href=\"https://wandb.ai/anandh/DL_assignment_2/runs/72z4epu2\" target=\"_blank\">https://wandb.ai/anandh/DL_assignment_2/runs/72z4epu2</a><br/>Synced 5 W&B file(s), 720 media file(s), 0 artifact file(s) and 1 other file(s)"
            ]
          },
          "metadata": {}
        },
        {
          "output_type": "display_data",
          "data": {
            "text/plain": [
              "<IPython.core.display.HTML object>"
            ],
            "text/html": [
              "Find logs at: <code>./wandb/run-20220327_182250-72z4epu2/logs</code>"
            ]
          },
          "metadata": {}
        },
        {
          "output_type": "stream",
          "name": "stderr",
          "text": [
            "\u001b[34m\u001b[1mwandb\u001b[0m: Sweep Agent: Waiting for job.\n",
            "\u001b[34m\u001b[1mwandb\u001b[0m: Job received.\n",
            "\u001b[34m\u001b[1mwandb\u001b[0m: Agent Starting Run: yyp56emq with config:\n",
            "\u001b[34m\u001b[1mwandb\u001b[0m: \taugment_data: False\n",
            "\u001b[34m\u001b[1mwandb\u001b[0m: \tbatch_normalisation: False\n",
            "\u001b[34m\u001b[1mwandb\u001b[0m: \tbatch_size: 64\n",
            "\u001b[34m\u001b[1mwandb\u001b[0m: \tdense_layer: 128\n",
            "\u001b[34m\u001b[1mwandb\u001b[0m: \tdropout: 0.15\n",
            "\u001b[34m\u001b[1mwandb\u001b[0m: \tfilter_convol_size: 3\n",
            "\u001b[34m\u001b[1mwandb\u001b[0m: \tno_of_filters: 64\n"
          ]
        },
        {
          "output_type": "display_data",
          "data": {
            "text/plain": [
              "<IPython.core.display.HTML object>"
            ],
            "text/html": [
              "Tracking run with wandb version 0.12.11"
            ]
          },
          "metadata": {}
        },
        {
          "output_type": "display_data",
          "data": {
            "text/plain": [
              "<IPython.core.display.HTML object>"
            ],
            "text/html": [
              "Run data is saved locally in <code>/content/wandb/run-20220327_193957-yyp56emq</code>"
            ]
          },
          "metadata": {}
        },
        {
          "output_type": "display_data",
          "data": {
            "text/plain": [
              "<IPython.core.display.HTML object>"
            ],
            "text/html": [
              "Syncing run <strong><a href=\"https://wandb.ai/anandh/DL_assignment_2/runs/yyp56emq\" target=\"_blank\">woven-sweep-124</a></strong> to <a href=\"https://wandb.ai/anandh/DL_assignment_2\" target=\"_blank\">Weights & Biases</a> (<a href=\"https://wandb.me/run\" target=\"_blank\">docs</a>)<br/>Sweep page:  <a href=\"https://wandb.ai/anandh/DL_assignment_2/sweeps/dhvdsf58\" target=\"_blank\">https://wandb.ai/anandh/DL_assignment_2/sweeps/dhvdsf58</a>"
            ]
          },
          "metadata": {}
        },
        {
          "output_type": "stream",
          "name": "stdout",
          "text": [
            "fil_[64, 128, 128, 256, 256]_aug_False_bs_64_bn_False_drop_0.15_fc_128_fil_64_shape_3\n",
            "Found 9000 images belonging to 10 classes.\n",
            "Found 999 images belonging to 10 classes.\n",
            "Found 2000 images belonging to 10 classes.\n",
            "Data Vaangiyachi\n",
            "Check 1\n",
            "Check 2\n",
            "2289546\n",
            "Training done\n",
            "140\n",
            "15\n",
            "Epoch 1/20\n",
            "140/140 - 107s - loss: 2.2493 - accuracy: 0.1588 - val_loss: 2.1421 - val_accuracy: 0.2188 - _timestamp: 1648410110.0000 - _runtime: 113.0000 - 107s/epoch - 765ms/step\n",
            "Epoch 2/20\n",
            "140/140 - 105s - loss: 2.0690 - accuracy: 0.2593 - val_loss: 2.0591 - val_accuracy: 0.2667 - _timestamp: 1648410215.0000 - _runtime: 218.0000 - 105s/epoch - 753ms/step\n",
            "Epoch 3/20\n",
            "140/140 - 106s - loss: 1.9913 - accuracy: 0.2882 - val_loss: 2.0016 - val_accuracy: 0.3094 - _timestamp: 1648410321.0000 - _runtime: 324.0000 - 106s/epoch - 756ms/step\n",
            "Epoch 4/20\n",
            "140/140 - 105s - loss: 1.9412 - accuracy: 0.3174 - val_loss: 1.9636 - val_accuracy: 0.3094 - _timestamp: 1648410463.0000 - _runtime: 466.0000 - 105s/epoch - 753ms/step\n",
            "Epoch 5/20\n",
            "140/140 - 106s - loss: 1.8973 - accuracy: 0.3353 - val_loss: 1.9465 - val_accuracy: 0.2969 - _timestamp: 1648410568.0000 - _runtime: 571.0000 - 106s/epoch - 755ms/step\n",
            "Epoch 6/20\n",
            "140/140 - 106s - loss: 1.8592 - accuracy: 0.3452 - val_loss: 1.9079 - val_accuracy: 0.3323 - _timestamp: 1648410674.0000 - _runtime: 677.0000 - 106s/epoch - 755ms/step\n",
            "Epoch 7/20\n",
            "140/140 - 106s - loss: 1.8009 - accuracy: 0.3758 - val_loss: 1.8669 - val_accuracy: 0.3458 - _timestamp: 1648410816.0000 - _runtime: 819.0000 - 106s/epoch - 758ms/step\n",
            "Epoch 8/20\n",
            "140/140 - 106s - loss: 1.7663 - accuracy: 0.3863 - val_loss: 1.8650 - val_accuracy: 0.3427 - _timestamp: 1648410923.0000 - _runtime: 926.0000 - 106s/epoch - 758ms/step\n",
            "Epoch 9/20\n",
            "140/140 - 106s - loss: 1.6999 - accuracy: 0.4010 - val_loss: 1.8736 - val_accuracy: 0.3490 - _timestamp: 1648411028.0000 - _runtime: 1031.0000 - 106s/epoch - 755ms/step\n",
            "Epoch 10/20\n",
            "140/140 - 106s - loss: 1.6557 - accuracy: 0.4193 - val_loss: 1.9460 - val_accuracy: 0.3219 - _timestamp: 1648411134.0000 - _runtime: 1137.0000 - 106s/epoch - 757ms/step\n",
            "Epoch 11/20\n",
            "140/140 - 105s - loss: 1.6065 - accuracy: 0.4420 - val_loss: 1.8678 - val_accuracy: 0.3531 - _timestamp: 1648411276.0000 - _runtime: 1279.0000 - 105s/epoch - 752ms/step\n",
            "Epoch 12/20\n",
            "140/140 - 106s - loss: 1.5439 - accuracy: 0.4625 - val_loss: 1.8643 - val_accuracy: 0.3729 - _timestamp: 1648411382.0000 - _runtime: 1385.0000 - 106s/epoch - 758ms/step\n",
            "Epoch 13/20\n",
            "140/140 - 106s - loss: 1.4762 - accuracy: 0.4851 - val_loss: 1.8509 - val_accuracy: 0.3844 - _timestamp: 1648411487.0000 - _runtime: 1490.0000 - 106s/epoch - 755ms/step\n",
            "Epoch 14/20\n",
            "140/140 - 106s - loss: 1.3906 - accuracy: 0.5158 - val_loss: 1.8871 - val_accuracy: 0.3698 - _timestamp: 1648411594.0000 - _runtime: 1597.0000 - 106s/epoch - 757ms/step\n",
            "Epoch 15/20\n",
            "140/140 - 106s - loss: 1.3245 - accuracy: 0.5404 - val_loss: 1.9546 - val_accuracy: 0.3542 - _timestamp: 1648411735.0000 - _runtime: 1738.0000 - 106s/epoch - 756ms/step\n",
            "Epoch 16/20\n",
            "140/140 - 106s - loss: 1.2445 - accuracy: 0.5675 - val_loss: 1.9277 - val_accuracy: 0.3844 - _timestamp: 1648411877.0000 - _runtime: 1880.0000 - 106s/epoch - 755ms/step\n",
            "Epoch 17/20\n",
            "140/140 - 106s - loss: 1.1672 - accuracy: 0.5944 - val_loss: 1.9840 - val_accuracy: 0.3729 - _timestamp: 1648411983.0000 - _runtime: 1986.0000 - 106s/epoch - 757ms/step\n",
            "Epoch 18/20\n",
            "140/140 - 106s - loss: 1.0789 - accuracy: 0.6294 - val_loss: 2.0056 - val_accuracy: 0.3854 - _timestamp: 1648412089.0000 - _runtime: 2092.0000 - 106s/epoch - 755ms/step\n",
            "\n"
          ]
        },
        {
          "output_type": "display_data",
          "data": {
            "text/plain": [
              "<IPython.core.display.HTML object>"
            ],
            "text/html": [
              "Waiting for W&B process to finish... <strong style=\"color:green\">(success).</strong>"
            ]
          },
          "metadata": {}
        },
        {
          "output_type": "display_data",
          "data": {
            "text/plain": [
              "VBox(children=(Label(value='111.428 MB of 111.428 MB uploaded (0.000 MB deduped)\\r'), FloatProgress(value=1.0,…"
            ],
            "application/vnd.jupyter.widget-view+json": {
              "version_major": 2,
              "version_minor": 0,
              "model_id": "b611e4bc6129451998ba0d069d98c73f"
            }
          },
          "metadata": {}
        },
        {
          "output_type": "display_data",
          "data": {
            "text/plain": [
              "<IPython.core.display.HTML object>"
            ],
            "text/html": [
              "<style>\n",
              "    table.wandb td:nth-child(1) { padding: 0 10px; text-align: right }\n",
              "    .wandb-row { display: flex; flex-direction: row; flex-wrap: wrap; width: 100% }\n",
              "    .wandb-col { display: flex; flex-direction: column; flex-basis: 100%; flex: 1; padding: 10px; }\n",
              "    </style>\n",
              "<div class=\"wandb-row\"><div class=\"wandb-col\"><h3>Run history:</h3><br/><table class=\"wandb\"><tr><td>accuracy</td><td>▁▂▃▃▄▄▄▄▅▅▅▆▆▆▇▇▇█</td></tr><tr><td>epoch</td><td>▁▁▂▂▃▃▃▄▄▅▅▆▆▆▇▇██</td></tr><tr><td>loss</td><td>█▇▆▆▆▆▅▅▅▄▄▄▃▃▂▂▂▁</td></tr><tr><td>val_accuracy</td><td>▁▃▅▅▄▆▆▆▆▅▇▇█▇▇█▇█</td></tr><tr><td>val_loss</td><td>█▆▅▄▃▂▁▁▂▃▁▁▁▂▃▃▄▅</td></tr></table><br/></div><div class=\"wandb-col\"><h3>Run summary:</h3><br/><table class=\"wandb\"><tr><td>accuracy</td><td>0.62936</td></tr><tr><td>best_epoch</td><td>12</td></tr><tr><td>best_val_loss</td><td>1.8509</td></tr><tr><td>epoch</td><td>17</td></tr><tr><td>loss</td><td>1.07888</td></tr><tr><td>val_accuracy</td><td>0.38542</td></tr><tr><td>val_loss</td><td>2.00565</td></tr></table><br/></div></div>"
            ]
          },
          "metadata": {}
        },
        {
          "output_type": "display_data",
          "data": {
            "text/plain": [
              "<IPython.core.display.HTML object>"
            ],
            "text/html": [
              "Synced <strong style=\"color:#cdcd00\">woven-sweep-124</strong>: <a href=\"https://wandb.ai/anandh/DL_assignment_2/runs/yyp56emq\" target=\"_blank\">https://wandb.ai/anandh/DL_assignment_2/runs/yyp56emq</a><br/>Synced 5 W&B file(s), 648 media file(s), 0 artifact file(s) and 1 other file(s)"
            ]
          },
          "metadata": {}
        },
        {
          "output_type": "display_data",
          "data": {
            "text/plain": [
              "<IPython.core.display.HTML object>"
            ],
            "text/html": [
              "Find logs at: <code>./wandb/run-20220327_193957-yyp56emq/logs</code>"
            ]
          },
          "metadata": {}
        },
        {
          "output_type": "stream",
          "name": "stderr",
          "text": [
            "\u001b[34m\u001b[1mwandb\u001b[0m: Agent Starting Run: cfope7xw with config:\n",
            "\u001b[34m\u001b[1mwandb\u001b[0m: \taugment_data: False\n",
            "\u001b[34m\u001b[1mwandb\u001b[0m: \tbatch_normalisation: False\n",
            "\u001b[34m\u001b[1mwandb\u001b[0m: \tbatch_size: 128\n",
            "\u001b[34m\u001b[1mwandb\u001b[0m: \tdense_layer: 128\n",
            "\u001b[34m\u001b[1mwandb\u001b[0m: \tdropout: 0.15\n",
            "\u001b[34m\u001b[1mwandb\u001b[0m: \tfilter_convol_size: 3\n",
            "\u001b[34m\u001b[1mwandb\u001b[0m: \tno_of_filters: 64\n"
          ]
        },
        {
          "output_type": "display_data",
          "data": {
            "text/plain": [
              "<IPython.core.display.HTML object>"
            ],
            "text/html": [
              "Tracking run with wandb version 0.12.11"
            ]
          },
          "metadata": {}
        },
        {
          "output_type": "display_data",
          "data": {
            "text/plain": [
              "<IPython.core.display.HTML object>"
            ],
            "text/html": [
              "Run data is saved locally in <code>/content/wandb/run-20220327_201501-cfope7xw</code>"
            ]
          },
          "metadata": {}
        },
        {
          "output_type": "display_data",
          "data": {
            "text/plain": [
              "<IPython.core.display.HTML object>"
            ],
            "text/html": [
              "Syncing run <strong><a href=\"https://wandb.ai/anandh/DL_assignment_2/runs/cfope7xw\" target=\"_blank\">light-sweep-125</a></strong> to <a href=\"https://wandb.ai/anandh/DL_assignment_2\" target=\"_blank\">Weights & Biases</a> (<a href=\"https://wandb.me/run\" target=\"_blank\">docs</a>)<br/>Sweep page:  <a href=\"https://wandb.ai/anandh/DL_assignment_2/sweeps/dhvdsf58\" target=\"_blank\">https://wandb.ai/anandh/DL_assignment_2/sweeps/dhvdsf58</a>"
            ]
          },
          "metadata": {}
        },
        {
          "output_type": "stream",
          "name": "stdout",
          "text": [
            "fil_[64, 128, 128, 256, 256]_aug_False_bs_128_bn_False_drop_0.15_fc_128_fil_64_shape_3\n",
            "Found 9000 images belonging to 10 classes.\n",
            "Found 999 images belonging to 10 classes.\n",
            "Found 2000 images belonging to 10 classes.\n",
            "Data Vaangiyachi\n",
            "Check 1\n",
            "Check 2\n",
            "2289546\n",
            "Training done\n",
            "70\n",
            "7\n",
            "Epoch 1/20\n",
            "70/70 - 109s - loss: 2.2790 - accuracy: 0.1406 - val_loss: 2.1932 - val_accuracy: 0.1975 - _timestamp: 1648412216.0000 - _runtime: 114.0000 - 109s/epoch - 2s/step\n",
            "Epoch 2/20\n",
            "70/70 - 106s - loss: 2.1258 - accuracy: 0.2260 - val_loss: 2.0568 - val_accuracy: 0.2868 - _timestamp: 1648412356.0000 - _runtime: 254.0000 - 106s/epoch - 2s/step\n",
            "Epoch 3/20\n",
            "70/70 - 108s - loss: 2.0322 - accuracy: 0.2748 - val_loss: 2.0416 - val_accuracy: 0.2701 - _timestamp: 1648412464.0000 - _runtime: 362.0000 - 108s/epoch - 2s/step\n",
            "Epoch 4/20\n",
            "70/70 - 106s - loss: 1.9815 - accuracy: 0.2988 - val_loss: 2.0170 - val_accuracy: 0.2857 - _timestamp: 1648412570.0000 - _runtime: 468.0000 - 106s/epoch - 2s/step\n",
            "Epoch 5/20\n",
            "70/70 - 106s - loss: 1.9635 - accuracy: 0.3075 - val_loss: 1.9630 - val_accuracy: 0.3158 - _timestamp: 1648412676.0000 - _runtime: 574.0000 - 106s/epoch - 2s/step\n",
            "Epoch 6/20\n",
            "70/70 - 106s - loss: 1.9249 - accuracy: 0.3204 - val_loss: 1.9176 - val_accuracy: 0.3248 - _timestamp: 1648412818.0000 - _runtime: 716.0000 - 106s/epoch - 2s/step\n",
            "Epoch 7/20\n",
            "70/70 - 106s - loss: 1.8915 - accuracy: 0.3317 - val_loss: 1.9461 - val_accuracy: 0.3125 - _timestamp: 1648412924.0000 - _runtime: 822.0000 - 106s/epoch - 2s/step\n",
            "Epoch 8/20\n",
            "70/70 - 106s - loss: 1.8609 - accuracy: 0.3459 - val_loss: 1.8992 - val_accuracy: 0.3326 - _timestamp: 1648413031.0000 - _runtime: 929.0000 - 106s/epoch - 2s/step\n",
            "Epoch 9/20\n",
            "70/70 - 106s - loss: 1.8230 - accuracy: 0.3566 - val_loss: 1.9024 - val_accuracy: 0.3482 - _timestamp: 1648413136.0000 - _runtime: 1034.0000 - 106s/epoch - 2s/step\n",
            "Epoch 10/20\n",
            "70/70 - 106s - loss: 1.8048 - accuracy: 0.3667 - val_loss: 1.9192 - val_accuracy: 0.3382 - _timestamp: 1648413242.0000 - _runtime: 1140.0000 - 106s/epoch - 2s/step\n",
            "Epoch 11/20\n",
            "70/70 - 106s - loss: 1.7639 - accuracy: 0.3767 - val_loss: 1.8903 - val_accuracy: 0.3382 - _timestamp: 1648413348.0000 - _runtime: 1246.0000 - 106s/epoch - 2s/step\n",
            "Epoch 12/20\n",
            "70/70 - 106s - loss: 1.7303 - accuracy: 0.3930 - val_loss: 1.8617 - val_accuracy: 0.3493 - _timestamp: 1648413490.0000 - _runtime: 1388.0000 - 106s/epoch - 2s/step\n",
            "Epoch 13/20\n",
            "70/70 - 106s - loss: 1.6905 - accuracy: 0.4090 - val_loss: 1.8556 - val_accuracy: 0.3627 - _timestamp: 1648413596.0000 - _runtime: 1494.0000 - 106s/epoch - 2s/step\n",
            "Epoch 14/20\n",
            "70/70 - 106s - loss: 1.6676 - accuracy: 0.4202 - val_loss: 1.8771 - val_accuracy: 0.3460 - _timestamp: 1648413702.0000 - _runtime: 1600.0000 - 106s/epoch - 2s/step\n",
            "Epoch 15/20\n",
            "70/70 - 106s - loss: 1.6131 - accuracy: 0.4359 - val_loss: 1.8282 - val_accuracy: 0.3616 - _timestamp: 1648413808.0000 - _runtime: 1706.0000 - 106s/epoch - 2s/step\n",
            "Epoch 16/20\n",
            "70/70 - 106s - loss: 1.5573 - accuracy: 0.4545 - val_loss: 1.9135 - val_accuracy: 0.3504 - _timestamp: 1648413913.0000 - _runtime: 1811.0000 - 106s/epoch - 2s/step\n",
            "Epoch 17/20\n",
            "70/70 - 106s - loss: 1.5285 - accuracy: 0.4661 - val_loss: 1.9429 - val_accuracy: 0.3627 - _timestamp: 1648414019.0000 - _runtime: 1917.0000 - 106s/epoch - 2s/step\n",
            "Epoch 18/20\n",
            "70/70 - 106s - loss: 1.4711 - accuracy: 0.4929 - val_loss: 1.8467 - val_accuracy: 0.3839 - _timestamp: 1648414125.0000 - _runtime: 2023.0000 - 106s/epoch - 2s/step\n",
            "Epoch 19/20\n",
            "70/70 - 107s - loss: 1.4174 - accuracy: 0.5119 - val_loss: 1.8978 - val_accuracy: 0.3627 - _timestamp: 1648414268.0000 - _runtime: 2166.0000 - 107s/epoch - 2s/step\n",
            "Epoch 20/20\n",
            "70/70 - 106s - loss: 1.3593 - accuracy: 0.5254 - val_loss: 1.9524 - val_accuracy: 0.3438 - _timestamp: 1648414375.0000 - _runtime: 2273.0000 - 106s/epoch - 2s/step\n",
            "\n"
          ]
        },
        {
          "output_type": "display_data",
          "data": {
            "text/plain": [
              "<IPython.core.display.HTML object>"
            ],
            "text/html": [
              "Waiting for W&B process to finish... <strong style=\"color:green\">(success).</strong>"
            ]
          },
          "metadata": {}
        },
        {
          "output_type": "display_data",
          "data": {
            "text/plain": [
              "VBox(children=(Label(value='118.716 MB of 118.951 MB uploaded (0.000 MB deduped)\\r'), FloatProgress(value=0.99…"
            ],
            "application/vnd.jupyter.widget-view+json": {
              "version_major": 2,
              "version_minor": 0,
              "model_id": "06db42a6dc4d4a7a976738fd028d0b99"
            }
          },
          "metadata": {}
        },
        {
          "output_type": "display_data",
          "data": {
            "text/plain": [
              "<IPython.core.display.HTML object>"
            ],
            "text/html": [
              "<style>\n",
              "    table.wandb td:nth-child(1) { padding: 0 10px; text-align: right }\n",
              "    .wandb-row { display: flex; flex-direction: row; flex-wrap: wrap; width: 100% }\n",
              "    .wandb-col { display: flex; flex-direction: column; flex-basis: 100%; flex: 1; padding: 10px; }\n",
              "    </style>\n",
              "<div class=\"wandb-row\"><div class=\"wandb-col\"><h3>Run history:</h3><br/><table class=\"wandb\"><tr><td>accuracy</td><td>▁▃▃▄▄▄▄▅▅▅▅▆▆▆▆▇▇▇██</td></tr><tr><td>epoch</td><td>▁▁▂▂▂▃▃▄▄▄▅▅▅▆▆▇▇▇██</td></tr><tr><td>loss</td><td>█▇▆▆▆▅▅▅▅▄▄▄▄▃▃▃▂▂▁▁</td></tr><tr><td>val_accuracy</td><td>▁▄▄▄▅▆▅▆▇▆▆▇▇▇▇▇▇█▇▆</td></tr><tr><td>val_loss</td><td>█▅▅▅▄▃▃▂▂▃▂▂▂▂▁▃▃▁▂▃</td></tr></table><br/></div><div class=\"wandb-col\"><h3>Run summary:</h3><br/><table class=\"wandb\"><tr><td>accuracy</td><td>0.52545</td></tr><tr><td>best_epoch</td><td>14</td></tr><tr><td>best_val_loss</td><td>1.82824</td></tr><tr><td>epoch</td><td>19</td></tr><tr><td>loss</td><td>1.35932</td></tr><tr><td>val_accuracy</td><td>0.34375</td></tr><tr><td>val_loss</td><td>1.95243</td></tr></table><br/></div></div>"
            ]
          },
          "metadata": {}
        },
        {
          "output_type": "display_data",
          "data": {
            "text/plain": [
              "<IPython.core.display.HTML object>"
            ],
            "text/html": [
              "Synced <strong style=\"color:#cdcd00\">light-sweep-125</strong>: <a href=\"https://wandb.ai/anandh/DL_assignment_2/runs/cfope7xw\" target=\"_blank\">https://wandb.ai/anandh/DL_assignment_2/runs/cfope7xw</a><br/>Synced 5 W&B file(s), 720 media file(s), 0 artifact file(s) and 1 other file(s)"
            ]
          },
          "metadata": {}
        },
        {
          "output_type": "display_data",
          "data": {
            "text/plain": [
              "<IPython.core.display.HTML object>"
            ],
            "text/html": [
              "Find logs at: <code>./wandb/run-20220327_201501-cfope7xw/logs</code>"
            ]
          },
          "metadata": {}
        },
        {
          "output_type": "stream",
          "name": "stderr",
          "text": [
            "\u001b[34m\u001b[1mwandb\u001b[0m: Sweep Agent: Waiting for job.\n",
            "\u001b[34m\u001b[1mwandb\u001b[0m: Job received.\n",
            "\u001b[34m\u001b[1mwandb\u001b[0m: Agent Starting Run: 8a9gbqo9 with config:\n",
            "\u001b[34m\u001b[1mwandb\u001b[0m: \taugment_data: False\n",
            "\u001b[34m\u001b[1mwandb\u001b[0m: \tbatch_normalisation: True\n",
            "\u001b[34m\u001b[1mwandb\u001b[0m: \tbatch_size: 128\n",
            "\u001b[34m\u001b[1mwandb\u001b[0m: \tdense_layer: 128\n",
            "\u001b[34m\u001b[1mwandb\u001b[0m: \tdropout: 0.15\n",
            "\u001b[34m\u001b[1mwandb\u001b[0m: \tfilter_convol_size: 5\n",
            "\u001b[34m\u001b[1mwandb\u001b[0m: \tno_of_filters: 64\n"
          ]
        },
        {
          "output_type": "display_data",
          "data": {
            "text/plain": [
              "<IPython.core.display.HTML object>"
            ],
            "text/html": [
              "Tracking run with wandb version 0.12.11"
            ]
          },
          "metadata": {}
        },
        {
          "output_type": "display_data",
          "data": {
            "text/plain": [
              "<IPython.core.display.HTML object>"
            ],
            "text/html": [
              "Run data is saved locally in <code>/content/wandb/run-20220327_205332-8a9gbqo9</code>"
            ]
          },
          "metadata": {}
        },
        {
          "output_type": "display_data",
          "data": {
            "text/plain": [
              "<IPython.core.display.HTML object>"
            ],
            "text/html": [
              "Syncing run <strong><a href=\"https://wandb.ai/anandh/DL_assignment_2/runs/8a9gbqo9\" target=\"_blank\">rich-sweep-126</a></strong> to <a href=\"https://wandb.ai/anandh/DL_assignment_2\" target=\"_blank\">Weights & Biases</a> (<a href=\"https://wandb.me/run\" target=\"_blank\">docs</a>)<br/>Sweep page:  <a href=\"https://wandb.ai/anandh/DL_assignment_2/sweeps/dhvdsf58\" target=\"_blank\">https://wandb.ai/anandh/DL_assignment_2/sweeps/dhvdsf58</a>"
            ]
          },
          "metadata": {}
        },
        {
          "output_type": "stream",
          "name": "stdout",
          "text": [
            "fil_[64, 128, 128, 256, 256]_aug_False_bs_128_bn_True_drop_0.15_fc_128_fil_64_shape_5\n",
            "Found 9000 images belonging to 10 classes.\n",
            "Found 999 images belonging to 10 classes.\n",
            "Found 2000 images belonging to 10 classes.\n",
            "Data Vaangiyachi\n",
            "Check 1\n",
            "Check 2\n",
            "3606666\n",
            "Training done\n",
            "70\n",
            "7\n",
            "Epoch 1/20\n",
            "70/70 - 109s - loss: 2.1414 - accuracy: 0.2497 - val_loss: 2.3863 - val_accuracy: 0.1038 - _timestamp: 1648414528.0000 - _runtime: 116.0000 - 109s/epoch - 2s/step\n",
            "Epoch 2/20\n",
            "70/70 - 105s - loss: 1.8903 - accuracy: 0.3371 - val_loss: 2.4762 - val_accuracy: 0.1049 - _timestamp: 1648414666.0000 - _runtime: 254.0000 - 105s/epoch - 1s/step\n",
            "Epoch 3/20\n",
            "70/70 - 105s - loss: 1.7544 - accuracy: 0.3883 - val_loss: 2.4374 - val_accuracy: 0.1484 - _timestamp: 1648414771.0000 - _runtime: 359.0000 - 105s/epoch - 1s/step\n",
            "Epoch 4/20\n",
            "70/70 - 105s - loss: 1.5799 - accuracy: 0.4592 - val_loss: 2.4613 - val_accuracy: 0.1194 - _timestamp: 1648414876.0000 - _runtime: 464.0000 - 105s/epoch - 1s/step\n",
            "Epoch 5/20\n",
            "70/70 - 105s - loss: 1.4021 - accuracy: 0.5214 - val_loss: 2.4491 - val_accuracy: 0.1462 - _timestamp: 1648414981.0000 - _runtime: 569.0000 - 105s/epoch - 2s/step\n",
            "Epoch 6/20\n",
            "70/70 - 105s - loss: 1.2124 - accuracy: 0.5956 - val_loss: 2.5452 - val_accuracy: 0.1752 - _timestamp: 1648415086.0000 - _runtime: 674.0000 - 105s/epoch - 2s/step\n",
            "\n"
          ]
        },
        {
          "output_type": "display_data",
          "data": {
            "text/plain": [
              "<IPython.core.display.HTML object>"
            ],
            "text/html": [
              "Waiting for W&B process to finish... <strong style=\"color:green\">(success).</strong>"
            ]
          },
          "metadata": {}
        },
        {
          "output_type": "display_data",
          "data": {
            "text/plain": [
              "VBox(children=(Label(value='69.021 MB of 69.021 MB uploaded (0.000 MB deduped)\\r'), FloatProgress(value=1.0, m…"
            ],
            "application/vnd.jupyter.widget-view+json": {
              "version_major": 2,
              "version_minor": 0,
              "model_id": "e5fb58e4a4a648b0bad8016346799ff9"
            }
          },
          "metadata": {}
        },
        {
          "output_type": "display_data",
          "data": {
            "text/plain": [
              "<IPython.core.display.HTML object>"
            ],
            "text/html": [
              "<style>\n",
              "    table.wandb td:nth-child(1) { padding: 0 10px; text-align: right }\n",
              "    .wandb-row { display: flex; flex-direction: row; flex-wrap: wrap; width: 100% }\n",
              "    .wandb-col { display: flex; flex-direction: column; flex-basis: 100%; flex: 1; padding: 10px; }\n",
              "    </style>\n",
              "<div class=\"wandb-row\"><div class=\"wandb-col\"><h3>Run history:</h3><br/><table class=\"wandb\"><tr><td>accuracy</td><td>▁▃▄▅▆█</td></tr><tr><td>epoch</td><td>▁▂▄▅▇█</td></tr><tr><td>loss</td><td>█▆▅▄▂▁</td></tr><tr><td>val_accuracy</td><td>▁▁▅▃▅█</td></tr><tr><td>val_loss</td><td>▁▅▃▄▄█</td></tr></table><br/></div><div class=\"wandb-col\"><h3>Run summary:</h3><br/><table class=\"wandb\"><tr><td>accuracy</td><td>0.59558</td></tr><tr><td>best_epoch</td><td>0</td></tr><tr><td>best_val_loss</td><td>2.38629</td></tr><tr><td>epoch</td><td>5</td></tr><tr><td>loss</td><td>1.21239</td></tr><tr><td>val_accuracy</td><td>0.17522</td></tr><tr><td>val_loss</td><td>2.54516</td></tr></table><br/></div></div>"
            ]
          },
          "metadata": {}
        },
        {
          "output_type": "display_data",
          "data": {
            "text/plain": [
              "<IPython.core.display.HTML object>"
            ],
            "text/html": [
              "Synced <strong style=\"color:#cdcd00\">rich-sweep-126</strong>: <a href=\"https://wandb.ai/anandh/DL_assignment_2/runs/8a9gbqo9\" target=\"_blank\">https://wandb.ai/anandh/DL_assignment_2/runs/8a9gbqo9</a><br/>Synced 5 W&B file(s), 216 media file(s), 0 artifact file(s) and 1 other file(s)"
            ]
          },
          "metadata": {}
        },
        {
          "output_type": "display_data",
          "data": {
            "text/plain": [
              "<IPython.core.display.HTML object>"
            ],
            "text/html": [
              "Find logs at: <code>./wandb/run-20220327_205332-8a9gbqo9/logs</code>"
            ]
          },
          "metadata": {}
        },
        {
          "output_type": "stream",
          "name": "stderr",
          "text": [
            "\u001b[34m\u001b[1mwandb\u001b[0m: Agent Starting Run: gt62q56w with config:\n",
            "\u001b[34m\u001b[1mwandb\u001b[0m: \taugment_data: False\n",
            "\u001b[34m\u001b[1mwandb\u001b[0m: \tbatch_normalisation: True\n",
            "\u001b[34m\u001b[1mwandb\u001b[0m: \tbatch_size: 128\n",
            "\u001b[34m\u001b[1mwandb\u001b[0m: \tdense_layer: 128\n",
            "\u001b[34m\u001b[1mwandb\u001b[0m: \tdropout: 0.15\n",
            "\u001b[34m\u001b[1mwandb\u001b[0m: \tfilter_convol_size: 3\n",
            "\u001b[34m\u001b[1mwandb\u001b[0m: \tno_of_filters: 64\n"
          ]
        },
        {
          "output_type": "display_data",
          "data": {
            "text/plain": [
              "<IPython.core.display.HTML object>"
            ],
            "text/html": [
              "Tracking run with wandb version 0.12.11"
            ]
          },
          "metadata": {}
        },
        {
          "output_type": "display_data",
          "data": {
            "text/plain": [
              "<IPython.core.display.HTML object>"
            ],
            "text/html": [
              "Run data is saved locally in <code>/content/wandb/run-20220327_210525-gt62q56w</code>"
            ]
          },
          "metadata": {}
        },
        {
          "output_type": "display_data",
          "data": {
            "text/plain": [
              "<IPython.core.display.HTML object>"
            ],
            "text/html": [
              "Syncing run <strong><a href=\"https://wandb.ai/anandh/DL_assignment_2/runs/gt62q56w\" target=\"_blank\">glad-sweep-127</a></strong> to <a href=\"https://wandb.ai/anandh/DL_assignment_2\" target=\"_blank\">Weights & Biases</a> (<a href=\"https://wandb.me/run\" target=\"_blank\">docs</a>)<br/>Sweep page:  <a href=\"https://wandb.ai/anandh/DL_assignment_2/sweeps/dhvdsf58\" target=\"_blank\">https://wandb.ai/anandh/DL_assignment_2/sweeps/dhvdsf58</a>"
            ]
          },
          "metadata": {}
        },
        {
          "output_type": "stream",
          "name": "stdout",
          "text": [
            "fil_[64, 128, 128, 256, 256]_aug_False_bs_128_bn_True_drop_0.15_fc_128_fil_64_shape_3\n",
            "Found 9000 images belonging to 10 classes.\n",
            "Found 999 images belonging to 10 classes.\n",
            "Found 2000 images belonging to 10 classes.\n",
            "Data Vaangiyachi\n",
            "Check 1\n",
            "Check 2\n",
            "2292874\n",
            "Training done\n",
            "70\n",
            "7\n",
            "Epoch 1/20\n",
            "70/70 - 107s - loss: 2.1706 - accuracy: 0.2316 - val_loss: 2.3577 - val_accuracy: 0.1004 - _timestamp: 1648415239.0000 - _runtime: 114.0000 - 107s/epoch - 2s/step\n",
            "Epoch 2/20\n",
            "70/70 - 105s - loss: 1.9270 - accuracy: 0.3250 - val_loss: 2.4696 - val_accuracy: 0.1049 - _timestamp: 1648415344.0000 - _runtime: 219.0000 - 105s/epoch - 1s/step\n",
            "Epoch 3/20\n",
            "70/70 - 106s - loss: 1.8087 - accuracy: 0.3744 - val_loss: 2.5591 - val_accuracy: 0.1116 - _timestamp: 1648415450.0000 - _runtime: 325.0000 - 106s/epoch - 2s/step\n",
            "Epoch 4/20\n",
            "70/70 - 105s - loss: 1.6553 - accuracy: 0.4222 - val_loss: 2.5123 - val_accuracy: 0.1362 - _timestamp: 1648415555.0000 - _runtime: 430.0000 - 105s/epoch - 1s/step\n",
            "Epoch 5/20\n",
            "70/70 - 105s - loss: 1.5288 - accuracy: 0.4771 - val_loss: 2.5438 - val_accuracy: 0.1451 - _timestamp: 1648415660.0000 - _runtime: 535.0000 - 105s/epoch - 1s/step\n",
            "Epoch 6/20\n",
            "70/70 - 105s - loss: 1.3800 - accuracy: 0.5246 - val_loss: 2.3289 - val_accuracy: 0.2065 - _timestamp: 1648415802.0000 - _runtime: 677.0000 - 105s/epoch - 1s/step\n",
            "Epoch 7/20\n",
            "70/70 - 105s - loss: 1.2151 - accuracy: 0.6018 - val_loss: 2.3809 - val_accuracy: 0.2333 - _timestamp: 1648415907.0000 - _runtime: 782.0000 - 105s/epoch - 1s/step\n",
            "Epoch 8/20\n",
            "70/70 - 105s - loss: 1.0633 - accuracy: 0.6616 - val_loss: 1.9950 - val_accuracy: 0.3315 - _timestamp: 1648416011.0000 - _runtime: 886.0000 - 105s/epoch - 1s/step\n",
            "Epoch 9/20\n",
            "70/70 - 105s - loss: 0.9060 - accuracy: 0.7251 - val_loss: 1.9866 - val_accuracy: 0.3270 - _timestamp: 1648416154.0000 - _runtime: 1029.0000 - 105s/epoch - 2s/step\n",
            "Epoch 10/20\n",
            "70/70 - 105s - loss: 0.7622 - accuracy: 0.7866 - val_loss: 2.0594 - val_accuracy: 0.3058 - _timestamp: 1648416259.0000 - _runtime: 1134.0000 - 105s/epoch - 1s/step\n",
            "Epoch 11/20\n",
            "70/70 - 105s - loss: 0.6334 - accuracy: 0.8274 - val_loss: 2.0517 - val_accuracy: 0.3415 - _timestamp: 1648416401.0000 - _runtime: 1276.0000 - 105s/epoch - 1s/step\n",
            "Epoch 12/20\n",
            "70/70 - 105s - loss: 0.5251 - accuracy: 0.8756 - val_loss: 2.0321 - val_accuracy: 0.3359 - _timestamp: 1648416506.0000 - _runtime: 1381.0000 - 105s/epoch - 1s/step\n",
            "Epoch 13/20\n",
            "70/70 - 105s - loss: 0.4232 - accuracy: 0.9104 - val_loss: 2.0987 - val_accuracy: 0.3449 - _timestamp: 1648416611.0000 - _runtime: 1486.0000 - 105s/epoch - 1s/step\n",
            "Epoch 14/20\n",
            "70/70 - 105s - loss: 0.3572 - accuracy: 0.9281 - val_loss: 2.0728 - val_accuracy: 0.3493 - _timestamp: 1648416752.0000 - _runtime: 1627.0000 - 105s/epoch - 1s/step\n",
            "\n"
          ]
        },
        {
          "output_type": "display_data",
          "data": {
            "text/plain": [
              "<IPython.core.display.HTML object>"
            ],
            "text/html": [
              "Waiting for W&B process to finish... <strong style=\"color:green\">(success).</strong>"
            ]
          },
          "metadata": {}
        },
        {
          "output_type": "display_data",
          "data": {
            "text/plain": [
              "VBox(children=(Label(value='90.396 MB of 90.502 MB uploaded (0.000 MB deduped)\\r'), FloatProgress(value=0.9988…"
            ],
            "application/vnd.jupyter.widget-view+json": {
              "version_major": 2,
              "version_minor": 0,
              "model_id": "9093317c8b734dbbb5aaa6ac8ba9d8c9"
            }
          },
          "metadata": {}
        },
        {
          "output_type": "display_data",
          "data": {
            "text/plain": [
              "<IPython.core.display.HTML object>"
            ],
            "text/html": [
              "<style>\n",
              "    table.wandb td:nth-child(1) { padding: 0 10px; text-align: right }\n",
              "    .wandb-row { display: flex; flex-direction: row; flex-wrap: wrap; width: 100% }\n",
              "    .wandb-col { display: flex; flex-direction: column; flex-basis: 100%; flex: 1; padding: 10px; }\n",
              "    </style>\n",
              "<div class=\"wandb-row\"><div class=\"wandb-col\"><h3>Run history:</h3><br/><table class=\"wandb\"><tr><td>accuracy</td><td>▁▂▂▃▃▄▅▅▆▇▇▇██</td></tr><tr><td>epoch</td><td>▁▂▂▃▃▄▄▅▅▆▆▇▇█</td></tr><tr><td>loss</td><td>█▇▇▆▆▅▄▄▃▃▂▂▁▁</td></tr><tr><td>val_accuracy</td><td>▁▁▁▂▂▄▅▇▇▇████</td></tr><tr><td>val_loss</td><td>▆▇█▇█▅▆▁▁▂▂▂▂▂</td></tr></table><br/></div><div class=\"wandb-col\"><h3>Run summary:</h3><br/><table class=\"wandb\"><tr><td>accuracy</td><td>0.92809</td></tr><tr><td>best_epoch</td><td>8</td></tr><tr><td>best_val_loss</td><td>1.98655</td></tr><tr><td>epoch</td><td>13</td></tr><tr><td>loss</td><td>0.35716</td></tr><tr><td>val_accuracy</td><td>0.34933</td></tr><tr><td>val_loss</td><td>2.07284</td></tr></table><br/></div></div>"
            ]
          },
          "metadata": {}
        },
        {
          "output_type": "display_data",
          "data": {
            "text/plain": [
              "<IPython.core.display.HTML object>"
            ],
            "text/html": [
              "Synced <strong style=\"color:#cdcd00\">glad-sweep-127</strong>: <a href=\"https://wandb.ai/anandh/DL_assignment_2/runs/gt62q56w\" target=\"_blank\">https://wandb.ai/anandh/DL_assignment_2/runs/gt62q56w</a><br/>Synced 5 W&B file(s), 504 media file(s), 0 artifact file(s) and 1 other file(s)"
            ]
          },
          "metadata": {}
        },
        {
          "output_type": "display_data",
          "data": {
            "text/plain": [
              "<IPython.core.display.HTML object>"
            ],
            "text/html": [
              "Find logs at: <code>./wandb/run-20220327_210525-gt62q56w/logs</code>"
            ]
          },
          "metadata": {}
        }
      ],
      "source": [
        "# Sweep configuration\n",
        "sweep_config = {\n",
        "  \"name\": \"Sweep_trial_DL_assignment_2\",\n",
        "  \"metric\": {\n",
        "      \"name\":\"val_accuracy\",\n",
        "      \"goal\": \"maximize\"\n",
        "  },\n",
        "  \"method\": \"bayes\",\n",
        "  \"parameters\": {\n",
        "        \"augment_data\": {\n",
        "            \"values\": [True,False]\n",
        "        },\n",
        "        \"batch_size\": {\n",
        "            \"values\": [32,64,128]\n",
        "        },\n",
        "        \"batch_normalisation\": {\n",
        "            \"values\": [True,False]\n",
        "        },\n",
        "        \"dropout\": {\n",
        "            \"values\": [0,0.3,0.2,0.15]\n",
        "        },\n",
        "        \"no_of_filters\": {\n",
        "            \"values\": [32, 64]\n",
        "        },\n",
        "        \"dense_layer\": {\n",
        "            \"values\": [64,128]\n",
        "        },\n",
        "        \"filter_convol_size\": {\n",
        "            \"values\": [3,5,7],\n",
        "                    \n",
        "        }\n",
        "    }\n",
        "}\n",
        "\n",
        "# Generates a sweep id\n",
        "# sweep_id = wandb.sweep(sweep_config, project = 'DL-Assignment2-PartA-5April-2')\n",
        "# wandb.agent(sweep_id, function=CNN_train)\n",
        "\n",
        "# sweep_id = wandb.sweep(sweep_config, project=\"DL_assignment_2\")\n",
        "# wandb.agent(sweep_id, model_train , count=2)\n",
        "\n",
        "sweep_id =\"dhvdsf58\"\n",
        "wandb.agent(sweep_id, model_train, entity=\"anandh\", project = \"DL_assignment_2\", count = 10)\n"
      ]
    }
  ],
  "metadata": {
    "accelerator": "GPU",
    "colab": {
      "collapsed_sections": [],
      "machine_shape": "hm",
      "name": "Assignment_2_Part_A_Sweep.ipynb",
      "provenance": [],
      "include_colab_link": true
    },
    "kernelspec": {
      "display_name": "Python 3",
      "name": "python3"
    },
    "language_info": {
      "name": "python"
    }
  },
  "nbformat": 4,
  "nbformat_minor": 0
}